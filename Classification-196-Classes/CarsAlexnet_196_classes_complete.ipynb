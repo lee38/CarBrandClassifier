{
  "nbformat": 4,
  "nbformat_minor": 0,
  "metadata": {
    "accelerator": "GPU",
    "colab": {
      "name": "CarsAlexnet_196_classes_complete.ipynb",
      "provenance": [],
      "collapsed_sections": []
    },
    "kernelspec": {
      "display_name": "Python 3",
      "language": "python",
      "name": "python3"
    },
    "language_info": {
      "codemirror_mode": {
        "name": "ipython",
        "version": 3
      },
      "file_extension": ".py",
      "mimetype": "text/x-python",
      "name": "python",
      "nbconvert_exporter": "python",
      "pygments_lexer": "ipython3",
      "version": "3.8.8"
    }
  },
  "cells": [
    {
      "cell_type": "markdown",
      "metadata": {
        "id": "FMfNunisHYrL"
      },
      "source": [
        "## Alexnet w/ Stanford Cars Dataset (196 Classes)"
      ]
    },
    {
      "cell_type": "code",
      "metadata": {
        "colab": {
          "base_uri": "https://localhost:8080/"
        },
        "id": "qJDQomJvH-4r",
        "outputId": "c7a4ee35-3777-4eb3-c30e-b0dc97a1ccf2"
      },
      "source": [
        "from google.colab import drive\n",
        "drive.mount('/content/gdrive')"
      ],
      "execution_count": 1,
      "outputs": [
        {
          "output_type": "stream",
          "text": [
            "Drive already mounted at /content/gdrive; to attempt to forcibly remount, call drive.mount(\"/content/gdrive\", force_remount=True).\n"
          ],
          "name": "stdout"
        }
      ]
    },
    {
      "cell_type": "code",
      "metadata": {
        "id": "AJFXBEeoHYrN"
      },
      "source": [
        "# importing libraries\n",
        "import pandas as pd\n",
        "import numpy as np\n",
        "import matplotlib.pyplot as plt\n",
        "import cv2\n",
        "import tensorflow as tf\n",
        "\n",
        "import keras\n",
        "from keras.models import Sequential\n",
        "from keras.layers import Dense, Activation, Dropout, Flatten,Conv2D, MaxPool2D\n",
        "from keras.layers.normalization import BatchNormalization\n",
        "\n",
        "from tensorflow.keras.optimizers import SGD"
      ],
      "execution_count": 2,
      "outputs": []
    },
    {
      "cell_type": "code",
      "metadata": {
        "id": "VRfkbVjjcO4D"
      },
      "source": [
        "train_path = '/content/gdrive/MyDrive/Kaggle_StanfordCars/car_data/car_data/train'\n",
        "test_path = '/content/gdrive/MyDrive/Kaggle_StanfordCars/car_data/car_data/test'"
      ],
      "execution_count": 3,
      "outputs": []
    },
    {
      "cell_type": "code",
      "metadata": {
        "colab": {
          "base_uri": "https://localhost:8080/"
        },
        "id": "tiKe11WtpNPC",
        "outputId": "a6a7c872-da6f-4f33-eea9-f33edc341021"
      },
      "source": [
        "gen_params = {\"rescale\":1.0/255,\n",
        "              \"featurewise_center\":False,\n",
        "              \"samplewise_center\":False,\n",
        "              \"featurewise_std_normalization\":False,\n",
        "              \"samplewise_std_normalization\":False,\n",
        "              \"zca_whitening\":False,\n",
        "              \"rotation_range\":20,\n",
        "              \"width_shift_range\":0.1,\n",
        "              \"height_shift_range\":0.1,\n",
        "              \"shear_range\":0.2,\n",
        "              \"zoom_range\":0.1,\n",
        "              \"horizontal_flip\":True,\n",
        "              \"fill_mode\":'constant',\n",
        "              \"cval\": 0,\n",
        "              \"validation_split\":0.25}\n",
        "\n",
        "train_datagen = tf.keras.preprocessing.image.ImageDataGenerator(**gen_params)\n",
        "test_datagen = tf.keras.preprocessing.image.ImageDataGenerator(rescale = 1/255.0)\n",
        "\n",
        "\n",
        "## Data generator for training images\n",
        "train_generator = train_datagen.flow_from_directory(train_path,\n",
        "                                                    class_mode='categorical', batch_size = 32,\n",
        "                                                    target_size=(224,224),color_mode='rgb',shuffle = True,subset='training')\n",
        "\n",
        "val_generator = train_datagen.flow_from_directory(train_path,\n",
        "                                                    class_mode='categorical', batch_size = 32, \n",
        "                                                    target_size=(224,224),color_mode='rgb',shuffle = True,subset='validation')\n",
        "\n",
        "test_generator = test_datagen.flow_from_directory(test_path,\n",
        "                                                    class_mode='categorical', batch_size = 32,\n",
        "                                                    target_size=(224,224),color_mode='rgb',shuffle = True)"
      ],
      "execution_count": 4,
      "outputs": [
        {
          "output_type": "stream",
          "text": [
            "Found 6179 images belonging to 196 classes.\n",
            "Found 1965 images belonging to 196 classes.\n",
            "Found 8041 images belonging to 196 classes.\n"
          ],
          "name": "stdout"
        }
      ]
    },
    {
      "cell_type": "markdown",
      "metadata": {
        "id": "IIHJcEUlHYrV"
      },
      "source": [
        "<a id='implementation'></a>\n",
        "# Implementation"
      ]
    },
    {
      "cell_type": "code",
      "metadata": {
        "colab": {
          "base_uri": "https://localhost:8080/"
        },
        "id": "LbhuuwgjZ0RL",
        "outputId": "48c4a792-303f-457f-ed81-2ecafb31a541"
      },
      "source": [
        "model = Sequential(name=\"Alexnet_StanfordCars\")\n",
        "model.add(Conv2D(filters= 96, kernel_size= (11,11), strides=(4,4), padding='valid', input_shape = (224,224,3)))\n",
        "model.add(Activation('relu'))  \n",
        "model.add(MaxPool2D(pool_size=(3,3), strides= (2,2), padding='valid'))\n",
        "model.add(BatchNormalization())\n",
        "    \n",
        "model.add(Conv2D(filters=256, kernel_size=(5,5), strides=(1,1), padding='same'))\n",
        "model.add(Activation('relu'))\n",
        "model.add(MaxPool2D(pool_size=(3,3), strides=(2,2), padding='valid'))\n",
        "model.add(BatchNormalization())\n",
        "            \n",
        "model.add(Conv2D(filters=384, kernel_size=(3,3), strides=(1,1), padding='same'))\n",
        "model.add(Activation('relu'))\n",
        "model.add(BatchNormalization())\n",
        "        \n",
        "model.add(Conv2D(filters=384, kernel_size=(3,3), strides=(1,1), padding='same'))\n",
        "model.add(Activation('relu'))\n",
        "model.add(BatchNormalization())\n",
        "            \n",
        "model.add(Conv2D(filters=256, kernel_size=(3,3), strides=(1,1), padding='same'))\n",
        "model.add(Activation('relu'))\n",
        "model.add(BatchNormalization())\n",
        "model.add(MaxPool2D(pool_size=(3,3), strides=(2,2), padding='valid'))\n",
        "\n",
        "model.add(Flatten())\n",
        "\n",
        "model.add(Dense(units = 4096, activation = 'relu'))\n",
        "model.add(Dropout(0.5))\n",
        "\n",
        "model.add(Dense(units = 4096, activation = 'relu'))\n",
        "model.add(Dropout(0.5))\n",
        "                           \n",
        "model.add(Dense(units = 196, activation = 'softmax'))\n",
        "\n",
        "model.summary()"
      ],
      "execution_count": 5,
      "outputs": [
        {
          "output_type": "stream",
          "text": [
            "Model: \"Alexnet_StanfordCars\"\n",
            "_________________________________________________________________\n",
            "Layer (type)                 Output Shape              Param #   \n",
            "=================================================================\n",
            "conv2d (Conv2D)              (None, 54, 54, 96)        34944     \n",
            "_________________________________________________________________\n",
            "activation (Activation)      (None, 54, 54, 96)        0         \n",
            "_________________________________________________________________\n",
            "max_pooling2d (MaxPooling2D) (None, 26, 26, 96)        0         \n",
            "_________________________________________________________________\n",
            "batch_normalization (BatchNo (None, 26, 26, 96)        384       \n",
            "_________________________________________________________________\n",
            "conv2d_1 (Conv2D)            (None, 26, 26, 256)       614656    \n",
            "_________________________________________________________________\n",
            "activation_1 (Activation)    (None, 26, 26, 256)       0         \n",
            "_________________________________________________________________\n",
            "max_pooling2d_1 (MaxPooling2 (None, 12, 12, 256)       0         \n",
            "_________________________________________________________________\n",
            "batch_normalization_1 (Batch (None, 12, 12, 256)       1024      \n",
            "_________________________________________________________________\n",
            "conv2d_2 (Conv2D)            (None, 12, 12, 384)       885120    \n",
            "_________________________________________________________________\n",
            "activation_2 (Activation)    (None, 12, 12, 384)       0         \n",
            "_________________________________________________________________\n",
            "batch_normalization_2 (Batch (None, 12, 12, 384)       1536      \n",
            "_________________________________________________________________\n",
            "conv2d_3 (Conv2D)            (None, 12, 12, 384)       1327488   \n",
            "_________________________________________________________________\n",
            "activation_3 (Activation)    (None, 12, 12, 384)       0         \n",
            "_________________________________________________________________\n",
            "batch_normalization_3 (Batch (None, 12, 12, 384)       1536      \n",
            "_________________________________________________________________\n",
            "conv2d_4 (Conv2D)            (None, 12, 12, 256)       884992    \n",
            "_________________________________________________________________\n",
            "activation_4 (Activation)    (None, 12, 12, 256)       0         \n",
            "_________________________________________________________________\n",
            "batch_normalization_4 (Batch (None, 12, 12, 256)       1024      \n",
            "_________________________________________________________________\n",
            "max_pooling2d_2 (MaxPooling2 (None, 5, 5, 256)         0         \n",
            "_________________________________________________________________\n",
            "flatten (Flatten)            (None, 6400)              0         \n",
            "_________________________________________________________________\n",
            "dense (Dense)                (None, 4096)              26218496  \n",
            "_________________________________________________________________\n",
            "dropout (Dropout)            (None, 4096)              0         \n",
            "_________________________________________________________________\n",
            "dense_1 (Dense)              (None, 4096)              16781312  \n",
            "_________________________________________________________________\n",
            "dropout_1 (Dropout)          (None, 4096)              0         \n",
            "_________________________________________________________________\n",
            "dense_2 (Dense)              (None, 196)               803012    \n",
            "=================================================================\n",
            "Total params: 47,555,524\n",
            "Trainable params: 47,552,772\n",
            "Non-trainable params: 2,752\n",
            "_________________________________________________________________\n"
          ],
          "name": "stdout"
        }
      ]
    },
    {
      "cell_type": "code",
      "metadata": {
        "id": "RgG_bC5zHYrW"
      },
      "source": [
        "# set the SGD optimizer with lr of 0.01 and momentum of 0.9\n",
        "optimizer = SGD(lr = 0.01, momentum = 0.9)\n",
        "\n",
        "# compile the model\n",
        "model.compile(loss='categorical_crossentropy', optimizer=optimizer, metrics=['accuracy'])"
      ],
      "execution_count": 6,
      "outputs": []
    },
    {
      "cell_type": "code",
      "metadata": {
        "id": "uGLhynbNyLNk"
      },
      "source": [
        "model_name = \"alexnet_cars_2.h5\"\n",
        "early_stop = tf.keras.callbacks.EarlyStopping(monitor='val_loss', patience = 20)\n",
        "\n",
        "monitor = tf.keras.callbacks.ModelCheckpoint(model_name, monitor='val_loss',\\\n",
        "                                             verbose=0,save_best_only=True,\\\n",
        "                                             save_weights_only=True,\\\n",
        "                                             mode='min')\n",
        "# Learning rate schedule\n",
        "def scheduler(epoch, lr):\n",
        "    if epoch%4 == 0 and epoch!= 0:\n",
        "        lr = lr/2\n",
        "    return lr\n",
        "\n",
        "lr_schedule = tf.keras.callbacks.LearningRateScheduler(scheduler,verbose = 0)"
      ],
      "execution_count": 7,
      "outputs": []
    },
    {
      "cell_type": "code",
      "metadata": {
        "colab": {
          "base_uri": "https://localhost:8080/"
        },
        "id": "Yz8KBac6HYrW",
        "outputId": "99f1d171-2267-4d12-cde4-ed6524971d2e"
      },
      "source": [
        "# train the model\n",
        "batch = 128\n",
        "num_epochs = 100\n",
        "\n",
        "history = model.fit(train_generator,\n",
        "                    validation_data = val_generator,\n",
        "                    epochs=num_epochs,\n",
        "                    verbose=1,\n",
        "                    batch_size=batch,\n",
        "                    callbacks=[early_stop,monitor,lr_schedule])"
      ],
      "execution_count": 8,
      "outputs": [
        {
          "output_type": "stream",
          "text": [
            "Epoch 1/100\n",
            "194/194 [==============================] - 142s 700ms/step - loss: 7.1732 - accuracy: 0.0065 - val_loss: 5.3148 - val_accuracy: 0.0127\n",
            "Epoch 2/100\n",
            "194/194 [==============================] - 134s 689ms/step - loss: 5.3637 - accuracy: 0.0071 - val_loss: 5.2695 - val_accuracy: 0.0061\n",
            "Epoch 3/100\n",
            "194/194 [==============================] - 134s 691ms/step - loss: 5.3076 - accuracy: 0.0088 - val_loss: 5.2169 - val_accuracy: 0.0102\n",
            "Epoch 4/100\n",
            "194/194 [==============================] - 135s 694ms/step - loss: 5.2680 - accuracy: 0.0101 - val_loss: 5.2046 - val_accuracy: 0.0132\n",
            "Epoch 5/100\n",
            "194/194 [==============================] - 133s 687ms/step - loss: 5.2338 - accuracy: 0.0147 - val_loss: 5.1679 - val_accuracy: 0.0148\n",
            "Epoch 6/100\n",
            "194/194 [==============================] - 134s 688ms/step - loss: 5.1388 - accuracy: 0.0155 - val_loss: 5.1497 - val_accuracy: 0.0122\n",
            "Epoch 7/100\n",
            "194/194 [==============================] - 133s 688ms/step - loss: 5.0897 - accuracy: 0.0229 - val_loss: 5.1451 - val_accuracy: 0.0163\n",
            "Epoch 8/100\n",
            "194/194 [==============================] - 134s 689ms/step - loss: 5.0594 - accuracy: 0.0163 - val_loss: 5.1270 - val_accuracy: 0.0198\n",
            "Epoch 9/100\n",
            "194/194 [==============================] - 133s 687ms/step - loss: 5.0259 - accuracy: 0.0195 - val_loss: 5.1174 - val_accuracy: 0.0209\n",
            "Epoch 10/100\n",
            "194/194 [==============================] - 137s 707ms/step - loss: 4.9339 - accuracy: 0.0302 - val_loss: 5.0955 - val_accuracy: 0.0209\n",
            "Epoch 11/100\n",
            "194/194 [==============================] - 139s 716ms/step - loss: 4.9396 - accuracy: 0.0296 - val_loss: 5.1052 - val_accuracy: 0.0229\n",
            "Epoch 12/100\n",
            "194/194 [==============================] - 135s 695ms/step - loss: 4.8960 - accuracy: 0.0370 - val_loss: 5.0979 - val_accuracy: 0.0198\n",
            "Epoch 13/100\n",
            "194/194 [==============================] - 134s 692ms/step - loss: 4.8887 - accuracy: 0.0337 - val_loss: 5.0927 - val_accuracy: 0.0244\n",
            "Epoch 14/100\n",
            "194/194 [==============================] - 133s 684ms/step - loss: 4.8653 - accuracy: 0.0316 - val_loss: 5.0764 - val_accuracy: 0.0280\n",
            "Epoch 15/100\n",
            "194/194 [==============================] - 133s 686ms/step - loss: 4.8012 - accuracy: 0.0413 - val_loss: 5.0815 - val_accuracy: 0.0305\n",
            "Epoch 16/100\n",
            "194/194 [==============================] - 133s 686ms/step - loss: 4.7793 - accuracy: 0.0448 - val_loss: 5.0864 - val_accuracy: 0.0244\n",
            "Epoch 17/100\n",
            "194/194 [==============================] - 133s 685ms/step - loss: 4.7757 - accuracy: 0.0460 - val_loss: 5.0906 - val_accuracy: 0.0249\n",
            "Epoch 18/100\n",
            "194/194 [==============================] - 133s 687ms/step - loss: 4.7831 - accuracy: 0.0465 - val_loss: 5.0798 - val_accuracy: 0.0300\n",
            "Epoch 19/100\n",
            "194/194 [==============================] - 133s 686ms/step - loss: 4.7572 - accuracy: 0.0485 - val_loss: 5.0756 - val_accuracy: 0.0280\n",
            "Epoch 20/100\n",
            "194/194 [==============================] - 133s 686ms/step - loss: 4.7531 - accuracy: 0.0422 - val_loss: 5.0747 - val_accuracy: 0.0260\n",
            "Epoch 21/100\n",
            "194/194 [==============================] - 133s 687ms/step - loss: 4.7287 - accuracy: 0.0462 - val_loss: 5.0686 - val_accuracy: 0.0270\n",
            "Epoch 22/100\n",
            "194/194 [==============================] - 134s 689ms/step - loss: 4.7132 - accuracy: 0.0497 - val_loss: 5.0736 - val_accuracy: 0.0229\n",
            "Epoch 23/100\n",
            "194/194 [==============================] - 133s 689ms/step - loss: 4.7385 - accuracy: 0.0429 - val_loss: 5.0781 - val_accuracy: 0.0305\n",
            "Epoch 24/100\n",
            "194/194 [==============================] - 133s 687ms/step - loss: 4.7138 - accuracy: 0.0416 - val_loss: 5.0776 - val_accuracy: 0.0285\n",
            "Epoch 25/100\n",
            "194/194 [==============================] - 133s 688ms/step - loss: 4.6885 - accuracy: 0.0445 - val_loss: 5.0763 - val_accuracy: 0.0254\n",
            "Epoch 26/100\n",
            "194/194 [==============================] - 133s 688ms/step - loss: 4.6817 - accuracy: 0.0489 - val_loss: 5.0737 - val_accuracy: 0.0275\n",
            "Epoch 27/100\n",
            "194/194 [==============================] - 133s 687ms/step - loss: 4.6833 - accuracy: 0.0545 - val_loss: 5.0677 - val_accuracy: 0.0305\n",
            "Epoch 28/100\n",
            "194/194 [==============================] - 133s 688ms/step - loss: 4.6961 - accuracy: 0.0521 - val_loss: 5.0794 - val_accuracy: 0.0260\n",
            "Epoch 29/100\n",
            "194/194 [==============================] - 134s 692ms/step - loss: 4.7105 - accuracy: 0.0498 - val_loss: 5.0676 - val_accuracy: 0.0305\n",
            "Epoch 30/100\n",
            "194/194 [==============================] - 134s 693ms/step - loss: 4.6888 - accuracy: 0.0531 - val_loss: 5.0844 - val_accuracy: 0.0260\n",
            "Epoch 31/100\n",
            "194/194 [==============================] - 133s 689ms/step - loss: 4.6650 - accuracy: 0.0556 - val_loss: 5.0803 - val_accuracy: 0.0270\n",
            "Epoch 32/100\n",
            "194/194 [==============================] - 135s 698ms/step - loss: 4.6786 - accuracy: 0.0467 - val_loss: 5.0713 - val_accuracy: 0.0219\n",
            "Epoch 33/100\n",
            "194/194 [==============================] - 135s 695ms/step - loss: 4.6831 - accuracy: 0.0471 - val_loss: 5.0765 - val_accuracy: 0.0305\n",
            "Epoch 34/100\n",
            "194/194 [==============================] - 136s 703ms/step - loss: 4.6760 - accuracy: 0.0551 - val_loss: 5.0695 - val_accuracy: 0.0265\n",
            "Epoch 35/100\n",
            "194/194 [==============================] - 136s 702ms/step - loss: 4.6703 - accuracy: 0.0534 - val_loss: 5.0834 - val_accuracy: 0.0290\n",
            "Epoch 36/100\n",
            "194/194 [==============================] - 136s 700ms/step - loss: 4.6812 - accuracy: 0.0516 - val_loss: 5.0680 - val_accuracy: 0.0280\n",
            "Epoch 37/100\n",
            "194/194 [==============================] - 135s 699ms/step - loss: 4.6608 - accuracy: 0.0517 - val_loss: 5.0802 - val_accuracy: 0.0270\n",
            "Epoch 38/100\n",
            "194/194 [==============================] - 135s 697ms/step - loss: 4.6637 - accuracy: 0.0555 - val_loss: 5.0779 - val_accuracy: 0.0300\n",
            "Epoch 39/100\n",
            "194/194 [==============================] - 135s 699ms/step - loss: 4.6606 - accuracy: 0.0549 - val_loss: 5.0668 - val_accuracy: 0.0290\n",
            "Epoch 40/100\n",
            "194/194 [==============================] - 136s 701ms/step - loss: 4.6766 - accuracy: 0.0515 - val_loss: 5.0626 - val_accuracy: 0.0316\n",
            "Epoch 41/100\n",
            "194/194 [==============================] - 136s 703ms/step - loss: 4.6655 - accuracy: 0.0519 - val_loss: 5.0764 - val_accuracy: 0.0295\n",
            "Epoch 42/100\n",
            "194/194 [==============================] - 136s 700ms/step - loss: 4.6876 - accuracy: 0.0518 - val_loss: 5.0729 - val_accuracy: 0.0310\n",
            "Epoch 43/100\n",
            "194/194 [==============================] - 136s 701ms/step - loss: 4.6589 - accuracy: 0.0546 - val_loss: 5.0826 - val_accuracy: 0.0254\n",
            "Epoch 44/100\n",
            "194/194 [==============================] - 136s 700ms/step - loss: 4.6636 - accuracy: 0.0510 - val_loss: 5.0692 - val_accuracy: 0.0366\n",
            "Epoch 45/100\n",
            "194/194 [==============================] - 136s 702ms/step - loss: 4.7025 - accuracy: 0.0469 - val_loss: 5.0674 - val_accuracy: 0.0336\n",
            "Epoch 46/100\n",
            "194/194 [==============================] - 135s 696ms/step - loss: 4.6657 - accuracy: 0.0515 - val_loss: 5.0807 - val_accuracy: 0.0260\n",
            "Epoch 47/100\n",
            "194/194 [==============================] - 135s 697ms/step - loss: 4.6672 - accuracy: 0.0509 - val_loss: 5.0620 - val_accuracy: 0.0336\n",
            "Epoch 48/100\n",
            "194/194 [==============================] - 137s 705ms/step - loss: 4.6789 - accuracy: 0.0556 - val_loss: 5.0780 - val_accuracy: 0.0300\n",
            "Epoch 49/100\n",
            "194/194 [==============================] - 136s 702ms/step - loss: 4.6442 - accuracy: 0.0531 - val_loss: 5.0858 - val_accuracy: 0.0285\n",
            "Epoch 50/100\n",
            "194/194 [==============================] - 136s 702ms/step - loss: 4.6706 - accuracy: 0.0515 - val_loss: 5.0850 - val_accuracy: 0.0254\n",
            "Epoch 51/100\n",
            "194/194 [==============================] - 135s 699ms/step - loss: 4.6957 - accuracy: 0.0456 - val_loss: 5.0756 - val_accuracy: 0.0295\n",
            "Epoch 52/100\n",
            "194/194 [==============================] - 136s 701ms/step - loss: 4.6535 - accuracy: 0.0548 - val_loss: 5.0778 - val_accuracy: 0.0265\n",
            "Epoch 53/100\n",
            "194/194 [==============================] - 135s 696ms/step - loss: 4.6998 - accuracy: 0.0489 - val_loss: 5.0763 - val_accuracy: 0.0290\n",
            "Epoch 54/100\n",
            "194/194 [==============================] - 135s 695ms/step - loss: 4.6771 - accuracy: 0.0525 - val_loss: 5.0861 - val_accuracy: 0.0285\n",
            "Epoch 55/100\n",
            "194/194 [==============================] - 135s 695ms/step - loss: 4.6444 - accuracy: 0.0589 - val_loss: 5.0631 - val_accuracy: 0.0290\n",
            "Epoch 56/100\n",
            "194/194 [==============================] - 134s 694ms/step - loss: 4.6659 - accuracy: 0.0499 - val_loss: 5.0670 - val_accuracy: 0.0326\n",
            "Epoch 57/100\n",
            "194/194 [==============================] - 135s 695ms/step - loss: 4.6816 - accuracy: 0.0561 - val_loss: 5.0685 - val_accuracy: 0.0310\n",
            "Epoch 58/100\n",
            "194/194 [==============================] - 135s 694ms/step - loss: 4.6746 - accuracy: 0.0496 - val_loss: 5.0757 - val_accuracy: 0.0270\n",
            "Epoch 59/100\n",
            "194/194 [==============================] - 135s 694ms/step - loss: 4.6588 - accuracy: 0.0439 - val_loss: 5.0628 - val_accuracy: 0.0239\n",
            "Epoch 60/100\n",
            "194/194 [==============================] - 135s 695ms/step - loss: 4.6849 - accuracy: 0.0455 - val_loss: 5.0711 - val_accuracy: 0.0265\n",
            "Epoch 61/100\n",
            "194/194 [==============================] - 135s 694ms/step - loss: 4.6495 - accuracy: 0.0542 - val_loss: 5.0760 - val_accuracy: 0.0290\n",
            "Epoch 62/100\n",
            "194/194 [==============================] - 135s 695ms/step - loss: 4.6861 - accuracy: 0.0465 - val_loss: 5.0730 - val_accuracy: 0.0295\n",
            "Epoch 63/100\n",
            "194/194 [==============================] - 134s 693ms/step - loss: 4.6643 - accuracy: 0.0530 - val_loss: 5.0737 - val_accuracy: 0.0280\n",
            "Epoch 64/100\n",
            "194/194 [==============================] - 135s 695ms/step - loss: 4.6582 - accuracy: 0.0512 - val_loss: 5.0634 - val_accuracy: 0.0316\n",
            "Epoch 65/100\n",
            "194/194 [==============================] - 134s 694ms/step - loss: 4.6630 - accuracy: 0.0538 - val_loss: 5.0691 - val_accuracy: 0.0295\n",
            "Epoch 66/100\n",
            "194/194 [==============================] - 135s 695ms/step - loss: 4.6427 - accuracy: 0.0533 - val_loss: 5.0781 - val_accuracy: 0.0295\n",
            "Epoch 67/100\n",
            "194/194 [==============================] - 134s 694ms/step - loss: 4.6608 - accuracy: 0.0480 - val_loss: 5.0686 - val_accuracy: 0.0280\n"
          ],
          "name": "stdout"
        }
      ]
    },
    {
      "cell_type": "markdown",
      "metadata": {
        "id": "LVBu43GmHYrW"
      },
      "source": [
        "<a id='analyze'></a>\n",
        "# Analyze training history"
      ]
    },
    {
      "cell_type": "code",
      "metadata": {
        "colab": {
          "base_uri": "https://localhost:8080/"
        },
        "id": "axwnJNtoU8gV",
        "outputId": "c541121a-6ada-4f4a-8e11-b845a508c467"
      },
      "source": [
        "max(history.history['accuracy'])"
      ],
      "execution_count": 9,
      "outputs": [
        {
          "output_type": "execute_result",
          "data": {
            "text/plain": [
              "0.05502508580684662"
            ]
          },
          "metadata": {
            "tags": []
          },
          "execution_count": 9
        }
      ]
    },
    {
      "cell_type": "code",
      "metadata": {
        "colab": {
          "base_uri": "https://localhost:8080/"
        },
        "id": "6lv2ILejWv5K",
        "outputId": "29d8aa1f-c6c0-4595-a505-e7a6fa37dfe9"
      },
      "source": [
        "max(history.history['val_accuracy'])"
      ],
      "execution_count": 10,
      "outputs": [
        {
          "output_type": "execute_result",
          "data": {
            "text/plain": [
              "0.03664122149348259"
            ]
          },
          "metadata": {
            "tags": []
          },
          "execution_count": 10
        }
      ]
    },
    {
      "cell_type": "code",
      "metadata": {
        "id": "HKFg5WHoShey"
      },
      "source": [
        "plt.plot(history.history['loss'], label='train loss')\n",
        "plt.plot(history.history['val_loss'], label='val loss')\n",
        "plt.legend()\n",
        "plt.show()"
      ],
      "execution_count": null,
      "outputs": []
    },
    {
      "cell_type": "code",
      "metadata": {
        "colab": {
          "base_uri": "https://localhost:8080/",
          "height": 295
        },
        "id": "x_TkvpYYHYrW",
        "outputId": "3aec68a0-1afe-4652-a489-43a893a7e72b"
      },
      "source": [
        "plt.plot(history.history['accuracy'])\n",
        "plt.plot(history.history['val_accuracy'])\n",
        "plt.title('Model Accuracy')\n",
        "plt.ylabel('Accuracy')\n",
        "plt.xlabel('Epochs')\n",
        "plt.legend(['train', 'val'], loc='upper left')\n",
        "plt.show()"
      ],
      "execution_count": 11,
      "outputs": [
        {
          "output_type": "display_data",
          "data": {
            "image/png": "[encoded data removed]",
            "text/plain": [
              "<Figure size 432x288 with 1 Axes>"
            ]
          },
          "metadata": {
            "tags": [],
            "needs_background": "light"
          }
        }
      ]
    },
    {
      "cell_type": "markdown",
      "metadata": {
        "id": "tRJRV8u_HYrW"
      },
      "source": [
        "<a id='prediction'></a>\n",
        "# Prediction"
      ]
    },
    {
      "cell_type": "code",
      "metadata": {
        "colab": {
          "base_uri": "https://localhost:8080/"
        },
        "id": "GMjuq_pxy4K2",
        "outputId": "3470199d-725c-426d-db75-77e05725e405"
      },
      "source": [
        "print(model_name)"
      ],
      "execution_count": 12,
      "outputs": [
        {
          "output_type": "stream",
          "text": [
            "alexnet_cars_2.h5\n"
          ],
          "name": "stdout"
        }
      ]
    },
    {
      "cell_type": "code",
      "metadata": {
        "colab": {
          "base_uri": "https://localhost:8080/"
        },
        "id": "KMMXJ4b4ugkC",
        "outputId": "46bf2773-762e-4db8-cdbc-d9a74facb8e8"
      },
      "source": [
        "model.load_weights(model_name)\n",
        "metrics = model.evaluate(test_generator)"
      ],
      "execution_count": 13,
      "outputs": [
        {
          "output_type": "stream",
          "text": [
            "252/252 [==============================] - 2171s 9s/step - loss: 5.0365 - accuracy: 0.0295\n"
          ],
          "name": "stdout"
        }
      ]
    }
  ]
}