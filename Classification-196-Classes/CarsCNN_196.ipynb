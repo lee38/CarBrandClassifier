{
  "nbformat": 4,
  "nbformat_minor": 0,
  "metadata": {
    "accelerator": "GPU",
    "colab": {
      "name": "CarsCNN_196.ipynb",
      "provenance": [],
      "collapsed_sections": [],
      "machine_shape": "hm"
    },
    "kernelspec": {
      "display_name": "Python 3",
      "language": "python",
      "name": "python3"
    },
    "language_info": {
      "codemirror_mode": {
        "name": "ipython",
        "version": 3
      },
      "file_extension": ".py",
      "mimetype": "text/x-python",
      "name": "python",
      "nbconvert_exporter": "python",
      "pygments_lexer": "ipython3",
      "version": "3.8.8"
    }
  },
  "cells": [
    {
      "cell_type": "markdown",
      "metadata": {
        "id": "a90a8sE_abWS"
      },
      "source": [
        "# Assignment 02 - CIFAR10 Image Classification\n",
        "\n",
        "\n",
        "In this assignment your team will design a fully connected neural network and a convolutional neural network (CNN) models for classifiying the CIFAR10 image dataset. The deliverables for the assignment are:\n",
        "\n",
        "1. This jupyter-notebook completed with your solution. I expect you to try different configurations (models, train/validtion split, etc.), but for your submission, leave just the best fully connected and the best CNN models.\n",
        "    - Name the notebook as enel645_assignment02_team_(team number).ipynb\n",
        "2. The weights of your best fully connected neural network model and your best CNN model \n",
        "    - Name the weights files as team_(team number)_FCN.h5 (fully connected model) and team_(team number)_FCN.h5 (CNN model)\n",
        "\n",
        "Submit the three files (notebook + models' weights) to your dropbox in the course D2L page.\n",
        "    \n",
        "We will be using the CIFAR10 dataset. The dataset alerady comes with a test set and you shouldn't change it. It is up to you to determine how to split your development set into training and validation sets. Use variable names consistent with the variables pre-filled in this document.\n",
        "\n",
        "\n",
        "You are free to add extra cells of text and code to this notebook.\n",
        "\n",
        "At the end of the notebook, please include a short description of what each team member did in the assignment. Also include the consensus score between 0 and 3 to each team member. This score will be used to adjust the final \n",
        "grade of each student. Students developing the project individually do not need this description and score.\n",
        "\n",
        "You are being assessed based on:\n",
        "\n",
        "1. Code execution - 20% \n",
        "2. Clarity of the code (e.g., easy to follow, has pertinent comments, etc.) - 20%\n",
        "3. Proper usage of the techniques seen in class - 30% \n",
        "4. Accuracy of the models  - 30%\n"
      ]
    },
    {
      "cell_type": "code",
      "metadata": {
        "id": "PBR9mwL5aX6r"
      },
      "source": [
        "import pandas as pd\n",
        "import numpy as np\n",
        "import matplotlib.pyplot as plt\n",
        "\n",
        "import glob\n",
        "import cv2"
      ],
      "execution_count": null,
      "outputs": []
    },
    {
      "cell_type": "code",
      "metadata": {
        "id": "p_W9xySFFJls"
      },
      "source": [
        "import tensorflow as tf\n",
        "from tensorflow.keras import Sequential\n",
        "from tensorflow.keras.layers import Conv2D, Activation, MaxPool2D, BatchNormalization, Flatten, Dense, Dropout\n",
        "from tensorflow.keras.regularizers import l2\n",
        "from tensorflow.keras.callbacks import ReduceLROnPlateau\n",
        "from tensorflow.keras.optimizers import SGD\n",
        "\n",
        "import os\n",
        "import matplotlib.pyplot as plt\n",
        "import numpy as np\n",
        "import pandas as pd\n",
        "\n",
        "from PIL import Image\n",
        "from pathlib import Path\n",
        "from matplotlib.patches import Rectangle\n",
        "from scipy.io import loadmat"
      ],
      "execution_count": null,
      "outputs": []
    },
    {
      "cell_type": "code",
      "metadata": {
        "id": "BfVNLiqbS3Eo",
        "colab": {
          "base_uri": "https://localhost:8080/"
        },
        "outputId": "e9edc0e9-f4c3-4bb5-f461-9c32019dd0d1"
      },
      "source": [
        "from google.colab import drive\n",
        "drive.mount('/content/drive')\n"
      ],
      "execution_count": null,
      "outputs": [
        {
          "output_type": "stream",
          "text": [
            "Mounted at /content/drive\n"
          ],
          "name": "stdout"
        }
      ]
    },
    {
      "cell_type": "code",
      "metadata": {
        "id": "VSaevvP8FMyc"
      },
      "source": [
        "# devkit_path = Path('/Users/andrewlee/Desktop/645_Final/devkit')\n",
        "train_path = Path('/content/drive/MyDrive/ENEL645/Project/Data/cars_train')\n",
        "test_path = Path('/content/drive/MyDrive/ENEL645/Project/Data/cars_test')"
      ],
      "execution_count": null,
      "outputs": []
    },
    {
      "cell_type": "code",
      "metadata": {
        "id": "W94KecGabAoB"
      },
      "source": [
        "cars_meta = loadmat('/content/drive/MyDrive/ENEL645/Project/Data/cars_meta.mat')\n",
        "cars_train_annos = loadmat('/content/drive/MyDrive/ENEL645/Project/Data/cars_train_annos.mat')\n",
        "cars_test_annos = loadmat('/content/drive/MyDrive/ENEL645/Project/Data/cars_test_annos.mat')"
      ],
      "execution_count": null,
      "outputs": []
    },
    {
      "cell_type": "code",
      "metadata": {
        "id": "8d7vk1yVGMn8",
        "colab": {
          "base_uri": "https://localhost:8080/",
          "height": 198
        },
        "outputId": "ca9cee47-a992-4bbe-ef59-da2a3c2c644f"
      },
      "source": [
        "labels = [c for c in cars_meta['class_names'][0]]\n",
        "labels = pd.DataFrame(labels, columns=['labels'])\n",
        "labels.head()"
      ],
      "execution_count": null,
      "outputs": [
        {
          "output_type": "execute_result",
          "data": {
            "text/html": [
              "<div>\n",
              "<style scoped>\n",
              "    .dataframe tbody tr th:only-of-type {\n",
              "        vertical-align: middle;\n",
              "    }\n",
              "\n",
              "    .dataframe tbody tr th {\n",
              "        vertical-align: top;\n",
              "    }\n",
              "\n",
              "    .dataframe thead th {\n",
              "        text-align: right;\n",
              "    }\n",
              "</style>\n",
              "<table border=\"1\" class=\"dataframe\">\n",
              "  <thead>\n",
              "    <tr style=\"text-align: right;\">\n",
              "      <th></th>\n",
              "      <th>labels</th>\n",
              "    </tr>\n",
              "  </thead>\n",
              "  <tbody>\n",
              "    <tr>\n",
              "      <th>0</th>\n",
              "      <td>AM General Hummer SUV 2000</td>\n",
              "    </tr>\n",
              "    <tr>\n",
              "      <th>1</th>\n",
              "      <td>Acura RL Sedan 2012</td>\n",
              "    </tr>\n",
              "    <tr>\n",
              "      <th>2</th>\n",
              "      <td>Acura TL Sedan 2012</td>\n",
              "    </tr>\n",
              "    <tr>\n",
              "      <th>3</th>\n",
              "      <td>Acura TL Type-S 2008</td>\n",
              "    </tr>\n",
              "    <tr>\n",
              "      <th>4</th>\n",
              "      <td>Acura TSX Sedan 2012</td>\n",
              "    </tr>\n",
              "  </tbody>\n",
              "</table>\n",
              "</div>"
            ],
            "text/plain": [
              "                       labels\n",
              "0  AM General Hummer SUV 2000\n",
              "1         Acura RL Sedan 2012\n",
              "2         Acura TL Sedan 2012\n",
              "3        Acura TL Type-S 2008\n",
              "4        Acura TSX Sedan 2012"
            ]
          },
          "metadata": {
            "tags": []
          },
          "execution_count": 8
        }
      ]
    },
    {
      "cell_type": "code",
      "metadata": {
        "id": "SjhXwFmkS3Es",
        "colab": {
          "base_uri": "https://localhost:8080/",
          "height": 198
        },
        "outputId": "0da7617f-9a7e-41c9-a543-a0758e7021ae"
      },
      "source": [
        "frame = [[i.flat[0] for i in line] for line in cars_train_annos['annotations'][0]]\n",
        "columns = ['bbox_x1', 'bbox_y1', 'bbox_x2', 'bbox_y2', 'class', 'fname']\n",
        "df_train = pd.DataFrame(frame, columns=columns)\n",
        "df_train['class'] = df_train['class']-1 # Python indexing starts on zero.\n",
        "df_train['fname'] = [train_path/f for f in df_train['fname']] #  Appending Path\n",
        "df_train.head()"
      ],
      "execution_count": null,
      "outputs": [
        {
          "output_type": "execute_result",
          "data": {
            "text/html": [
              "<div>\n",
              "<style scoped>\n",
              "    .dataframe tbody tr th:only-of-type {\n",
              "        vertical-align: middle;\n",
              "    }\n",
              "\n",
              "    .dataframe tbody tr th {\n",
              "        vertical-align: top;\n",
              "    }\n",
              "\n",
              "    .dataframe thead th {\n",
              "        text-align: right;\n",
              "    }\n",
              "</style>\n",
              "<table border=\"1\" class=\"dataframe\">\n",
              "  <thead>\n",
              "    <tr style=\"text-align: right;\">\n",
              "      <th></th>\n",
              "      <th>bbox_x1</th>\n",
              "      <th>bbox_y1</th>\n",
              "      <th>bbox_x2</th>\n",
              "      <th>bbox_y2</th>\n",
              "      <th>class</th>\n",
              "      <th>fname</th>\n",
              "    </tr>\n",
              "  </thead>\n",
              "  <tbody>\n",
              "    <tr>\n",
              "      <th>0</th>\n",
              "      <td>39</td>\n",
              "      <td>116</td>\n",
              "      <td>569</td>\n",
              "      <td>375</td>\n",
              "      <td>13</td>\n",
              "      <td>/content/drive/MyDrive/ENEL645/Project/Data/ca...</td>\n",
              "    </tr>\n",
              "    <tr>\n",
              "      <th>1</th>\n",
              "      <td>36</td>\n",
              "      <td>116</td>\n",
              "      <td>868</td>\n",
              "      <td>587</td>\n",
              "      <td>2</td>\n",
              "      <td>/content/drive/MyDrive/ENEL645/Project/Data/ca...</td>\n",
              "    </tr>\n",
              "    <tr>\n",
              "      <th>2</th>\n",
              "      <td>85</td>\n",
              "      <td>109</td>\n",
              "      <td>601</td>\n",
              "      <td>381</td>\n",
              "      <td>90</td>\n",
              "      <td>/content/drive/MyDrive/ENEL645/Project/Data/ca...</td>\n",
              "    </tr>\n",
              "    <tr>\n",
              "      <th>3</th>\n",
              "      <td>621</td>\n",
              "      <td>393</td>\n",
              "      <td>1484</td>\n",
              "      <td>1096</td>\n",
              "      <td>133</td>\n",
              "      <td>/content/drive/MyDrive/ENEL645/Project/Data/ca...</td>\n",
              "    </tr>\n",
              "    <tr>\n",
              "      <th>4</th>\n",
              "      <td>14</td>\n",
              "      <td>36</td>\n",
              "      <td>133</td>\n",
              "      <td>99</td>\n",
              "      <td>105</td>\n",
              "      <td>/content/drive/MyDrive/ENEL645/Project/Data/ca...</td>\n",
              "    </tr>\n",
              "  </tbody>\n",
              "</table>\n",
              "</div>"
            ],
            "text/plain": [
              "   bbox_x1  bbox_y1  ...  class                                              fname\n",
              "0       39      116  ...     13  /content/drive/MyDrive/ENEL645/Project/Data/ca...\n",
              "1       36      116  ...      2  /content/drive/MyDrive/ENEL645/Project/Data/ca...\n",
              "2       85      109  ...     90  /content/drive/MyDrive/ENEL645/Project/Data/ca...\n",
              "3      621      393  ...    133  /content/drive/MyDrive/ENEL645/Project/Data/ca...\n",
              "4       14       36  ...    105  /content/drive/MyDrive/ENEL645/Project/Data/ca...\n",
              "\n",
              "[5 rows x 6 columns]"
            ]
          },
          "metadata": {
            "tags": []
          },
          "execution_count": 9
        }
      ]
    },
    {
      "cell_type": "code",
      "metadata": {
        "id": "mgbJHIBRS3Et",
        "colab": {
          "base_uri": "https://localhost:8080/",
          "height": 492
        },
        "outputId": "0a2d19fb-6252-4294-d43e-b4bce3197317"
      },
      "source": [
        "df_train = df_train.merge(labels, left_on='class', right_index=True)\n",
        "df_train = df_train.sort_index()\n",
        "df_train.head()"
      ],
      "execution_count": null,
      "outputs": [
        {
          "output_type": "execute_result",
          "data": {
            "text/html": [
              "<div>\n",
              "<style scoped>\n",
              "    .dataframe tbody tr th:only-of-type {\n",
              "        vertical-align: middle;\n",
              "    }\n",
              "\n",
              "    .dataframe tbody tr th {\n",
              "        vertical-align: top;\n",
              "    }\n",
              "\n",
              "    .dataframe thead th {\n",
              "        text-align: right;\n",
              "    }\n",
              "</style>\n",
              "<table border=\"1\" class=\"dataframe\">\n",
              "  <thead>\n",
              "    <tr style=\"text-align: right;\">\n",
              "      <th></th>\n",
              "      <th>bbox_x1</th>\n",
              "      <th>bbox_y1</th>\n",
              "      <th>bbox_x2</th>\n",
              "      <th>bbox_y2</th>\n",
              "      <th>class</th>\n",
              "      <th>fname</th>\n",
              "      <th>labels</th>\n",
              "    </tr>\n",
              "  </thead>\n",
              "  <tbody>\n",
              "    <tr>\n",
              "      <th>0</th>\n",
              "      <td>39</td>\n",
              "      <td>116</td>\n",
              "      <td>569</td>\n",
              "      <td>375</td>\n",
              "      <td>13</td>\n",
              "      <td>/content/drive/MyDrive/ENEL645/Project/Data/ca...</td>\n",
              "      <td>Audi TTS Coupe 2012</td>\n",
              "    </tr>\n",
              "    <tr>\n",
              "      <th>1</th>\n",
              "      <td>36</td>\n",
              "      <td>116</td>\n",
              "      <td>868</td>\n",
              "      <td>587</td>\n",
              "      <td>2</td>\n",
              "      <td>/content/drive/MyDrive/ENEL645/Project/Data/ca...</td>\n",
              "      <td>Acura TL Sedan 2012</td>\n",
              "    </tr>\n",
              "    <tr>\n",
              "      <th>2</th>\n",
              "      <td>85</td>\n",
              "      <td>109</td>\n",
              "      <td>601</td>\n",
              "      <td>381</td>\n",
              "      <td>90</td>\n",
              "      <td>/content/drive/MyDrive/ENEL645/Project/Data/ca...</td>\n",
              "      <td>Dodge Dakota Club Cab 2007</td>\n",
              "    </tr>\n",
              "    <tr>\n",
              "      <th>3</th>\n",
              "      <td>621</td>\n",
              "      <td>393</td>\n",
              "      <td>1484</td>\n",
              "      <td>1096</td>\n",
              "      <td>133</td>\n",
              "      <td>/content/drive/MyDrive/ENEL645/Project/Data/ca...</td>\n",
              "      <td>Hyundai Sonata Hybrid Sedan 2012</td>\n",
              "    </tr>\n",
              "    <tr>\n",
              "      <th>4</th>\n",
              "      <td>14</td>\n",
              "      <td>36</td>\n",
              "      <td>133</td>\n",
              "      <td>99</td>\n",
              "      <td>105</td>\n",
              "      <td>/content/drive/MyDrive/ENEL645/Project/Data/ca...</td>\n",
              "      <td>Ford F-450 Super Duty Crew Cab 2012</td>\n",
              "    </tr>\n",
              "  </tbody>\n",
              "</table>\n",
              "</div>"
            ],
            "text/plain": [
              "   bbox_x1  ...                               labels\n",
              "0       39  ...                  Audi TTS Coupe 2012\n",
              "1       36  ...                  Acura TL Sedan 2012\n",
              "2       85  ...           Dodge Dakota Club Cab 2007\n",
              "3      621  ...     Hyundai Sonata Hybrid Sedan 2012\n",
              "4       14  ...  Ford F-450 Super Duty Crew Cab 2012\n",
              "\n",
              "[5 rows x 7 columns]"
            ]
          },
          "metadata": {
            "tags": []
          },
          "execution_count": 10
        }
      ]
    },
    {
      "cell_type": "code",
      "metadata": {
        "id": "LaxTUlPuS3Et",
        "colab": {
          "base_uri": "https://localhost:8080/",
          "height": 198
        },
        "outputId": "5a4ae472-2d5b-4378-860a-53f381b55f3d"
      },
      "source": [
        "frame = [[i.flat[0] for i in line] for line in cars_test_annos['annotations'][0]]\n",
        "columns = ['bbox_x1', 'bbox_y1', 'bbox_x2', 'bbox_y2', 'fname']\n",
        "df_test = pd.DataFrame(frame, columns=columns)\n",
        "df_test['fname'] = [test_path/f for f in df_test['fname']] #  Appending Path\n",
        "df_test.head()"
      ],
      "execution_count": null,
      "outputs": [
        {
          "output_type": "execute_result",
          "data": {
            "text/html": [
              "<div>\n",
              "<style scoped>\n",
              "    .dataframe tbody tr th:only-of-type {\n",
              "        vertical-align: middle;\n",
              "    }\n",
              "\n",
              "    .dataframe tbody tr th {\n",
              "        vertical-align: top;\n",
              "    }\n",
              "\n",
              "    .dataframe thead th {\n",
              "        text-align: right;\n",
              "    }\n",
              "</style>\n",
              "<table border=\"1\" class=\"dataframe\">\n",
              "  <thead>\n",
              "    <tr style=\"text-align: right;\">\n",
              "      <th></th>\n",
              "      <th>bbox_x1</th>\n",
              "      <th>bbox_y1</th>\n",
              "      <th>bbox_x2</th>\n",
              "      <th>bbox_y2</th>\n",
              "      <th>fname</th>\n",
              "    </tr>\n",
              "  </thead>\n",
              "  <tbody>\n",
              "    <tr>\n",
              "      <th>0</th>\n",
              "      <td>30</td>\n",
              "      <td>52</td>\n",
              "      <td>246</td>\n",
              "      <td>147</td>\n",
              "      <td>/content/drive/MyDrive/ENEL645/Project/Data/ca...</td>\n",
              "    </tr>\n",
              "    <tr>\n",
              "      <th>1</th>\n",
              "      <td>100</td>\n",
              "      <td>19</td>\n",
              "      <td>576</td>\n",
              "      <td>203</td>\n",
              "      <td>/content/drive/MyDrive/ENEL645/Project/Data/ca...</td>\n",
              "    </tr>\n",
              "    <tr>\n",
              "      <th>2</th>\n",
              "      <td>51</td>\n",
              "      <td>105</td>\n",
              "      <td>968</td>\n",
              "      <td>659</td>\n",
              "      <td>/content/drive/MyDrive/ENEL645/Project/Data/ca...</td>\n",
              "    </tr>\n",
              "    <tr>\n",
              "      <th>3</th>\n",
              "      <td>67</td>\n",
              "      <td>84</td>\n",
              "      <td>581</td>\n",
              "      <td>407</td>\n",
              "      <td>/content/drive/MyDrive/ENEL645/Project/Data/ca...</td>\n",
              "    </tr>\n",
              "    <tr>\n",
              "      <th>4</th>\n",
              "      <td>140</td>\n",
              "      <td>151</td>\n",
              "      <td>593</td>\n",
              "      <td>339</td>\n",
              "      <td>/content/drive/MyDrive/ENEL645/Project/Data/ca...</td>\n",
              "    </tr>\n",
              "  </tbody>\n",
              "</table>\n",
              "</div>"
            ],
            "text/plain": [
              "   bbox_x1  bbox_y1  ...  bbox_y2                                              fname\n",
              "0       30       52  ...      147  /content/drive/MyDrive/ENEL645/Project/Data/ca...\n",
              "1      100       19  ...      203  /content/drive/MyDrive/ENEL645/Project/Data/ca...\n",
              "2       51      105  ...      659  /content/drive/MyDrive/ENEL645/Project/Data/ca...\n",
              "3       67       84  ...      407  /content/drive/MyDrive/ENEL645/Project/Data/ca...\n",
              "4      140      151  ...      339  /content/drive/MyDrive/ENEL645/Project/Data/ca...\n",
              "\n",
              "[5 rows x 5 columns]"
            ]
          },
          "metadata": {
            "tags": []
          },
          "execution_count": 11
        }
      ]
    },
    {
      "cell_type": "code",
      "metadata": {
        "id": "_HJ6cdwpS3Eu"
      },
      "source": [
        "# Returns (Image, title, rectangle patch) for drawing\n",
        "def get_assets(df, i):\n",
        "    is_train = df is df_train\n",
        "    folder = train_path if is_train else test_path\n",
        "    image = Image.open(df['fname'][i])\n",
        "    title = df['labels'][i] if is_train else 'Unclassified'\n",
        "\n",
        "    xy = df['bbox_x1'][i], df['bbox_y1'][i]\n",
        "    width = df['bbox_x2'][i] - df['bbox_x1'][i]\n",
        "    height = df['bbox_y2'][i] - df['bbox_y1'][i]\n",
        "    rect = Rectangle(xy, width, height, fill=False, color='r', linewidth=2)\n",
        "    \n",
        "    return (image, title, rect)"
      ],
      "execution_count": null,
      "outputs": []
    },
    {
      "cell_type": "code",
      "metadata": {
        "id": "0GJ17auPS3Eu"
      },
      "source": [
        "def display_image(df, i):\n",
        "    image, title, rect = get_assets(df, i)\n",
        "    print(title)\n",
        "\n",
        "    plt.imshow(image)\n",
        "    plt.axis('off')\n",
        "    plt.title(title)\n",
        "    plt.gca().add_patch(rect)"
      ],
      "execution_count": null,
      "outputs": []
    },
    {
      "cell_type": "markdown",
      "metadata": {
        "id": "8wZW0PY0S3Ez"
      },
      "source": [
        "## Convolutional Model\n",
        "\n",
        "## 5. Define your  model, cost function, optimizer, learning rate"
      ]
    },
    {
      "cell_type": "code",
      "metadata": {
        "id": "2mtz40L3cO63"
      },
      "source": [
        "def display_range(end, start = 0):\n",
        "\n",
        "    n = end - start\n",
        "    fig, ax = plt.subplots(n, 2, figsize=(15, 5*end))\n",
        "\n",
        "    for i in range(start, end):\n",
        "        line = i - start\n",
        "        \n",
        "        im, title, rect = get_assets(df_train, i)\n",
        "        sub = ax[line, 0]\n",
        "        sub.imshow(im)\n",
        "        sub.axis('off')\n",
        "        sub.set_title(title)\n",
        "        sub.add_patch(rect)\n",
        "        \n",
        "        im, title, rect = get_assets(df_test, i)\n",
        "        sub = ax[line, 1]\n",
        "        sub.imshow(im)\n",
        "        sub.axis('off')\n",
        "        sub.set_title(title)\n",
        "        sub.add_patch(rect)\n",
        "        "
      ],
      "execution_count": null,
      "outputs": []
    },
    {
      "cell_type": "code",
      "metadata": {
        "colab": {
          "base_uri": "https://localhost:8080/",
          "height": 228
        },
        "id": "Vho8-ByhE1kd",
        "outputId": "85e6b70a-9b23-4590-ffcd-e0bcc0b23e17"
      },
      "source": [
        "freq_labels = df_train.groupby('labels').count()[['class']]\n",
        "freq_labels = freq_labels.rename(columns={'class': 'count'})\n",
        "freq_labels = freq_labels.sort_values(by='count', ascending=False)\n",
        "freq_labels.head()"
      ],
      "execution_count": null,
      "outputs": [
        {
          "output_type": "execute_result",
          "data": {
            "text/html": [
              "<div>\n",
              "<style scoped>\n",
              "    .dataframe tbody tr th:only-of-type {\n",
              "        vertical-align: middle;\n",
              "    }\n",
              "\n",
              "    .dataframe tbody tr th {\n",
              "        vertical-align: top;\n",
              "    }\n",
              "\n",
              "    .dataframe thead th {\n",
              "        text-align: right;\n",
              "    }\n",
              "</style>\n",
              "<table border=\"1\" class=\"dataframe\">\n",
              "  <thead>\n",
              "    <tr style=\"text-align: right;\">\n",
              "      <th></th>\n",
              "      <th>count</th>\n",
              "    </tr>\n",
              "    <tr>\n",
              "      <th>labels</th>\n",
              "      <th></th>\n",
              "    </tr>\n",
              "  </thead>\n",
              "  <tbody>\n",
              "    <tr>\n",
              "      <th>GMC Savana Van 2012</th>\n",
              "      <td>68</td>\n",
              "    </tr>\n",
              "    <tr>\n",
              "      <th>Chrysler 300 SRT-8 2010</th>\n",
              "      <td>49</td>\n",
              "    </tr>\n",
              "    <tr>\n",
              "      <th>Mercedes-Benz 300-Class Convertible 1993</th>\n",
              "      <td>48</td>\n",
              "    </tr>\n",
              "    <tr>\n",
              "      <th>Mitsubishi Lancer Sedan 2012</th>\n",
              "      <td>48</td>\n",
              "    </tr>\n",
              "    <tr>\n",
              "      <th>Jaguar XK XKR 2012</th>\n",
              "      <td>47</td>\n",
              "    </tr>\n",
              "  </tbody>\n",
              "</table>\n",
              "</div>"
            ],
            "text/plain": [
              "                                          count\n",
              "labels                                         \n",
              "GMC Savana Van 2012                          68\n",
              "Chrysler 300 SRT-8 2010                      49\n",
              "Mercedes-Benz 300-Class Convertible 1993     48\n",
              "Mitsubishi Lancer Sedan 2012                 48\n",
              "Jaguar XK XKR 2012                           47"
            ]
          },
          "metadata": {
            "tags": []
          },
          "execution_count": 15
        }
      ]
    },
    {
      "cell_type": "code",
      "metadata": {
        "colab": {
          "base_uri": "https://localhost:8080/",
          "height": 700
        },
        "id": "v4sohIuF3Gr9",
        "outputId": "550b918a-4e30-4cdf-c370-6eee5e084b96"
      },
      "source": [
        "freq_labels.head(50).plot.bar(figsize=(15,10))\n",
        "plt.xticks(rotation=90);\n",
        "plt.xlabel(\"Cars\");\n",
        "plt.ylabel(\"Count\");"
      ],
      "execution_count": null,
      "outputs": [
        {
          "output_type": "display_data",
          "data": {
            "image/png": "[encoded data removed]",
            "text/plain": [
              "<Figure size 1080x720 with 1 Axes>"
            ]
          },
          "metadata": {
            "tags": [],
            "needs_background": "light"
          }
        }
      ]
    },
    {
      "cell_type": "markdown",
      "metadata": {
        "id": "XpbXyCGXS3Ez"
      },
      "source": [
        "## 6. Define your callbacks (save your model, patience, etc.)"
      ]
    },
    {
      "cell_type": "code",
      "metadata": {
        "id": "kdqbNPA0S3E0"
      },
      "source": [
        "names = pd.read_csv('/content/drive/MyDrive/ENEL645/Project/Data/names.csv')\n",
        "names = names.values"
      ],
      "execution_count": null,
      "outputs": []
    },
    {
      "cell_type": "markdown",
      "metadata": {
        "id": "WyWNvjbhS3E0"
      },
      "source": [
        "## 7. Train your model"
      ]
    },
    {
      "cell_type": "code",
      "metadata": {
        "id": "9RDf5RCYS3E0"
      },
      "source": [
        "np.random.shuffle(names)"
      ],
      "execution_count": null,
      "outputs": []
    },
    {
      "cell_type": "markdown",
      "metadata": {
        "id": "w12M_9fjS3E0"
      },
      "source": [
        "## 8. Test your model"
      ]
    },
    {
      "cell_type": "code",
      "metadata": {
        "id": "PGLLXC9KS3E0"
      },
      "source": [
        "nr_cars = 195"
      ],
      "execution_count": null,
      "outputs": []
    },
    {
      "cell_type": "code",
      "metadata": {
        "id": "rhtu1Dwdy0M8"
      },
      "source": [
        "idx_to_name = {x : names[x][0] for x in np.arange(nr_cars)}\n",
        "name_to_idx = {x:i for i,x in enumerate(idx_to_name.values())}"
      ],
      "execution_count": null,
      "outputs": []
    },
    {
      "cell_type": "code",
      "metadata": {
        "colab": {
          "base_uri": "https://localhost:8080/"
        },
        "id": "o-Wh6CYrE1kh",
        "outputId": "5115725f-28ca-431a-d424-817bf96858fc"
      },
      "source": [
        "idx_to_name"
      ],
      "execution_count": null,
      "outputs": [
        {
          "output_type": "execute_result",
          "data": {
            "text/plain": [
              "{0: 'Dodge Dakota Crew Cab 2010',\n",
              " 1: 'Volkswagen Golf Hatchback 1991',\n",
              " 2: 'Suzuki Kizashi Sedan 2012',\n",
              " 3: 'Ford Ranger SuperCab 2011',\n",
              " 4: 'Audi 100 Wagon 1994',\n",
              " 5: 'Ford Edge SUV 2012',\n",
              " 6: 'Dodge Caliber Wagon 2007',\n",
              " 7: 'Ford Mustang Convertible 2007',\n",
              " 8: 'Audi S4 Sedan 2012',\n",
              " 9: 'Ford F-450 Super Duty Crew Cab 2012',\n",
              " 10: 'Mercedes-Benz E-Class Sedan 2012',\n",
              " 11: 'GMC Yukon Hybrid SUV 2012',\n",
              " 12: 'Mazda Tribute SUV 2011',\n",
              " 13: 'Bugatti Veyron 16.4 Convertible 2009',\n",
              " 14: 'Chevrolet Avalanche Crew Cab 2012',\n",
              " 15: 'MINI Cooper Roadster Convertible 2012',\n",
              " 16: 'Dodge Durango SUV 2012',\n",
              " 17: 'Geo Metro Convertible 1993',\n",
              " 18: 'Chevrolet Monte Carlo Coupe 2007',\n",
              " 19: 'Dodge Ram Pickup 3500 Crew Cab 2010',\n",
              " 20: 'Plymouth Neon Coupe 1999',\n",
              " 21: 'Daewoo Nubira Wagon 2002',\n",
              " 22: 'Lamborghini Aventador Coupe 2012',\n",
              " 23: 'Chrysler Aspen SUV 2009',\n",
              " 24: 'Chevrolet Traverse SUV 2012',\n",
              " 25: 'Suzuki SX4 Hatchback 2012',\n",
              " 26: 'Land Rover Range Rover SUV 2012',\n",
              " 27: 'Audi A5 Coupe 2012',\n",
              " 28: 'Chevrolet Silverado 1500 Extended Cab 2012',\n",
              " 29: 'Bentley Continental GT Coupe 2012',\n",
              " 30: 'GMC Canyon Extended Cab 2012',\n",
              " 31: 'Audi RS 4 Convertible 2008',\n",
              " 32: 'Honda Odyssey Minivan 2012',\n",
              " 33: 'Honda Accord Sedan 2012',\n",
              " 34: 'Fisker Karma Sedan 2012',\n",
              " 35: 'Acura TL Type-S 2008',\n",
              " 36: 'Audi TT Hatchback 2011',\n",
              " 37: 'Ford GT Coupe 2006',\n",
              " 38: 'Chrysler Sebring Convertible 2010',\n",
              " 39: 'Dodge Dakota Club Cab 2007',\n",
              " 40: 'Buick Verano Sedan 2012',\n",
              " 41: 'Honda Odyssey Minivan 2007',\n",
              " 42: 'Dodge Durango SUV 2007',\n",
              " 43: 'Spyker C8 Coupe 2009',\n",
              " 44: 'Spyker C8 Convertible 2009',\n",
              " 45: 'smart fortwo Convertible 2012',\n",
              " 46: 'Mitsubishi Lancer Sedan 2012',\n",
              " 47: 'Dodge Caliber Wagon 2012',\n",
              " 48: 'Chevrolet Silverado 1500 Regular Cab 2012',\n",
              " 49: 'Dodge Charger SRT-8 2009',\n",
              " 50: 'Suzuki SX4 Sedan 2012',\n",
              " 51: 'Honda Accord Coupe 2012',\n",
              " 52: 'Nissan 240SX Coupe 1998',\n",
              " 53: 'Aston Martin Virage Convertible 2012',\n",
              " 54: 'Tesla Model S Sedan 2012',\n",
              " 55: 'Dodge Sprinter Cargo Van 2009',\n",
              " 56: 'Audi S4 Sedan 2007',\n",
              " 57: 'Ferrari 458 Italia Convertible 2012',\n",
              " 58: 'Bentley Mulsanne Sedan 2011',\n",
              " 59: 'Rolls-Royce Ghost Sedan 2012',\n",
              " 60: 'Cadillac SRX SUV 2012',\n",
              " 61: 'Lamborghini Diablo Coupe 2001',\n",
              " 62: 'Hyundai Sonata Sedan 2012',\n",
              " 63: 'Buick Rainier SUV 2007',\n",
              " 64: 'FIAT 500 Abarth 2012',\n",
              " 65: 'GMC Terrain SUV 2012',\n",
              " 66: 'Aston Martin V8 Vantage Coupe 2012',\n",
              " 67: 'Chevrolet Impala Sedan 2007',\n",
              " 68: 'Infiniti QX56 SUV 2011',\n",
              " 69: 'Hyundai Elantra Sedan 2007',\n",
              " 70: 'BMW X6 SUV 2012',\n",
              " 71: 'Hyundai Accent Sedan 2012',\n",
              " 72: 'Jeep Patriot SUV 2012',\n",
              " 73: 'Chevrolet HHR SS 2010',\n",
              " 74: 'Dodge Challenger SRT8 2011',\n",
              " 75: 'Rolls-Royce Phantom Drophead Coupe Convertible 2012',\n",
              " 76: 'Mercedes-Benz 300-Class Convertible 1993',\n",
              " 77: 'BMW X3 SUV 2012',\n",
              " 78: 'Jaguar XK XKR 2012',\n",
              " 79: 'Toyota Camry Sedan 2012',\n",
              " 80: 'Dodge Magnum Wagon 2008',\n",
              " 81: 'Audi TT RS Coupe 2012',\n",
              " 82: 'Chevrolet Corvette Ron Fellows Edition Z06 2007',\n",
              " 83: 'Bugatti Veyron 16.4 Coupe 2009',\n",
              " 84: 'Audi S5 Convertible 2012',\n",
              " 85: 'FIAT 500 Convertible 2012',\n",
              " 86: 'BMW X5 SUV 2007',\n",
              " 87: 'BMW 1 Series Convertible 2012',\n",
              " 88: 'Bentley Continental Supersports Conv. Convertible 2012',\n",
              " 89: 'Acura Integra Type R 2001',\n",
              " 90: 'Audi S5 Coupe 2012',\n",
              " 91: 'Ford E-Series Wagon Van 2012',\n",
              " 92: 'Chevrolet Express Van 2007',\n",
              " 93: 'Chrysler Town and Country Minivan 2012',\n",
              " 94: 'Jeep Grand Cherokee SUV 2012',\n",
              " 95: 'Volkswagen Beetle Hatchback 2012',\n",
              " 96: 'Aston Martin Virage Coupe 2012',\n",
              " 97: 'Dodge Charger Sedan 2012',\n",
              " 98: 'Chevrolet TrailBlazer SS 2009',\n",
              " 99: 'Bentley Arnage Sedan 2009',\n",
              " 100: 'Dodge Caravan Minivan 1997',\n",
              " 101: 'Eagle Talon Hatchback 1998',\n",
              " 102: 'BMW Z4 Convertible 2012',\n",
              " 103: 'Bentley Continental Flying Spur Sedan 2007',\n",
              " 104: 'Audi V8 Sedan 1994',\n",
              " 105: 'Jeep Compass SUV 2012',\n",
              " 106: 'Bentley Continental GT Coupe 2007',\n",
              " 107: 'Chevrolet Silverado 2500HD Regular Cab 2012',\n",
              " 108: 'Chevrolet Silverado 1500 Hybrid Crew Cab 2012',\n",
              " 109: 'Chevrolet Express Cargo Van 2007',\n",
              " 110: 'Hyundai Veracruz SUV 2012',\n",
              " 111: 'Volvo C30 Hatchback 2012',\n",
              " 112: 'Isuzu Ascender SUV 2008',\n",
              " 113: 'Chevrolet Sonic Sedan 2012',\n",
              " 114: 'Mercedes-Benz C-Class Sedan 2012',\n",
              " 115: 'Mercedes-Benz SL-Class Coupe 2009',\n",
              " 116: 'Lamborghini Reventon Coupe 2008',\n",
              " 117: 'Acura ZDX Hatchback 2012',\n",
              " 118: 'Nissan NV Passenger Van 2012',\n",
              " 119: 'Acura RL Sedan 2012',\n",
              " 120: 'Ford Expedition EL SUV 2009',\n",
              " 121: 'Lincoln Town Car Sedan 2011',\n",
              " 122: 'Chevrolet Silverado 1500 Classic Extended Cab 2007',\n",
              " 123: 'BMW 6 Series Convertible 2007',\n",
              " 124: 'Hyundai Elantra Touring Hatchback 2012',\n",
              " 125: 'BMW ActiveHybrid 5 Sedan 2012',\n",
              " 126: 'Nissan Leaf Hatchback 2012',\n",
              " 127: 'Ford Focus Sedan 2007',\n",
              " 128: 'Chevrolet Corvette Convertible 2012',\n",
              " 129: 'Chevrolet Cobalt SS 2010',\n",
              " 130: 'Chevrolet Tahoe Hybrid SUV 2012',\n",
              " 131: 'Porsche Panamera Sedan 2012',\n",
              " 132: 'Ford F-150 Regular Cab 2012',\n",
              " 133: 'Toyota 4Runner SUV 2012',\n",
              " 134: 'Buick Enclave SUV 2012',\n",
              " 135: 'BMW 3 Series Wagon 2012',\n",
              " 136: 'Chrysler PT Cruiser Convertible 2008',\n",
              " 137: 'Dodge Journey SUV 2012',\n",
              " 138: 'Ferrari 458 Italia Coupe 2012',\n",
              " 139: 'Ferrari FF Coupe 2012',\n",
              " 140: 'Nissan Juke Hatchback 2012',\n",
              " 141: 'GMC Acadia SUV 2012',\n",
              " 142: 'GMC Savana Van 2012',\n",
              " 143: 'Maybach Landaulet Convertible 2012',\n",
              " 144: 'Hyundai Sonata Hybrid Sedan 2012',\n",
              " 145: 'Cadillac Escalade EXT Crew Cab 2007',\n",
              " 146: 'BMW M5 Sedan 2010',\n",
              " 147: 'Scion xD Hatchback 2012',\n",
              " 148: 'Ford Freestar Minivan 2007',\n",
              " 149: 'Chevrolet Malibu Sedan 2007',\n",
              " 150: 'Hyundai Tucson SUV 2012',\n",
              " 151: 'Hyundai Azera Sedan 2012',\n",
              " 152: 'Hyundai Veloster Hatchback 2012',\n",
              " 153: 'Chrysler 300 SRT-8 2010',\n",
              " 154: 'Aston Martin V8 Vantage Convertible 2012',\n",
              " 155: 'Volvo 240 Sedan 1993',\n",
              " 156: 'Mercedes-Benz Sprinter Van 2012',\n",
              " 157: 'Buick Regal GS 2012',\n",
              " 158: 'Acura TL Sedan 2012',\n",
              " 159: 'Volkswagen Golf Hatchback 2012',\n",
              " 160: 'Chevrolet Corvette ZR1 2012',\n",
              " 161: 'Hyundai Genesis Sedan 2012',\n",
              " 162: 'Chevrolet Malibu Hybrid Sedan 2010',\n",
              " 163: 'BMW 1 Series Coupe 2012',\n",
              " 164: 'Ram C/V Cargo Van Minivan 2012',\n",
              " 165: 'Rolls-Royce Phantom Sedan 2012',\n",
              " 166: 'Jeep Liberty SUV 2012',\n",
              " 167: 'HUMMER H3T Crew Cab 2010',\n",
              " 168: 'Volvo XC90 SUV 2007',\n",
              " 169: 'Hyundai Santa Fe SUV 2012',\n",
              " 170: 'Infiniti G Coupe IPL 2012',\n",
              " 171: 'Audi 100 Sedan 1994',\n",
              " 172: 'Suzuki Aerio Sedan 2007',\n",
              " 173: 'Ferrari California Convertible 2012',\n",
              " 174: 'Lamborghini Gallardo LP 570-4 Superleggera 2012',\n",
              " 175: 'BMW 3 Series Sedan 2012',\n",
              " 176: 'BMW M6 Convertible 2010',\n",
              " 177: 'Toyota Sequoia SUV 2012',\n",
              " 178: 'Mercedes-Benz S-Class Sedan 2012',\n",
              " 179: 'Land Rover LR2 SUV 2012',\n",
              " 180: 'Acura TSX Sedan 2012',\n",
              " 181: 'Audi R8 Coupe 2012',\n",
              " 182: 'Cadillac CTS-V Sedan 2012',\n",
              " 183: 'Chrysler Crossfire Convertible 2008',\n",
              " 184: 'Chevrolet Camaro Convertible 2012',\n",
              " 185: 'Ford Fiesta Sedan 2012',\n",
              " 186: 'Audi TTS Coupe 2012',\n",
              " 187: 'Dodge Ram Pickup 3500 Quad Cab 2009',\n",
              " 188: 'Audi S6 Sedan 2011',\n",
              " 189: 'Ford F-150 Regular Cab 2007',\n",
              " 190: 'Jeep Wrangler SUV 2012',\n",
              " 191: 'HUMMER H2 SUT Crew Cab 2009',\n",
              " 192: 'BMW M3 Coupe 2012',\n",
              " 193: 'McLaren MP4-12C Coupe 2012',\n",
              " 194: 'Toyota Corolla Sedan 2012'}"
            ]
          },
          "metadata": {
            "tags": []
          },
          "execution_count": 21
        }
      ]
    },
    {
      "cell_type": "code",
      "metadata": {
        "id": "H9gog6yPFom0"
      },
      "source": [
        "train_path = '/content/drive/MyDrive/ENEL645/Project/Data/car_data/car_data/train/'\n",
        "test_path = '/content/drive/MyDrive/ENEL645/Project/Data/car_data/car_data/test/'"
      ],
      "execution_count": null,
      "outputs": []
    },
    {
      "cell_type": "code",
      "metadata": {
        "id": "kUubgXniFqYI"
      },
      "source": [
        "def get_data(path):\n",
        "    train = []\n",
        "    for i, name in enumerate(name_to_idx.keys()):\n",
        "        new_path = path + name + \"/\"\n",
        "        [train.append([i, cv2.resize(cv2.imread(img), (244,244), interpolation = cv2.INTER_AREA)]) for img in glob.glob(new_path + \"*.jpg\")]\n",
        "    return np.array(train)"
      ],
      "execution_count": null,
      "outputs": []
    },
    {
      "cell_type": "code",
      "metadata": {
        "id": "4j4bXH3AFrQC"
      },
      "source": [
        "train = get_data(train_path)\n",
        "test = get_data(test_path)"
      ],
      "execution_count": null,
      "outputs": []
    },
    {
      "cell_type": "code",
      "metadata": {
        "id": "Dn8rX-PnFslj"
      },
      "source": [
        "X_train = np.concatenate(train[:,1], axis=0).reshape(len(train), 244, 244, 3)\n",
        "X_train = X_train / 255.0\n",
        "X_train = X_train.astype('float32')\n",
        "y_train = train[:,0]\n",
        "y_train = np.eye(len(idx_to_name))[list(y_train)]\n",
        "\n",
        "X_test = np.concatenate(test[:,1], axis=0).reshape(len(test), 244, 244, 3)\n",
        "X_test = X_test / 255.0\n",
        "X_test = X_test.astype('float32')\n",
        "y_test = test[:,0]\n",
        "y_test = np.eye(len(idx_to_name))[list(y_test)]"
      ],
      "execution_count": null,
      "outputs": []
    },
    {
      "cell_type": "code",
      "metadata": {
        "id": "C6ImdQBoFth5"
      },
      "source": [
        "X_train.shape"
      ],
      "execution_count": null,
      "outputs": []
    },
    {
      "cell_type": "code",
      "metadata": {
        "id": "O5IPpeyMFurF"
      },
      "source": [
        "def my_model_cnn(ishape = (244,244,3),k = 196, lr = 1e-4):\n",
        "    model_input = tf.keras.layers.Input(shape = ishape)\n",
        "    l1 = tf.keras.layers.Conv2D(48, (3,3), padding='same', activation='relu')(model_input)\n",
        "    l2 = tf.keras.layers.Conv2D(48, (3,3), padding='same', activation='relu')(l1)\n",
        "    l2_drop = tf.keras.layers.Dropout(0.25)(l2)\n",
        "    l3 = tf.keras.layers.MaxPool2D((2,2))(l2_drop)\n",
        "    l4 = tf.keras.layers.Conv2D(96, (3,3), padding='same', activation='relu')(l3)\n",
        "    l5 = tf.keras.layers.Conv2D(96, (3,3), padding='same', activation='relu')(l4)\n",
        "    l5_drop = tf.keras.layers.Dropout(0.25)(l5)\n",
        "    flat = tf.keras.layers.Flatten()(l5_drop)\n",
        "    out = tf.keras.layers.Dense(k,activation = 'softmax')(flat)\n",
        "    model = tf.keras.models.Model(inputs = model_input, outputs = out)\n",
        "    model.compile(optimizer=tf.keras.optimizers.Adam(learning_rate=lr), loss='categorical_crossentropy', metrics = [\"accuracy\"])\n",
        "    return model"
      ],
      "execution_count": null,
      "outputs": []
    },
    {
      "cell_type": "code",
      "metadata": {
        "id": "Ujmi3HR8Fv6o"
      },
      "source": [
        "model2 = my_model_cnn()\n",
        "print(model2.summary())"
      ],
      "execution_count": null,
      "outputs": []
    },
    {
      "cell_type": "code",
      "metadata": {
        "id": "SgKKHWtmFxGy"
      },
      "source": [
        "# reduce learning rate by 0.1 when the validation error plateaus\n",
        "reduce_lr = ReduceLROnPlateau(monitor='val_loss', factor=np.sqrt(0.1))\n",
        " \n",
        "# set the SGD optimizer with lr of 0.01 and momentum of 0.9\n",
        "optimizer = SGD(lr = 0.01, momentum = 0.9)\n",
        "\n",
        "#Monitor Callback\n",
        "monitor = tf.keras.callbacks.ModelCheckpoint(model2, monitor='val_loss',\\\n",
        "                                             verbose=0,save_best_only=True,\\\n",
        "                                             save_weights_only=True,\\\n",
        "                                             mode='min')\n",
        " \n",
        "# compile the model\n",
        "model2.compile(loss='categorical_crossentropy', optimizer=optimizer, metrics=['accuracy'])"
      ],
      "execution_count": null,
      "outputs": []
    },
    {
      "cell_type": "code",
      "metadata": {
        "id": "fi-ebMFOF09w"
      },
      "source": [
        "# train the model\n",
        "# call the reduce_lr value using callbacks in the training method\n",
        "history = model2.fit(X_train, y_train, batch_size=32, epochs=10, validation_data=(X_test, y_test),\n",
        "    verbose=0, callbacks=[reduce_lr])"
      ],
      "execution_count": null,
      "outputs": []
    },
    {
      "cell_type": "code",
      "metadata": {
        "id": "7vMGSDKFGPJJ"
      },
      "source": [
        ""
      ],
      "execution_count": null,
      "outputs": []
    }
  ]
}