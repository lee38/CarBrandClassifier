{
  "nbformat": 4,
  "nbformat_minor": 0,
  "metadata": {
    "accelerator": "GPU",
    "colab": {
      "name": "CarsVGG16.ipynb",
      "provenance": [],
      "collapsed_sections": [],
      "machine_shape": "hm"
    },
    "kernelspec": {
      "display_name": "Python 3",
      "name": "python3"
    }
  },
  "cells": [
    {
      "cell_type": "code",
      "metadata": {
        "id": "z7-Ng7EJkwsd"
      },
      "source": [
        "# importing libaries\n",
        "import matplotlib.pylab as plt\n",
        "import numpy as np\n",
        "import tensorflow as tf\n",
        "import pandas as pd\n",
        "import cv2\n",
        "from keras.models import Sequential\n",
        "from keras.layers import Dense, Conv2D, MaxPool2D, Flatten\n",
        "from keras.applications.vgg16 import VGG16"
      ],
      "execution_count": null,
      "outputs": []
    },
    {
      "cell_type": "code",
      "metadata": {
        "colab": {
          "base_uri": "https://localhost:8080/"
        },
        "id": "_A_9rjoHk35t",
        "outputId": "f8380419-3271-472d-8eab-9bb5b26318d3"
      },
      "source": [
        "from google.colab import drive\n",
        "drive.mount('/content/gdrive')"
      ],
      "execution_count": null,
      "outputs": [
        {
          "output_type": "stream",
          "text": [
            "Mounted at /content/gdrive\n"
          ],
          "name": "stdout"
        }
      ]
    },
    {
      "cell_type": "code",
      "metadata": {
        "colab": {
          "base_uri": "https://localhost:8080/",
          "height": 35
        },
        "id": "jPxsvUexk6nH",
        "outputId": "5e0ac766-9c94-4064-f291-1021ad5d06c6"
      },
      "source": [
        "tf.test.gpu_device_name()"
      ],
      "execution_count": null,
      "outputs": [
        {
          "output_type": "execute_result",
          "data": {
            "application/vnd.google.colaboratory.intrinsic+json": {
              "type": "string"
            },
            "text/plain": [
              "'/device:GPU:0'"
            ]
          },
          "metadata": {
            "tags": []
          },
          "execution_count": 3
        }
      ]
    },
    {
      "cell_type": "code",
      "metadata": {
        "id": "lXwZBnlFk_JD"
      },
      "source": [
        "# local runtime space of dataset\n",
        "import os\n",
        "os.environ['KAGGLE_CONFIG_DIR'] = \"/content/gdrive/My Drive/Kaggle\"\n",
        "%cd /content/gdrive/My Drive/Kaggle\n",
        "\n",
        "! kaggle datasets download -d jutrera/stanford-car-dataset-by-classes-folder\n",
        "\n",
        "# #unzipping the zip files and deleting the zip files\n",
        "!unzip \\*.zip  && rm *.zip"
      ],
      "execution_count": null,
      "outputs": []
    },
    {
      "cell_type": "code",
      "metadata": {
        "colab": {
          "base_uri": "https://localhost:8080/"
        },
        "id": "MYhyFg-9lBGc",
        "outputId": "0d6728a5-c197-4419-9c29-83b9b726a80b"
      },
      "source": [
        "gen_params = {\"rescale\":1.0/255,\n",
        "              \"featurewise_center\":False,\n",
        "              \"samplewise_center\":False,\n",
        "              \"featurewise_std_normalization\":False,\n",
        "              \"samplewise_std_normalization\":False,\n",
        "              \"zca_whitening\":False,\n",
        "              \"rotation_range\":20,\n",
        "              \"width_shift_range\":0.1,\n",
        "              \"height_shift_range\":0.1,\n",
        "              \"shear_range\":0.2,\n",
        "              \"zoom_range\":0.1,\n",
        "              \"horizontal_flip\":True,\n",
        "              \"fill_mode\":'constant',\n",
        "              \"cval\": 0,\n",
        "              \"validation_split\":0.2}\n",
        "\n",
        "train_datagen = tf.keras.preprocessing.image.ImageDataGenerator(**gen_params)\n",
        "test_datagen = tf.keras.preprocessing.image.ImageDataGenerator(rescale = 1/255.0)\n",
        "\n",
        "\n",
        "## Data generator for training images\n",
        "train_generator = train_datagen.flow_from_directory('/content/gdrive/MyDrive/Kaggle/car_data/car_data/train',\n",
        "                                                    class_mode='categorical', batch_size = 32,\n",
        "                                                    target_size=(224,224),color_mode='rgb',shuffle = True,subset='training')\n",
        "\n",
        "val_generator = train_datagen.flow_from_directory('/content/gdrive/MyDrive/Kaggle/car_data/car_data/train',\n",
        "                                                    class_mode='categorical', batch_size = 32, \n",
        "                                                    target_size=(224,224),color_mode='rgb',shuffle = True,subset='validation')\n",
        "\n",
        "test_generator = test_datagen.flow_from_directory('/content/gdrive/MyDrive/Kaggle/car_data/car_data/test',\n",
        "                                                    class_mode='categorical', batch_size = 32,\n",
        "                                                    target_size=(224,224),color_mode='rgb',shuffle = True)"
      ],
      "execution_count": null,
      "outputs": [
        {
          "output_type": "stream",
          "text": [
            "Found 6598 images belonging to 196 classes.\n",
            "Found 1546 images belonging to 196 classes.\n",
            "Found 8041 images belonging to 196 classes.\n"
          ],
          "name": "stdout"
        }
      ]
    },
    {
      "cell_type": "code",
      "metadata": {
        "id": "brjZwPSClCj8"
      },
      "source": [
        "def build_vgg16_transfer_learning_model(img_height=224,img_width=224,num_classes=196):\n",
        "\n",
        "    # base model\n",
        "    base_model = tf.keras.applications.VGG16(\n",
        "        weights='imagenet',\n",
        "        input_shape=(img_height, img_width, 3),\n",
        "        include_top=False) \n",
        "    base_model.trainable = False\n",
        "\n",
        "    # add the top\n",
        "    input_image = tf.keras.Input(shape=(img_height, img_width, 3))\n",
        "    x1 = base_model(input_image, training=False)\n",
        "    x2 = tf.keras.layers.Flatten()(x1)\n",
        "    \n",
        "    out = tf.keras.layers.Dense(num_classes,activation = 'softmax')(x2)\n",
        "    model = tf.keras.Model(inputs = input_image, outputs =out)\n",
        "  \n",
        "    #compile and return\n",
        "    model.compile(optimizer=tf.keras.optimizers.Adam(lr = 1e-4),loss='categorical_crossentropy',metrics=['accuracy'])\n",
        "    \n",
        "    return model"
      ],
      "execution_count": null,
      "outputs": []
    },
    {
      "cell_type": "code",
      "metadata": {
        "colab": {
          "base_uri": "https://localhost:8080/"
        },
        "id": "3WvDMH8LlD7J",
        "outputId": "6f7d8c06-1ab8-42cf-ff38-56a3eb4d71ee"
      },
      "source": [
        "model = build_vgg16_transfer_learning_model()\n",
        "model.summary()"
      ],
      "execution_count": null,
      "outputs": [
        {
          "output_type": "stream",
          "text": [
            "Downloading data from https://storage.googleapis.com/tensorflow/keras-applications/vgg16/vgg16_weights_tf_dim_ordering_tf_kernels_notop.h5\n",
            "58892288/58889256 [==============================] - 1s 0us/step\n",
            "Model: \"model\"\n",
            "_________________________________________________________________\n",
            "Layer (type)                 Output Shape              Param #   \n",
            "=================================================================\n",
            "input_2 (InputLayer)         [(None, 224, 224, 3)]     0         \n",
            "_________________________________________________________________\n",
            "vgg16 (Functional)           (None, 7, 7, 512)         14714688  \n",
            "_________________________________________________________________\n",
            "flatten (Flatten)            (None, 25088)             0         \n",
            "_________________________________________________________________\n",
            "dense (Dense)                (None, 196)               4917444   \n",
            "=================================================================\n",
            "Total params: 19,632,132\n",
            "Trainable params: 4,917,444\n",
            "Non-trainable params: 14,714,688\n",
            "_________________________________________________________________\n"
          ],
          "name": "stdout"
        }
      ]
    },
    {
      "cell_type": "code",
      "metadata": {
        "id": "SSBAS05dlFoI"
      },
      "source": [
        "model_name = \"vgg16_cars.h5\"\n",
        "early_stop = tf.keras.callbacks.EarlyStopping(monitor='val_loss', patience = 20)\n",
        "\n",
        "monitor = tf.keras.callbacks.ModelCheckpoint(model_name, monitor='val_loss',\\\n",
        "                                             verbose=0,save_best_only=True,\\\n",
        "                                             save_weights_only=True,\\\n",
        "                                             mode='min')\n",
        "# Learning rate schedule\n",
        "def scheduler(epoch, lr):\n",
        "    if epoch%4 == 0 and epoch!= 0:\n",
        "        lr = lr/2\n",
        "    return lr\n",
        "\n",
        "lr_schedule = tf.keras.callbacks.LearningRateScheduler(scheduler,verbose = 0)"
      ],
      "execution_count": null,
      "outputs": []
    },
    {
      "cell_type": "code",
      "metadata": {
        "colab": {
          "base_uri": "https://localhost:8080/"
        },
        "id": "DJQzA4ZMmS7t",
        "outputId": "10187886-094d-4be1-85c3-4dc728e27a02"
      },
      "source": [
        "batch = 128\n",
        "num_epochs = 150\n",
        "\n",
        "history = model.fit(train_generator,\n",
        "                    validation_data = val_generator,\n",
        "                    epochs=num_epochs,\n",
        "                    verbose=1,\n",
        "                    batch_size=batch,\n",
        "                    callbacks=[early_stop,monitor,lr_schedule])"
      ],
      "execution_count": null,
      "outputs": [
        {
          "output_type": "stream",
          "text": [
            "Epoch 1/150\n",
            "207/207 [==============================] - 172s 673ms/step - loss: 5.5246 - accuracy: 0.0108 - val_loss: 4.9535 - val_accuracy: 0.0498\n",
            "Epoch 2/150\n",
            "207/207 [==============================] - 135s 652ms/step - loss: 4.5354 - accuracy: 0.1053 - val_loss: 4.6210 - val_accuracy: 0.0834\n",
            "Epoch 3/150\n",
            "207/207 [==============================] - 135s 650ms/step - loss: 3.9932 - accuracy: 0.2014 - val_loss: 4.3936 - val_accuracy: 0.1197\n",
            "Epoch 4/150\n",
            "207/207 [==============================] - 135s 650ms/step - loss: 3.5752 - accuracy: 0.2850 - val_loss: 4.2018 - val_accuracy: 0.1339\n",
            "Epoch 5/150\n",
            "207/207 [==============================] - 132s 636ms/step - loss: 3.2271 - accuracy: 0.3759 - val_loss: 4.0429 - val_accuracy: 0.1669\n",
            "Epoch 6/150\n",
            "207/207 [==============================] - 133s 643ms/step - loss: 3.0258 - accuracy: 0.4313 - val_loss: 3.9532 - val_accuracy: 0.1966\n",
            "Epoch 7/150\n",
            "207/207 [==============================] - 134s 646ms/step - loss: 2.8873 - accuracy: 0.4661 - val_loss: 3.8977 - val_accuracy: 0.1928\n",
            "Epoch 8/150\n",
            "207/207 [==============================] - 133s 644ms/step - loss: 2.7936 - accuracy: 0.4890 - val_loss: 3.8512 - val_accuracy: 0.1986\n",
            "Epoch 9/150\n",
            "207/207 [==============================] - 133s 641ms/step - loss: 2.6414 - accuracy: 0.5389 - val_loss: 3.7811 - val_accuracy: 0.2232\n",
            "Epoch 10/150\n",
            "207/207 [==============================] - 132s 637ms/step - loss: 2.5722 - accuracy: 0.5577 - val_loss: 3.7331 - val_accuracy: 0.2180\n",
            "Epoch 11/150\n",
            "207/207 [==============================] - 134s 647ms/step - loss: 2.4847 - accuracy: 0.5783 - val_loss: 3.7631 - val_accuracy: 0.2238\n",
            "Epoch 12/150\n",
            "207/207 [==============================] - 130s 629ms/step - loss: 2.4639 - accuracy: 0.5827 - val_loss: 3.7076 - val_accuracy: 0.2206\n",
            "Epoch 13/150\n",
            "207/207 [==============================] - 132s 636ms/step - loss: 2.3756 - accuracy: 0.6140 - val_loss: 3.6888 - val_accuracy: 0.2348\n",
            "Epoch 14/150\n",
            "207/207 [==============================] - 135s 652ms/step - loss: 2.3205 - accuracy: 0.6373 - val_loss: 3.6847 - val_accuracy: 0.2413\n",
            "Epoch 15/150\n",
            "207/207 [==============================] - 132s 637ms/step - loss: 2.2965 - accuracy: 0.6298 - val_loss: 3.6669 - val_accuracy: 0.2419\n",
            "Epoch 16/150\n",
            "207/207 [==============================] - 131s 633ms/step - loss: 2.3345 - accuracy: 0.6160 - val_loss: 3.6515 - val_accuracy: 0.2367\n",
            "Epoch 17/150\n",
            "207/207 [==============================] - 130s 629ms/step - loss: 2.2731 - accuracy: 0.6428 - val_loss: 3.6280 - val_accuracy: 0.2406\n",
            "Epoch 18/150\n",
            "207/207 [==============================] - 130s 630ms/step - loss: 2.2443 - accuracy: 0.6515 - val_loss: 3.6361 - val_accuracy: 0.2503\n",
            "Epoch 19/150\n",
            "207/207 [==============================] - 130s 629ms/step - loss: 2.2452 - accuracy: 0.6496 - val_loss: 3.5908 - val_accuracy: 0.2704\n",
            "Epoch 20/150\n",
            "207/207 [==============================] - 131s 632ms/step - loss: 2.2127 - accuracy: 0.6657 - val_loss: 3.6260 - val_accuracy: 0.2393\n",
            "Epoch 21/150\n",
            "207/207 [==============================] - 131s 636ms/step - loss: 2.1943 - accuracy: 0.6654 - val_loss: 3.6372 - val_accuracy: 0.2484\n",
            "Epoch 22/150\n",
            "207/207 [==============================] - 132s 636ms/step - loss: 2.2073 - accuracy: 0.6554 - val_loss: 3.5750 - val_accuracy: 0.2613\n",
            "Epoch 23/150\n",
            "207/207 [==============================] - 131s 635ms/step - loss: 2.1894 - accuracy: 0.6604 - val_loss: 3.6136 - val_accuracy: 0.2600\n",
            "Epoch 24/150\n",
            "207/207 [==============================] - 131s 632ms/step - loss: 2.1868 - accuracy: 0.6688 - val_loss: 3.5871 - val_accuracy: 0.2587\n",
            "Epoch 25/150\n",
            "207/207 [==============================] - 130s 630ms/step - loss: 2.1953 - accuracy: 0.6637 - val_loss: 3.5991 - val_accuracy: 0.2516\n",
            "Epoch 26/150\n",
            "207/207 [==============================] - 130s 630ms/step - loss: 2.1714 - accuracy: 0.6752 - val_loss: 3.6261 - val_accuracy: 0.2542\n",
            "Epoch 27/150\n",
            "207/207 [==============================] - 130s 629ms/step - loss: 2.1709 - accuracy: 0.6664 - val_loss: 3.5813 - val_accuracy: 0.2626\n",
            "Epoch 28/150\n",
            "207/207 [==============================] - 130s 629ms/step - loss: 2.1716 - accuracy: 0.6668 - val_loss: 3.5894 - val_accuracy: 0.2503\n",
            "Epoch 29/150\n",
            "207/207 [==============================] - 130s 632ms/step - loss: 2.1344 - accuracy: 0.6801 - val_loss: 3.6017 - val_accuracy: 0.2626\n",
            "Epoch 30/150\n",
            "207/207 [==============================] - 131s 631ms/step - loss: 2.1523 - accuracy: 0.6719 - val_loss: 3.5672 - val_accuracy: 0.2594\n",
            "Epoch 31/150\n",
            "207/207 [==============================] - 131s 633ms/step - loss: 2.1636 - accuracy: 0.6665 - val_loss: 3.5677 - val_accuracy: 0.2633\n",
            "Epoch 32/150\n",
            "207/207 [==============================] - 131s 632ms/step - loss: 2.1831 - accuracy: 0.6703 - val_loss: 3.5867 - val_accuracy: 0.2710\n",
            "Epoch 33/150\n",
            "207/207 [==============================] - 130s 630ms/step - loss: 2.1650 - accuracy: 0.6671 - val_loss: 3.5717 - val_accuracy: 0.2684\n",
            "Epoch 34/150\n",
            "207/207 [==============================] - 130s 628ms/step - loss: 2.1694 - accuracy: 0.6744 - val_loss: 3.5840 - val_accuracy: 0.2458\n",
            "Epoch 35/150\n",
            "207/207 [==============================] - 131s 635ms/step - loss: 2.1584 - accuracy: 0.6762 - val_loss: 3.5888 - val_accuracy: 0.2691\n",
            "Epoch 36/150\n",
            "207/207 [==============================] - 131s 632ms/step - loss: 2.1433 - accuracy: 0.6777 - val_loss: 3.5938 - val_accuracy: 0.2529\n",
            "Epoch 37/150\n",
            "207/207 [==============================] - 130s 631ms/step - loss: 2.1625 - accuracy: 0.6805 - val_loss: 3.5788 - val_accuracy: 0.2743\n",
            "Epoch 38/150\n",
            "207/207 [==============================] - 131s 632ms/step - loss: 2.1578 - accuracy: 0.6781 - val_loss: 3.5706 - val_accuracy: 0.2652\n",
            "Epoch 39/150\n",
            "207/207 [==============================] - 130s 628ms/step - loss: 2.1634 - accuracy: 0.6814 - val_loss: 3.5893 - val_accuracy: 0.2529\n",
            "Epoch 40/150\n",
            "207/207 [==============================] - 130s 629ms/step - loss: 2.1858 - accuracy: 0.6663 - val_loss: 3.5647 - val_accuracy: 0.2652\n",
            "Epoch 41/150\n",
            "207/207 [==============================] - 130s 629ms/step - loss: 2.1577 - accuracy: 0.6680 - val_loss: 3.5748 - val_accuracy: 0.2626\n",
            "Epoch 42/150\n",
            "207/207 [==============================] - 130s 629ms/step - loss: 2.1765 - accuracy: 0.6671 - val_loss: 3.6012 - val_accuracy: 0.2503\n",
            "Epoch 43/150\n",
            "207/207 [==============================] - 130s 628ms/step - loss: 2.1731 - accuracy: 0.6769 - val_loss: 3.5583 - val_accuracy: 0.2658\n",
            "Epoch 44/150\n",
            "207/207 [==============================] - 130s 630ms/step - loss: 2.1525 - accuracy: 0.6715 - val_loss: 3.5798 - val_accuracy: 0.2549\n",
            "Epoch 45/150\n",
            "207/207 [==============================] - 131s 631ms/step - loss: 2.1615 - accuracy: 0.6855 - val_loss: 3.5815 - val_accuracy: 0.2542\n",
            "Epoch 46/150\n",
            "207/207 [==============================] - 130s 629ms/step - loss: 2.1683 - accuracy: 0.6629 - val_loss: 3.5568 - val_accuracy: 0.2600\n",
            "Epoch 47/150\n",
            "207/207 [==============================] - 130s 630ms/step - loss: 2.1424 - accuracy: 0.6819 - val_loss: 3.6010 - val_accuracy: 0.2542\n",
            "Epoch 48/150\n",
            "207/207 [==============================] - 130s 626ms/step - loss: 2.1604 - accuracy: 0.6836 - val_loss: 3.5609 - val_accuracy: 0.2607\n",
            "Epoch 49/150\n",
            "207/207 [==============================] - 130s 629ms/step - loss: 2.1630 - accuracy: 0.6750 - val_loss: 3.5801 - val_accuracy: 0.2523\n",
            "Epoch 50/150\n",
            "207/207 [==============================] - 130s 628ms/step - loss: 2.1395 - accuracy: 0.6742 - val_loss: 3.5461 - val_accuracy: 0.2574\n",
            "Epoch 51/150\n",
            "207/207 [==============================] - 130s 628ms/step - loss: 2.1643 - accuracy: 0.6783 - val_loss: 3.6041 - val_accuracy: 0.2613\n",
            "Epoch 52/150\n",
            "207/207 [==============================] - 130s 629ms/step - loss: 2.1279 - accuracy: 0.6949 - val_loss: 3.5634 - val_accuracy: 0.2607\n",
            "Epoch 53/150\n",
            "207/207 [==============================] - 130s 630ms/step - loss: 2.1341 - accuracy: 0.6850 - val_loss: 3.5809 - val_accuracy: 0.2503\n",
            "Epoch 54/150\n",
            "207/207 [==============================] - 130s 630ms/step - loss: 2.1770 - accuracy: 0.6795 - val_loss: 3.5799 - val_accuracy: 0.2620\n",
            "Epoch 55/150\n",
            "207/207 [==============================] - 130s 628ms/step - loss: 2.1554 - accuracy: 0.6744 - val_loss: 3.5625 - val_accuracy: 0.2633\n",
            "Epoch 56/150\n",
            "207/207 [==============================] - 131s 633ms/step - loss: 2.1421 - accuracy: 0.6925 - val_loss: 3.5879 - val_accuracy: 0.2646\n",
            "Epoch 57/150\n",
            "207/207 [==============================] - 130s 630ms/step - loss: 2.1410 - accuracy: 0.6842 - val_loss: 3.5956 - val_accuracy: 0.2568\n",
            "Epoch 58/150\n",
            "207/207 [==============================] - 130s 629ms/step - loss: 2.1696 - accuracy: 0.6671 - val_loss: 3.5763 - val_accuracy: 0.2523\n",
            "Epoch 59/150\n",
            "207/207 [==============================] - 131s 633ms/step - loss: 2.1770 - accuracy: 0.6683 - val_loss: 3.5761 - val_accuracy: 0.2697\n",
            "Epoch 60/150\n",
            "207/207 [==============================] - 130s 629ms/step - loss: 2.1541 - accuracy: 0.6751 - val_loss: 3.5926 - val_accuracy: 0.2523\n",
            "Epoch 61/150\n",
            "207/207 [==============================] - 131s 632ms/step - loss: 2.1589 - accuracy: 0.6687 - val_loss: 3.5875 - val_accuracy: 0.2561\n",
            "Epoch 62/150\n",
            "207/207 [==============================] - 130s 626ms/step - loss: 2.1538 - accuracy: 0.6738 - val_loss: 3.5906 - val_accuracy: 0.2697\n",
            "Epoch 63/150\n",
            "207/207 [==============================] - 130s 629ms/step - loss: 2.1656 - accuracy: 0.6792 - val_loss: 3.5615 - val_accuracy: 0.2801\n",
            "Epoch 64/150\n",
            "207/207 [==============================] - 131s 630ms/step - loss: 2.1709 - accuracy: 0.6727 - val_loss: 3.5990 - val_accuracy: 0.2542\n",
            "Epoch 65/150\n",
            "207/207 [==============================] - 130s 628ms/step - loss: 2.1429 - accuracy: 0.6800 - val_loss: 3.5754 - val_accuracy: 0.2568\n",
            "Epoch 66/150\n",
            "207/207 [==============================] - 130s 629ms/step - loss: 2.1220 - accuracy: 0.6862 - val_loss: 3.5981 - val_accuracy: 0.2484\n",
            "Epoch 67/150\n",
            "207/207 [==============================] - 130s 629ms/step - loss: 2.1641 - accuracy: 0.6686 - val_loss: 3.5743 - val_accuracy: 0.2594\n",
            "Epoch 68/150\n",
            "207/207 [==============================] - 130s 631ms/step - loss: 2.1715 - accuracy: 0.6573 - val_loss: 3.5784 - val_accuracy: 0.2549\n",
            "Epoch 69/150\n",
            "207/207 [==============================] - 130s 630ms/step - loss: 2.1254 - accuracy: 0.6912 - val_loss: 3.5781 - val_accuracy: 0.2639\n",
            "Epoch 70/150\n",
            "207/207 [==============================] - 130s 629ms/step - loss: 2.1690 - accuracy: 0.6649 - val_loss: 3.5748 - val_accuracy: 0.2574\n"
          ],
          "name": "stdout"
        }
      ]
    },
    {
      "cell_type": "code",
      "metadata": {
        "id": "srsAmGZQmV6x",
        "colab": {
          "base_uri": "https://localhost:8080/"
        },
        "outputId": "ab8686a3-9642-46b8-9230-490019c73506"
      },
      "source": [
        "## finetune model\n",
        "base_model = tf.keras.applications.VGG16(\n",
        "    weights='imagenet',  # Load weights pre-trained on ImageNet.\n",
        "    input_shape=(224,224,3),\n",
        "    include_top=False) \n",
        "base_model.trainable = True\n",
        "input_image = tf.keras.Input(shape=(224,224,3))\n",
        "x1 = base_model(input_image, training=True)\n",
        "x2 = tf.keras.layers.Flatten()(x1)\n",
        "out = tf.keras.layers.Dense(196,activation = 'softmax')(x2)\n",
        "model = tf.keras.Model(input_image, out)\n",
        "print(model.summary())\n",
        "\n",
        "model.compile(optimizer=tf.keras.optimizers.Adam(lr = 1e-6),\n",
        "              loss='categorical_crossentropy',\n",
        "              metrics=['accuracy'])\n",
        "model.load_weights('/content/gdrive/MyDrive/Kaggle/vgg16_cars.h5')"
      ],
      "execution_count": null,
      "outputs": [
        {
          "output_type": "stream",
          "text": [
            "Model: \"model_1\"\n",
            "_________________________________________________________________\n",
            "Layer (type)                 Output Shape              Param #   \n",
            "=================================================================\n",
            "input_4 (InputLayer)         [(None, 224, 224, 3)]     0         \n",
            "_________________________________________________________________\n",
            "vgg16 (Functional)           (None, 7, 7, 512)         14714688  \n",
            "_________________________________________________________________\n",
            "flatten_1 (Flatten)          (None, 25088)             0         \n",
            "_________________________________________________________________\n",
            "dense_1 (Dense)              (None, 196)               4917444   \n",
            "=================================================================\n",
            "Total params: 19,632,132\n",
            "Trainable params: 19,632,132\n",
            "Non-trainable params: 0\n",
            "_________________________________________________________________\n",
            "None\n"
          ],
          "name": "stdout"
        }
      ]
    },
    {
      "cell_type": "code",
      "metadata": {
        "id": "iqNWlqZnmYJF",
        "colab": {
          "base_uri": "https://localhost:8080/"
        },
        "outputId": "49179bbf-5df8-4291-fd01-114ae0cf45df"
      },
      "source": [
        "batch = 128\n",
        "num_epochs = 100\n",
        "history_2 = model.fit(train_generator,\n",
        "          validation_data = val_generator,\n",
        "          epochs=num_epochs,\n",
        "          verbose=1,\n",
        "          batch_size=batch,\n",
        "          callbacks=[early_stop,monitor,lr_schedule])"
      ],
      "execution_count": null,
      "outputs": [
        {
          "output_type": "stream",
          "text": [
            "Epoch 1/100\n",
            "207/207 [==============================] - 134s 637ms/step - loss: 1.7387 - accuracy: 0.6643 - val_loss: 3.5073 - val_accuracy: 0.2697\n",
            "Epoch 2/100\n",
            "207/207 [==============================] - 133s 641ms/step - loss: 1.2307 - accuracy: 0.6995 - val_loss: 3.4824 - val_accuracy: 0.2878\n",
            "Epoch 3/100\n",
            "207/207 [==============================] - 133s 644ms/step - loss: 1.1457 - accuracy: 0.7173 - val_loss: 3.4983 - val_accuracy: 0.2827\n",
            "Epoch 4/100\n",
            "207/207 [==============================] - 132s 637ms/step - loss: 1.0519 - accuracy: 0.7302 - val_loss: 3.4595 - val_accuracy: 0.3008\n",
            "Epoch 5/100\n",
            "207/207 [==============================] - 132s 635ms/step - loss: 0.9604 - accuracy: 0.7598 - val_loss: 3.5058 - val_accuracy: 0.3047\n",
            "Epoch 6/100\n",
            "207/207 [==============================] - 132s 637ms/step - loss: 0.9536 - accuracy: 0.7459 - val_loss: 3.4443 - val_accuracy: 0.3034\n",
            "Epoch 7/100\n",
            "207/207 [==============================] - 132s 638ms/step - loss: 0.9178 - accuracy: 0.7676 - val_loss: 3.4254 - val_accuracy: 0.3137\n",
            "Epoch 8/100\n",
            "207/207 [==============================] - 133s 640ms/step - loss: 0.8928 - accuracy: 0.7632 - val_loss: 3.4559 - val_accuracy: 0.3163\n",
            "Epoch 9/100\n",
            "207/207 [==============================] - 132s 636ms/step - loss: 0.8852 - accuracy: 0.7684 - val_loss: 3.3432 - val_accuracy: 0.3215\n",
            "Epoch 10/100\n",
            "207/207 [==============================] - 132s 637ms/step - loss: 0.8807 - accuracy: 0.7646 - val_loss: 3.4295 - val_accuracy: 0.3221\n",
            "Epoch 11/100\n",
            "207/207 [==============================] - 132s 639ms/step - loss: 0.8571 - accuracy: 0.7745 - val_loss: 3.4763 - val_accuracy: 0.3182\n",
            "Epoch 12/100\n",
            "207/207 [==============================] - 132s 636ms/step - loss: 0.8841 - accuracy: 0.7648 - val_loss: 3.4311 - val_accuracy: 0.3241\n",
            "Epoch 13/100\n",
            "207/207 [==============================] - 132s 636ms/step - loss: 0.8778 - accuracy: 0.7720 - val_loss: 3.4420 - val_accuracy: 0.3215\n",
            "Epoch 14/100\n",
            "207/207 [==============================] - 132s 638ms/step - loss: 0.8474 - accuracy: 0.7738 - val_loss: 3.4080 - val_accuracy: 0.3312\n",
            "Epoch 15/100\n",
            "207/207 [==============================] - 133s 642ms/step - loss: 0.8500 - accuracy: 0.7763 - val_loss: 3.4466 - val_accuracy: 0.3247\n",
            "Epoch 16/100\n",
            "207/207 [==============================] - 132s 640ms/step - loss: 0.8788 - accuracy: 0.7664 - val_loss: 3.4404 - val_accuracy: 0.3234\n",
            "Epoch 17/100\n",
            "207/207 [==============================] - 132s 638ms/step - loss: 0.8560 - accuracy: 0.7782 - val_loss: 3.4550 - val_accuracy: 0.3195\n",
            "Epoch 18/100\n",
            "207/207 [==============================] - 132s 637ms/step - loss: 0.8388 - accuracy: 0.7816 - val_loss: 3.4639 - val_accuracy: 0.3034\n",
            "Epoch 19/100\n",
            "207/207 [==============================] - 132s 636ms/step - loss: 0.8489 - accuracy: 0.7671 - val_loss: 3.4829 - val_accuracy: 0.3273\n",
            "Epoch 20/100\n",
            "207/207 [==============================] - 132s 637ms/step - loss: 0.8491 - accuracy: 0.7798 - val_loss: 3.4386 - val_accuracy: 0.3195\n",
            "Epoch 21/100\n",
            "207/207 [==============================] - 132s 637ms/step - loss: 0.8650 - accuracy: 0.7740 - val_loss: 3.4527 - val_accuracy: 0.3169\n",
            "Epoch 22/100\n",
            "207/207 [==============================] - 134s 646ms/step - loss: 0.8375 - accuracy: 0.7780 - val_loss: 3.4158 - val_accuracy: 0.3325\n",
            "Epoch 23/100\n",
            "207/207 [==============================] - 133s 640ms/step - loss: 0.8355 - accuracy: 0.7805 - val_loss: 3.4207 - val_accuracy: 0.3202\n",
            "Epoch 24/100\n",
            "207/207 [==============================] - 132s 637ms/step - loss: 0.8464 - accuracy: 0.7774 - val_loss: 3.4101 - val_accuracy: 0.3299\n",
            "Epoch 25/100\n",
            "207/207 [==============================] - 132s 640ms/step - loss: 0.8430 - accuracy: 0.7810 - val_loss: 3.4276 - val_accuracy: 0.3234\n",
            "Epoch 26/100\n",
            "207/207 [==============================] - 132s 636ms/step - loss: 0.8486 - accuracy: 0.7772 - val_loss: 3.5064 - val_accuracy: 0.3105\n",
            "Epoch 27/100\n",
            "207/207 [==============================] - 133s 642ms/step - loss: 0.8192 - accuracy: 0.7775 - val_loss: 3.4434 - val_accuracy: 0.3144\n",
            "Epoch 28/100\n",
            "207/207 [==============================] - 131s 635ms/step - loss: 0.8358 - accuracy: 0.7819 - val_loss: 3.4009 - val_accuracy: 0.3260\n",
            "Epoch 29/100\n",
            "207/207 [==============================] - 132s 639ms/step - loss: 0.8230 - accuracy: 0.7746 - val_loss: 3.4174 - val_accuracy: 0.3189\n"
          ],
          "name": "stdout"
        }
      ]
    },
    {
      "cell_type": "code",
      "metadata": {
        "id": "v1ze2lLImfoS",
        "colab": {
          "base_uri": "https://localhost:8080/",
          "height": 295
        },
        "outputId": "3dab4c5f-a7b1-499a-a0d3-e867a20cf146"
      },
      "source": [
        "plt.plot(history.history['accuracy'])\n",
        "plt.plot(history.history['val_accuracy'])\n",
        "plt.title('model accuracy (training 1)')\n",
        "plt.ylabel('accuracy')\n",
        "plt.xlabel('epoch')\n",
        "plt.legend(['train', 'val'], loc='upper left')\n",
        "plt.show()"
      ],
      "execution_count": null,
      "outputs": [
        {
          "output_type": "display_data",
          "data": {
            "image/png": "[encoded data removed]",
            "text/plain": [
              "<Figure size 432x288 with 1 Axes>"
            ]
          },
          "metadata": {
            "tags": [],
            "needs_background": "light"
          }
        }
      ]
    },
    {
      "cell_type": "code",
      "metadata": {
        "id": "Eg2u1XPamgQf",
        "colab": {
          "base_uri": "https://localhost:8080/"
        },
        "outputId": "1675d7ba-554a-4b3a-e6b1-0dfa009f1c74"
      },
      "source": [
        "model.load_weights('/content/gdrive/MyDrive/Kaggle/vgg16_cars.h5')\n",
        "metrics = model.evaluate(test_generator)"
      ],
      "execution_count": null,
      "outputs": [
        {
          "output_type": "stream",
          "text": [
            "252/252 [==============================] - 69s 276ms/step - loss: 3.2649 - accuracy: 0.3623\n"
          ],
          "name": "stdout"
        }
      ]
    },
    {
      "cell_type": "code",
      "metadata": {
        "id": "7kVVwOZnmj5I",
        "colab": {
          "base_uri": "https://localhost:8080/",
          "height": 295
        },
        "outputId": "89bd94ec-5c47-4e9f-cfbe-bc1374b364ef"
      },
      "source": [
        "plt.plot(history_2.history['accuracy'])\n",
        "plt.plot(history_2.history['val_accuracy'])\n",
        "plt.title('model accuracy (fine tuning')\n",
        "plt.ylabel('accuracy')\n",
        "plt.xlabel('epoch')\n",
        "plt.legend(['train', 'val'], loc='upper left')\n",
        "plt.show()"
      ],
      "execution_count": null,
      "outputs": [
        {
          "output_type": "display_data",
          "data": {
            "image/png": "[encoded data removed]",
            "text/plain": [
              "<Figure size 432x288 with 1 Axes>"
            ]
          },
          "metadata": {
            "tags": [],
            "needs_background": "light"
          }
        }
      ]
    },
    {
      "cell_type": "code",
      "metadata": {
        "colab": {
          "base_uri": "https://localhost:8080/",
          "height": 295
        },
        "id": "NkqhYXKZB0Kx",
        "outputId": "3235d2fe-6bc0-4f22-d0b2-59e99a0379f0"
      },
      "source": [
        "acc_total = np.zeros(len(history.history['accuracy']) + len(history_2.history['accuracy']))\n",
        "val_total = np.zeros(len(history.history['val_accuracy']) + len(history_2.history['val_accuracy']))\n",
        "\n",
        "for i in range(len(history.history['accuracy'])):\n",
        "  acc_total[i] = history.history['accuracy'][i]\n",
        "  val_total[i] = history.history['val_accuracy'][i]\n",
        "  \n",
        "for j in range(len(history_2.history['accuracy'])):\n",
        "  acc_total[j+len(history.history['accuracy'])] = history_2.history['accuracy'][j]\n",
        "  val_total[j+len(history.history['val_accuracy'])] = history_2.history['val_accuracy'][j]\n",
        "\n",
        "\n",
        "\n",
        "plt.plot(acc_total)\n",
        "plt.plot(val_total)\n",
        "plt.title('Total Training')\n",
        "plt.ylabel('accuracy')\n",
        "plt.xlabel('epoch')\n",
        "plt.legend(['train', 'val'], loc='upper left')\n",
        "plt.show()  "
      ],
      "execution_count": null,
      "outputs": [
        {
          "output_type": "display_data",
          "data": {
            "image/png": "[encoded data removed]",
            "text/plain": [
              "<Figure size 432x288 with 1 Axes>"
            ]
          },
          "metadata": {
            "tags": [],
            "needs_background": "light"
          }
        }
      ]
    },
    {
      "cell_type": "code",
      "metadata": {
        "colab": {
          "base_uri": "https://localhost:8080/"
        },
        "id": "yHCCBdM_B1O7",
        "outputId": "57f01809-da56-4cd4-e277-82a025f7ca42"
      },
      "source": [
        "max(history_2.history['val_accuracy'])"
      ],
      "execution_count": null,
      "outputs": [
        {
          "output_type": "execute_result",
          "data": {
            "text/plain": [
              "0.3324708938598633"
            ]
          },
          "metadata": {
            "tags": []
          },
          "execution_count": 16
        }
      ]
    },
    {
      "cell_type": "code",
      "metadata": {
        "colab": {
          "base_uri": "https://localhost:8080/"
        },
        "id": "MLmL1C0uB1XK",
        "outputId": "5ee9c58d-5f60-4ce6-9c96-ccbad552aa39"
      },
      "source": [
        "max(history_2.history['accuracy'])"
      ],
      "execution_count": null,
      "outputs": [
        {
          "output_type": "execute_result",
          "data": {
            "text/plain": [
              "0.7869051098823547"
            ]
          },
          "metadata": {
            "tags": []
          },
          "execution_count": 17
        }
      ]
    },
    {
      "cell_type": "code",
      "metadata": {
        "id": "ldGBUalmDjBd"
      },
      "source": [
        ""
      ],
      "execution_count": null,
      "outputs": []
    }
  ]
}