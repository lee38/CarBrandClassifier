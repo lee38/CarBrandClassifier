{
 "cells": [
  {
   "cell_type": "markdown",
   "metadata": {},
   "source": [
    "# VGG-16 Model Trained with Transfer Learning\n",
    "\n",
    "This file is used to train a VGG-16 model with transfer learning on the adapted cars dataset (49 classes, images cropped around the bounding boxes, and 50% more training data). \n",
    "\n",
    "We used a model with weights pre-trained on the ImageNet dataset."
   ]
  },
  {
   "cell_type": "code",
   "execution_count": 1,
   "metadata": {
    "id": "z7-Ng7EJkwsd"
   },
   "outputs": [],
   "source": [
    "# importing libaries\n",
    "import matplotlib.pylab as plt\n",
    "import numpy as np\n",
    "import tensorflow as tf\n",
    "import pandas as pd\n",
    "import cv2\n",
    "from keras.models import Sequential\n",
    "from keras.layers import Dense, Conv2D, MaxPool2D, Flatten\n",
    "from keras.applications.vgg16 import VGG16"
   ]
  },
  {
   "cell_type": "code",
   "execution_count": 2,
   "metadata": {
    "colab": {
     "base_uri": "https://localhost:8080/"
    },
    "id": "_A_9rjoHk35t",
    "outputId": "dc82f257-20f3-4109-f8d4-d22adede0d64"
   },
   "outputs": [
    {
     "name": "stdout",
     "output_type": "stream",
     "text": [
      "Mounted at /content/gdrive\n"
     ]
    }
   ],
   "source": [
    "from google.colab import drive\n",
    "drive.mount('/content/gdrive')"
   ]
  },
  {
   "cell_type": "code",
   "execution_count": 3,
   "metadata": {
    "colab": {
     "base_uri": "https://localhost:8080/",
     "height": 35
    },
    "id": "jPxsvUexk6nH",
    "outputId": "122e20dd-50ab-4d46-f9a3-7847adc717a2"
   },
   "outputs": [
    {
     "data": {
      "application/vnd.google.colaboratory.intrinsic+json": {
       "type": "string"
      },
      "text/plain": [
       "'/device:GPU:0'"
      ]
     },
     "execution_count": 3,
     "metadata": {
      "tags": []
     },
     "output_type": "execute_result"
    }
   ],
   "source": [
    "tf.test.gpu_device_name()"
   ]
  },
  {
   "cell_type": "code",
   "execution_count": null,
   "metadata": {
    "id": "7RlUBi_YqciH"
   },
   "outputs": [],
   "source": [
    "%cd /content/gdrive/MyDrive/Kaggle/data\n",
    "!unzip \\*.zip  && rm *.zip"
   ]
  },
  {
   "cell_type": "code",
   "execution_count": 10,
   "metadata": {
    "colab": {
     "base_uri": "https://localhost:8080/"
    },
    "id": "MYhyFg-9lBGc",
    "outputId": "422f9ac4-9d0c-4eda-c8e8-28ac9581c640"
   },
   "outputs": [
    {
     "name": "stdout",
     "output_type": "stream",
     "text": [
      "Found 9138 images belonging to 49 classes.\n",
      "Found 3021 images belonging to 49 classes.\n",
      "Found 4026 images belonging to 49 classes.\n"
     ]
    }
   ],
   "source": [
    "gen_params = {\"rescale\":1.0/255,\n",
    "              \"featurewise_center\":False,\n",
    "              \"samplewise_center\":False,\n",
    "              \"featurewise_std_normalization\":False,\n",
    "              \"samplewise_std_normalization\":False,\n",
    "              \"zca_whitening\":False,\n",
    "              \"rotation_range\":20,\n",
    "              \"width_shift_range\":0.1,\n",
    "              \"height_shift_range\":0.1,\n",
    "              \"shear_range\":0.2,\n",
    "              \"zoom_range\":0.1,\n",
    "              \"horizontal_flip\":True,\n",
    "              \"fill_mode\":'constant',\n",
    "              \"cval\": 0,\n",
    "              \"validation_split\":0.25}\n",
    "\n",
    "train_datagen = tf.keras.preprocessing.image.ImageDataGenerator(**gen_params)\n",
    "\n",
    "test_params = {\"rescale\":1.0/255,}\n",
    "test_datagen = tf.keras.preprocessing.image.ImageDataGenerator(**test_params)\n",
    "\n",
    "\n",
    "## Data generator for training images\n",
    "train_generator = train_datagen.flow_from_directory('/content/gdrive/MyDrive/Kaggle/data/car_data/train/',\n",
    "                                                    class_mode='categorical', batch_size = 32,\n",
    "                                                    target_size=(224,224),color_mode='rgb',shuffle = True,subset='training')\n",
    "\n",
    "val_generator = train_datagen.flow_from_directory('/content/gdrive/MyDrive/Kaggle/data/car_data/train/',\n",
    "                                                    class_mode='categorical', batch_size = 32, \n",
    "                                                    target_size=(224,224),color_mode='rgb',shuffle = True,subset='validation')\n",
    "\n",
    "test_generator = test_datagen.flow_from_directory('/content/gdrive/MyDrive/Kaggle/data/car_data/test/',\n",
    "                                                    class_mode='categorical', batch_size = 32,\n",
    "                                                    target_size=(224,224),color_mode='rgb',shuffle = True)"
   ]
  },
  {
   "cell_type": "code",
   "execution_count": 11,
   "metadata": {
    "id": "brjZwPSClCj8"
   },
   "outputs": [],
   "source": [
    "def build_vgg16_transfer_learning_model(img_height=224,img_width=224,num_classes=49):\n",
    "\n",
    "    # base model\n",
    "    base_model = tf.keras.applications.VGG16(\n",
    "        weights='imagenet',\n",
    "        input_shape=(img_height, img_width, 3),\n",
    "        include_top=False) \n",
    "    base_model.trainable = False\n",
    "\n",
    "    # add the top\n",
    "    input_image = tf.keras.Input(shape=(img_height, img_width, 3))\n",
    "    x1 = base_model(input_image, training=False)\n",
    "    x2 = tf.keras.layers.Flatten()(x1)\n",
    "    out = tf.keras.layers.Dense(num_classes,activation = 'softmax')(x2)\n",
    "    model = tf.keras.Model(inputs = input_image, outputs =out)\n",
    "  \n",
    "    #compile and return\n",
    "    model.compile(optimizer=tf.keras.optimizers.Adam(lr = 1e-4),loss='categorical_crossentropy',metrics=['accuracy'])\n",
    "    \n",
    "    return model"
   ]
  },
  {
   "cell_type": "code",
   "execution_count": 12,
   "metadata": {
    "colab": {
     "base_uri": "https://localhost:8080/"
    },
    "id": "3WvDMH8LlD7J",
    "outputId": "a78b86a9-6ea4-42e4-c130-98ab2165174b"
   },
   "outputs": [
    {
     "name": "stdout",
     "output_type": "stream",
     "text": [
      "Model: \"model_1\"\n",
      "_________________________________________________________________\n",
      "Layer (type)                 Output Shape              Param #   \n",
      "=================================================================\n",
      "input_4 (InputLayer)         [(None, 224, 224, 3)]     0         \n",
      "_________________________________________________________________\n",
      "vgg16 (Functional)           (None, 7, 7, 512)         14714688  \n",
      "_________________________________________________________________\n",
      "flatten_1 (Flatten)          (None, 25088)             0         \n",
      "_________________________________________________________________\n",
      "dense_1 (Dense)              (None, 49)                1229361   \n",
      "=================================================================\n",
      "Total params: 15,944,049\n",
      "Trainable params: 1,229,361\n",
      "Non-trainable params: 14,714,688\n",
      "_________________________________________________________________\n"
     ]
    }
   ],
   "source": [
    "model = build_vgg16_transfer_learning_model()\n",
    "model.summary()"
   ]
  },
  {
   "cell_type": "code",
   "execution_count": 13,
   "metadata": {
    "id": "SSBAS05dlFoI"
   },
   "outputs": [],
   "source": [
    "model_name = \"vgg16_cars_49_classes_cropped.h5\"\n",
    "early_stop = tf.keras.callbacks.EarlyStopping(monitor='val_loss', patience = 20)\n",
    "\n",
    "monitor = tf.keras.callbacks.ModelCheckpoint(model_name, monitor='val_loss',\\\n",
    "                                             verbose=0,save_best_only=True,\\\n",
    "                                             save_weights_only=True,\\\n",
    "                                             mode='min')\n",
    "# Learning rate schedule\n",
    "def scheduler(epoch, lr):\n",
    "    if epoch%4 == 0 and epoch!= 0:\n",
    "        lr = lr/2\n",
    "    return lr\n",
    "\n",
    "lr_schedule = tf.keras.callbacks.LearningRateScheduler(scheduler,verbose = 0)"
   ]
  },
  {
   "cell_type": "code",
   "execution_count": 14,
   "metadata": {
    "colab": {
     "base_uri": "https://localhost:8080/"
    },
    "id": "DJQzA4ZMmS7t",
    "outputId": "8aa1ccee-cba4-48f9-888a-8058b1b3c90e"
   },
   "outputs": [
    {
     "name": "stdout",
     "output_type": "stream",
     "text": [
      "Epoch 1/100\n",
      "286/286 [==============================] - 167s 582ms/step - loss: 3.4192 - accuracy: 0.1199 - val_loss: 2.8033 - val_accuracy: 0.2526\n",
      "Epoch 2/100\n",
      "286/286 [==============================] - 163s 570ms/step - loss: 2.6397 - accuracy: 0.2940 - val_loss: 2.4467 - val_accuracy: 0.3244\n",
      "Epoch 3/100\n",
      "286/286 [==============================] - 162s 567ms/step - loss: 2.2685 - accuracy: 0.3882 - val_loss: 2.2142 - val_accuracy: 0.3919\n",
      "Epoch 4/100\n",
      "286/286 [==============================] - 163s 569ms/step - loss: 1.9909 - accuracy: 0.4719 - val_loss: 2.0934 - val_accuracy: 0.4085\n",
      "Epoch 5/100\n",
      "286/286 [==============================] - 163s 569ms/step - loss: 1.8057 - accuracy: 0.5233 - val_loss: 1.9592 - val_accuracy: 0.4777\n",
      "Epoch 6/100\n",
      "286/286 [==============================] - 163s 569ms/step - loss: 1.7033 - accuracy: 0.5612 - val_loss: 1.8948 - val_accuracy: 0.4916\n",
      "Epoch 7/100\n",
      "286/286 [==============================] - 162s 568ms/step - loss: 1.6509 - accuracy: 0.5772 - val_loss: 1.8622 - val_accuracy: 0.4992\n",
      "Epoch 8/100\n",
      "286/286 [==============================] - 163s 569ms/step - loss: 1.5876 - accuracy: 0.5883 - val_loss: 1.8338 - val_accuracy: 0.5071\n",
      "Epoch 9/100\n",
      "286/286 [==============================] - 166s 579ms/step - loss: 1.5298 - accuracy: 0.6179 - val_loss: 1.7696 - val_accuracy: 0.5164\n",
      "Epoch 10/100\n",
      "286/286 [==============================] - 163s 570ms/step - loss: 1.4816 - accuracy: 0.6218 - val_loss: 1.7527 - val_accuracy: 0.5283\n",
      "Epoch 11/100\n",
      "286/286 [==============================] - 163s 571ms/step - loss: 1.4757 - accuracy: 0.6214 - val_loss: 1.7318 - val_accuracy: 0.5339\n",
      "Epoch 12/100\n",
      "286/286 [==============================] - 163s 568ms/step - loss: 1.4409 - accuracy: 0.6303 - val_loss: 1.7058 - val_accuracy: 0.5422\n",
      "Epoch 13/100\n",
      "286/286 [==============================] - 163s 571ms/step - loss: 1.4020 - accuracy: 0.6507 - val_loss: 1.6893 - val_accuracy: 0.5449\n",
      "Epoch 14/100\n",
      "286/286 [==============================] - 163s 569ms/step - loss: 1.3855 - accuracy: 0.6567 - val_loss: 1.6738 - val_accuracy: 0.5462\n",
      "Epoch 15/100\n",
      "286/286 [==============================] - 163s 569ms/step - loss: 1.4084 - accuracy: 0.6451 - val_loss: 1.6889 - val_accuracy: 0.5432\n",
      "Epoch 16/100\n",
      "286/286 [==============================] - 162s 565ms/step - loss: 1.3739 - accuracy: 0.6560 - val_loss: 1.6707 - val_accuracy: 0.5505\n",
      "Epoch 17/100\n",
      "286/286 [==============================] - 167s 585ms/step - loss: 1.3584 - accuracy: 0.6593 - val_loss: 1.6549 - val_accuracy: 0.5478\n",
      "Epoch 18/100\n",
      "286/286 [==============================] - 162s 566ms/step - loss: 1.3630 - accuracy: 0.6644 - val_loss: 1.6486 - val_accuracy: 0.5485\n",
      "Epoch 19/100\n",
      "286/286 [==============================] - 164s 573ms/step - loss: 1.3463 - accuracy: 0.6687 - val_loss: 1.6519 - val_accuracy: 0.5538\n",
      "Epoch 20/100\n",
      "286/286 [==============================] - 163s 571ms/step - loss: 1.3297 - accuracy: 0.6592 - val_loss: 1.6463 - val_accuracy: 0.5571\n",
      "Epoch 21/100\n",
      "286/286 [==============================] - 160s 561ms/step - loss: 1.3327 - accuracy: 0.6656 - val_loss: 1.6354 - val_accuracy: 0.5657\n",
      "Epoch 22/100\n",
      "286/286 [==============================] - 161s 562ms/step - loss: 1.3234 - accuracy: 0.6666 - val_loss: 1.6521 - val_accuracy: 0.5568\n",
      "Epoch 23/100\n",
      "286/286 [==============================] - 161s 564ms/step - loss: 1.3341 - accuracy: 0.6704 - val_loss: 1.6285 - val_accuracy: 0.5627\n",
      "Epoch 24/100\n",
      "286/286 [==============================] - 160s 561ms/step - loss: 1.3303 - accuracy: 0.6663 - val_loss: 1.6574 - val_accuracy: 0.5545\n",
      "Epoch 25/100\n",
      "286/286 [==============================] - 160s 559ms/step - loss: 1.3184 - accuracy: 0.6643 - val_loss: 1.6394 - val_accuracy: 0.5488\n",
      "Epoch 26/100\n",
      "286/286 [==============================] - 160s 559ms/step - loss: 1.3096 - accuracy: 0.6688 - val_loss: 1.6374 - val_accuracy: 0.5571\n",
      "Epoch 27/100\n",
      "286/286 [==============================] - 160s 558ms/step - loss: 1.3219 - accuracy: 0.6670 - val_loss: 1.6482 - val_accuracy: 0.5564\n",
      "Epoch 28/100\n",
      "286/286 [==============================] - 160s 559ms/step - loss: 1.3316 - accuracy: 0.6696 - val_loss: 1.6464 - val_accuracy: 0.5611\n",
      "Epoch 29/100\n",
      "286/286 [==============================] - 161s 562ms/step - loss: 1.3072 - accuracy: 0.6762 - val_loss: 1.6366 - val_accuracy: 0.5621\n",
      "Epoch 30/100\n",
      "286/286 [==============================] - 161s 562ms/step - loss: 1.3185 - accuracy: 0.6799 - val_loss: 1.6265 - val_accuracy: 0.5591\n",
      "Epoch 31/100\n",
      "286/286 [==============================] - 160s 559ms/step - loss: 1.2845 - accuracy: 0.6835 - val_loss: 1.6464 - val_accuracy: 0.5535\n",
      "Epoch 32/100\n",
      "286/286 [==============================] - 160s 561ms/step - loss: 1.3105 - accuracy: 0.6696 - val_loss: 1.6329 - val_accuracy: 0.5581\n",
      "Epoch 33/100\n",
      "286/286 [==============================] - 160s 560ms/step - loss: 1.3064 - accuracy: 0.6805 - val_loss: 1.6174 - val_accuracy: 0.5641\n",
      "Epoch 34/100\n",
      "286/286 [==============================] - 161s 563ms/step - loss: 1.3251 - accuracy: 0.6654 - val_loss: 1.6319 - val_accuracy: 0.5657\n",
      "Epoch 35/100\n",
      "286/286 [==============================] - 164s 572ms/step - loss: 1.3149 - accuracy: 0.6770 - val_loss: 1.6415 - val_accuracy: 0.5568\n",
      "Epoch 36/100\n",
      "286/286 [==============================] - 161s 564ms/step - loss: 1.3042 - accuracy: 0.6821 - val_loss: 1.6231 - val_accuracy: 0.5703\n",
      "Epoch 37/100\n",
      "286/286 [==============================] - 160s 561ms/step - loss: 1.3037 - accuracy: 0.6764 - val_loss: 1.6449 - val_accuracy: 0.5568\n",
      "Epoch 38/100\n",
      "286/286 [==============================] - 161s 562ms/step - loss: 1.3062 - accuracy: 0.6702 - val_loss: 1.6206 - val_accuracy: 0.5664\n",
      "Epoch 39/100\n",
      "286/286 [==============================] - 160s 561ms/step - loss: 1.3221 - accuracy: 0.6726 - val_loss: 1.6406 - val_accuracy: 0.5574\n",
      "Epoch 40/100\n",
      "286/286 [==============================] - 161s 562ms/step - loss: 1.3159 - accuracy: 0.6756 - val_loss: 1.6177 - val_accuracy: 0.5597\n",
      "Epoch 41/100\n",
      "286/286 [==============================] - 160s 561ms/step - loss: 1.2901 - accuracy: 0.6776 - val_loss: 1.6313 - val_accuracy: 0.5535\n",
      "Epoch 42/100\n",
      "286/286 [==============================] - 161s 562ms/step - loss: 1.3252 - accuracy: 0.6672 - val_loss: 1.6215 - val_accuracy: 0.5581\n",
      "Epoch 43/100\n",
      "286/286 [==============================] - 160s 559ms/step - loss: 1.2995 - accuracy: 0.6814 - val_loss: 1.6393 - val_accuracy: 0.5545\n",
      "Epoch 44/100\n",
      "286/286 [==============================] - 161s 563ms/step - loss: 1.3051 - accuracy: 0.6725 - val_loss: 1.6246 - val_accuracy: 0.5647\n",
      "Epoch 45/100\n",
      "286/286 [==============================] - 160s 560ms/step - loss: 1.3086 - accuracy: 0.6731 - val_loss: 1.6308 - val_accuracy: 0.5621\n",
      "Epoch 46/100\n",
      "286/286 [==============================] - 161s 562ms/step - loss: 1.3237 - accuracy: 0.6617 - val_loss: 1.6362 - val_accuracy: 0.5687\n",
      "Epoch 47/100\n",
      "286/286 [==============================] - 160s 560ms/step - loss: 1.3147 - accuracy: 0.6704 - val_loss: 1.6253 - val_accuracy: 0.5647\n",
      "Epoch 48/100\n",
      "286/286 [==============================] - 160s 561ms/step - loss: 1.3273 - accuracy: 0.6648 - val_loss: 1.6143 - val_accuracy: 0.5710\n",
      "Epoch 49/100\n",
      "286/286 [==============================] - 161s 562ms/step - loss: 1.2822 - accuracy: 0.6894 - val_loss: 1.6303 - val_accuracy: 0.5607\n",
      "Epoch 50/100\n",
      "286/286 [==============================] - 161s 562ms/step - loss: 1.3014 - accuracy: 0.6792 - val_loss: 1.6144 - val_accuracy: 0.5654\n",
      "Epoch 51/100\n",
      "286/286 [==============================] - 161s 563ms/step - loss: 1.2963 - accuracy: 0.6777 - val_loss: 1.6315 - val_accuracy: 0.5644\n",
      "Epoch 52/100\n",
      "286/286 [==============================] - 161s 562ms/step - loss: 1.2923 - accuracy: 0.6844 - val_loss: 1.6504 - val_accuracy: 0.5511\n",
      "Epoch 53/100\n",
      "286/286 [==============================] - 160s 561ms/step - loss: 1.3011 - accuracy: 0.6752 - val_loss: 1.6248 - val_accuracy: 0.5581\n",
      "Epoch 54/100\n",
      "286/286 [==============================] - 162s 566ms/step - loss: 1.3060 - accuracy: 0.6756 - val_loss: 1.6395 - val_accuracy: 0.5611\n",
      "Epoch 55/100\n",
      "286/286 [==============================] - 161s 563ms/step - loss: 1.3143 - accuracy: 0.6787 - val_loss: 1.6296 - val_accuracy: 0.5634\n",
      "Epoch 56/100\n",
      "286/286 [==============================] - 161s 562ms/step - loss: 1.3106 - accuracy: 0.6710 - val_loss: 1.6156 - val_accuracy: 0.5664\n",
      "Epoch 57/100\n",
      "286/286 [==============================] - 161s 564ms/step - loss: 1.3021 - accuracy: 0.6748 - val_loss: 1.6434 - val_accuracy: 0.5525\n",
      "Epoch 58/100\n",
      "286/286 [==============================] - 160s 561ms/step - loss: 1.2995 - accuracy: 0.6730 - val_loss: 1.6285 - val_accuracy: 0.5650\n",
      "Epoch 59/100\n",
      "286/286 [==============================] - 161s 562ms/step - loss: 1.2978 - accuracy: 0.6737 - val_loss: 1.6304 - val_accuracy: 0.5581\n",
      "Epoch 60/100\n",
      "286/286 [==============================] - 161s 563ms/step - loss: 1.2937 - accuracy: 0.6782 - val_loss: 1.6275 - val_accuracy: 0.5597\n",
      "Epoch 61/100\n",
      "286/286 [==============================] - 161s 562ms/step - loss: 1.3101 - accuracy: 0.6820 - val_loss: 1.6226 - val_accuracy: 0.5531\n",
      "Epoch 62/100\n",
      "286/286 [==============================] - 161s 562ms/step - loss: 1.3005 - accuracy: 0.6761 - val_loss: 1.6448 - val_accuracy: 0.5607\n",
      "Epoch 63/100\n",
      "286/286 [==============================] - 161s 562ms/step - loss: 1.3180 - accuracy: 0.6665 - val_loss: 1.6232 - val_accuracy: 0.5650\n",
      "Epoch 64/100\n",
      "286/286 [==============================] - 161s 562ms/step - loss: 1.3099 - accuracy: 0.6660 - val_loss: 1.6175 - val_accuracy: 0.5607\n",
      "Epoch 65/100\n",
      "286/286 [==============================] - 161s 562ms/step - loss: 1.3047 - accuracy: 0.6795 - val_loss: 1.6379 - val_accuracy: 0.5601\n",
      "Epoch 66/100\n",
      "286/286 [==============================] - 160s 560ms/step - loss: 1.3248 - accuracy: 0.6656 - val_loss: 1.6294 - val_accuracy: 0.5521\n",
      "Epoch 67/100\n",
      "286/286 [==============================] - 161s 563ms/step - loss: 1.2875 - accuracy: 0.6811 - val_loss: 1.6436 - val_accuracy: 0.5581\n",
      "Epoch 68/100\n",
      "286/286 [==============================] - 160s 560ms/step - loss: 1.3142 - accuracy: 0.6674 - val_loss: 1.6176 - val_accuracy: 0.5690\n"
     ]
    }
   ],
   "source": [
    "batch = 128\n",
    "num_epochs = 100\n",
    "\n",
    "history = model.fit(train_generator,\n",
    "                    validation_data = val_generator,\n",
    "                    epochs=num_epochs,\n",
    "                    verbose=1,\n",
    "                    batch_size=batch,\n",
    "                    callbacks=[early_stop,monitor,lr_schedule])"
   ]
  },
  {
   "cell_type": "code",
   "execution_count": 15,
   "metadata": {
    "colab": {
     "base_uri": "https://localhost:8080/"
    },
    "id": "srsAmGZQmV6x",
    "outputId": "543f5183-c81c-4cf5-a5b7-60ce2aa8b30a"
   },
   "outputs": [
    {
     "name": "stdout",
     "output_type": "stream",
     "text": [
      "Model: \"model_2\"\n",
      "_________________________________________________________________\n",
      "Layer (type)                 Output Shape              Param #   \n",
      "=================================================================\n",
      "input_6 (InputLayer)         [(None, 224, 224, 3)]     0         \n",
      "_________________________________________________________________\n",
      "vgg16 (Functional)           (None, 7, 7, 512)         14714688  \n",
      "_________________________________________________________________\n",
      "flatten_2 (Flatten)          (None, 25088)             0         \n",
      "_________________________________________________________________\n",
      "dense_2 (Dense)              (None, 49)                1229361   \n",
      "=================================================================\n",
      "Total params: 15,944,049\n",
      "Trainable params: 15,944,049\n",
      "Non-trainable params: 0\n",
      "_________________________________________________________________\n",
      "None\n"
     ]
    }
   ],
   "source": [
    "## finetune model\n",
    "base_model = tf.keras.applications.VGG16(\n",
    "    weights='imagenet',  # Load weights pre-trained on ImageNet.\n",
    "    input_shape=(224,224,3),\n",
    "    include_top=False) \n",
    "base_model.trainable = True\n",
    "input_image = tf.keras.Input(shape=(224,224,3))\n",
    "x1 = base_model(input_image, training=True)\n",
    "x2 = tf.keras.layers.Flatten()(x1)\n",
    "out = tf.keras.layers.Dense(49,activation = 'softmax')(x2)\n",
    "model = tf.keras.Model(input_image, out)\n",
    "print(model.summary())\n",
    "\n",
    "model.compile(optimizer=tf.keras.optimizers.Adam(lr = 1e-6),\n",
    "              loss='categorical_crossentropy',\n",
    "              metrics=['accuracy'])\n",
    "model.load_weights(model_name)"
   ]
  },
  {
   "cell_type": "code",
   "execution_count": 16,
   "metadata": {
    "colab": {
     "base_uri": "https://localhost:8080/"
    },
    "id": "iqNWlqZnmYJF",
    "outputId": "b59139bd-8edf-4100-a6c2-338a0ccd9cba"
   },
   "outputs": [
    {
     "name": "stdout",
     "output_type": "stream",
     "text": [
      "Epoch 1/100\n",
      "286/286 [==============================] - 166s 574ms/step - loss: 1.1580 - accuracy: 0.6789 - val_loss: 1.3977 - val_accuracy: 0.6015\n",
      "Epoch 2/100\n",
      "286/286 [==============================] - 163s 570ms/step - loss: 0.9811 - accuracy: 0.7105 - val_loss: 1.3474 - val_accuracy: 0.6097\n",
      "Epoch 3/100\n",
      "286/286 [==============================] - 163s 570ms/step - loss: 0.8997 - accuracy: 0.7325 - val_loss: 1.2992 - val_accuracy: 0.6273\n",
      "Epoch 4/100\n",
      "286/286 [==============================] - 163s 568ms/step - loss: 0.8749 - accuracy: 0.7389 - val_loss: 1.2979 - val_accuracy: 0.6230\n",
      "Epoch 5/100\n",
      "286/286 [==============================] - 164s 572ms/step - loss: 0.8013 - accuracy: 0.7594 - val_loss: 1.2596 - val_accuracy: 0.6395\n",
      "Epoch 6/100\n",
      "286/286 [==============================] - 163s 569ms/step - loss: 0.7948 - accuracy: 0.7600 - val_loss: 1.2514 - val_accuracy: 0.6548\n",
      "Epoch 7/100\n",
      "286/286 [==============================] - 163s 570ms/step - loss: 0.7758 - accuracy: 0.7626 - val_loss: 1.2305 - val_accuracy: 0.6534\n",
      "Epoch 8/100\n",
      "286/286 [==============================] - 163s 570ms/step - loss: 0.7731 - accuracy: 0.7666 - val_loss: 1.2214 - val_accuracy: 0.6531\n",
      "Epoch 9/100\n",
      "286/286 [==============================] - 163s 571ms/step - loss: 0.7516 - accuracy: 0.7708 - val_loss: 1.2284 - val_accuracy: 0.6528\n",
      "Epoch 10/100\n",
      "286/286 [==============================] - 163s 571ms/step - loss: 0.7487 - accuracy: 0.7679 - val_loss: 1.2096 - val_accuracy: 0.6607\n",
      "Epoch 11/100\n",
      "286/286 [==============================] - 163s 570ms/step - loss: 0.7312 - accuracy: 0.7723 - val_loss: 1.2245 - val_accuracy: 0.6514\n",
      "Epoch 12/100\n",
      "286/286 [==============================] - 163s 570ms/step - loss: 0.7361 - accuracy: 0.7735 - val_loss: 1.2029 - val_accuracy: 0.6600\n",
      "Epoch 13/100\n",
      "286/286 [==============================] - 163s 569ms/step - loss: 0.7196 - accuracy: 0.7818 - val_loss: 1.1606 - val_accuracy: 0.6726\n",
      "Epoch 14/100\n",
      "286/286 [==============================] - 163s 570ms/step - loss: 0.7426 - accuracy: 0.7738 - val_loss: 1.1971 - val_accuracy: 0.6551\n",
      "Epoch 15/100\n",
      "286/286 [==============================] - 163s 571ms/step - loss: 0.7267 - accuracy: 0.7791 - val_loss: 1.1905 - val_accuracy: 0.6630\n",
      "Epoch 16/100\n",
      "286/286 [==============================] - 163s 571ms/step - loss: 0.7469 - accuracy: 0.7749 - val_loss: 1.1856 - val_accuracy: 0.6710\n",
      "Epoch 17/100\n",
      "286/286 [==============================] - 163s 570ms/step - loss: 0.7250 - accuracy: 0.7785 - val_loss: 1.2031 - val_accuracy: 0.6617\n",
      "Epoch 18/100\n",
      "286/286 [==============================] - 163s 571ms/step - loss: 0.7190 - accuracy: 0.7799 - val_loss: 1.1895 - val_accuracy: 0.6591\n",
      "Epoch 19/100\n",
      "286/286 [==============================] - 163s 570ms/step - loss: 0.7345 - accuracy: 0.7811 - val_loss: 1.2000 - val_accuracy: 0.6637\n",
      "Epoch 20/100\n",
      "286/286 [==============================] - 163s 570ms/step - loss: 0.7118 - accuracy: 0.7871 - val_loss: 1.1758 - val_accuracy: 0.6581\n",
      "Epoch 21/100\n",
      "286/286 [==============================] - 163s 571ms/step - loss: 0.7040 - accuracy: 0.7870 - val_loss: 1.1968 - val_accuracy: 0.6653\n",
      "Epoch 22/100\n",
      "286/286 [==============================] - 164s 572ms/step - loss: 0.7081 - accuracy: 0.7844 - val_loss: 1.1985 - val_accuracy: 0.6600\n",
      "Epoch 23/100\n",
      "286/286 [==============================] - 163s 571ms/step - loss: 0.7173 - accuracy: 0.7785 - val_loss: 1.1860 - val_accuracy: 0.6716\n",
      "Epoch 24/100\n",
      "286/286 [==============================] - 163s 570ms/step - loss: 0.7164 - accuracy: 0.7816 - val_loss: 1.1871 - val_accuracy: 0.6640\n",
      "Epoch 25/100\n",
      "286/286 [==============================] - 163s 569ms/step - loss: 0.7108 - accuracy: 0.7847 - val_loss: 1.1859 - val_accuracy: 0.6564\n",
      "Epoch 26/100\n",
      "286/286 [==============================] - 163s 570ms/step - loss: 0.7281 - accuracy: 0.7734 - val_loss: 1.1701 - val_accuracy: 0.6690\n",
      "Epoch 27/100\n",
      "286/286 [==============================] - 163s 570ms/step - loss: 0.7013 - accuracy: 0.7847 - val_loss: 1.1912 - val_accuracy: 0.6624\n",
      "Epoch 28/100\n",
      "286/286 [==============================] - 163s 569ms/step - loss: 0.7135 - accuracy: 0.7856 - val_loss: 1.2218 - val_accuracy: 0.6521\n",
      "Epoch 29/100\n",
      "286/286 [==============================] - 163s 569ms/step - loss: 0.7040 - accuracy: 0.7873 - val_loss: 1.2169 - val_accuracy: 0.6577\n",
      "Epoch 30/100\n",
      "286/286 [==============================] - 163s 569ms/step - loss: 0.7124 - accuracy: 0.7838 - val_loss: 1.1630 - val_accuracy: 0.6756\n",
      "Epoch 31/100\n",
      "286/286 [==============================] - 163s 569ms/step - loss: 0.7295 - accuracy: 0.7840 - val_loss: 1.1785 - val_accuracy: 0.6634\n",
      "Epoch 32/100\n",
      "286/286 [==============================] - 162s 567ms/step - loss: 0.6906 - accuracy: 0.7856 - val_loss: 1.1659 - val_accuracy: 0.6730\n",
      "Epoch 33/100\n",
      "286/286 [==============================] - 163s 568ms/step - loss: 0.7057 - accuracy: 0.7885 - val_loss: 1.1821 - val_accuracy: 0.6660\n"
     ]
    }
   ],
   "source": [
    "batch = 128\n",
    "num_epochs = 100\n",
    "history_2 = model.fit(train_generator,\n",
    "          validation_data = val_generator,\n",
    "          epochs=num_epochs,\n",
    "          verbose=1,\n",
    "          batch_size=batch,\n",
    "          callbacks=[early_stop,monitor,lr_schedule])"
   ]
  },
  {
   "cell_type": "code",
   "execution_count": 17,
   "metadata": {
    "colab": {
     "base_uri": "https://localhost:8080/",
     "height": 295
    },
    "id": "v1ze2lLImfoS",
    "outputId": "f007f629-9f7c-49c0-9d85-01403f226fc5"
   },
   "outputs": [
    {
     "data": {
      "image/png": "[encoded data removed]",
      "text/plain": [
       "<Figure size 432x288 with 1 Axes>"
      ]
     },
     "metadata": {
      "needs_background": "light",
      "tags": []
     },
     "output_type": "display_data"
    }
   ],
   "source": [
    "plt.plot(history.history['accuracy'])\n",
    "plt.plot(history.history['val_accuracy'])\n",
    "plt.title('model accuracy (training 1)')\n",
    "plt.ylabel('accuracy')\n",
    "plt.xlabel('epoch')\n",
    "plt.legend(['train', 'val'], loc='upper left')\n",
    "plt.show()"
   ]
  },
  {
   "cell_type": "code",
   "execution_count": 18,
   "metadata": {
    "colab": {
     "base_uri": "https://localhost:8080/"
    },
    "id": "Eg2u1XPamgQf",
    "outputId": "3d047657-300a-4dc8-82f3-79c79885cee8"
   },
   "outputs": [
    {
     "name": "stdout",
     "output_type": "stream",
     "text": [
      "126/126 [==============================] - 26s 209ms/step - loss: 1.0663 - accuracy: 0.7052\n"
     ]
    }
   ],
   "source": [
    "model.load_weights('/content/gdrive/MyDrive/Kaggle/data/vgg16_cars_49_classes_cropped.h5')\n",
    "metrics = model.evaluate(test_generator)"
   ]
  },
  {
   "cell_type": "code",
   "execution_count": 19,
   "metadata": {
    "colab": {
     "base_uri": "https://localhost:8080/",
     "height": 295
    },
    "id": "7vxZXG_aY9ac",
    "outputId": "b27ec509-775d-4b85-88a3-d27446366101"
   },
   "outputs": [
    {
     "data": {
      "image/png": "[encoded data removed]",
      "text/plain": [
       "<Figure size 432x288 with 1 Axes>"
      ]
     },
     "metadata": {
      "needs_background": "light",
      "tags": []
     },
     "output_type": "display_data"
    }
   ],
   "source": [
    "plt.plot(history_2.history['accuracy'])\n",
    "plt.plot(history_2.history['val_accuracy'])\n",
    "plt.title('model accuracy (fine tuning')\n",
    "plt.ylabel('accuracy')\n",
    "plt.xlabel('epoch')\n",
    "plt.legend(['train', 'val'], loc='upper left')\n",
    "plt.show()"
   ]
  },
  {
   "cell_type": "code",
   "execution_count": 20,
   "metadata": {
    "colab": {
     "base_uri": "https://localhost:8080/",
     "height": 295
    },
    "id": "l_VNeyQQY_jz",
    "outputId": "f13d3817-2ff4-49a1-f62d-57cb30ee2eab"
   },
   "outputs": [
    {
     "data": {
      "image/png": "[encoded data removed]",
      "text/plain": [
       "<Figure size 432x288 with 1 Axes>"
      ]
     },
     "metadata": {
      "needs_background": "light",
      "tags": []
     },
     "output_type": "display_data"
    }
   ],
   "source": [
    "acc_total = np.zeros(len(history.history['accuracy']) + len(history_2.history['accuracy']))\n",
    "val_total = np.zeros(len(history.history['val_accuracy']) + len(history_2.history['val_accuracy']))\n",
    "\n",
    "for i in range(len(history.history['accuracy'])):\n",
    "  acc_total[i] = history.history['accuracy'][i]\n",
    "  val_total[i] = history.history['val_accuracy'][i]\n",
    "  \n",
    "for j in range(len(history_2.history['accuracy'])):\n",
    "  acc_total[j+len(history.history['accuracy'])] = history_2.history['accuracy'][j]\n",
    "  val_total[j+len(history.history['val_accuracy'])] = history_2.history['val_accuracy'][j]\n",
    "\n",
    "\n",
    "\n",
    "plt.plot(acc_total)\n",
    "plt.plot(val_total)\n",
    "plt.title('Total Training')\n",
    "plt.ylabel('accuracy')\n",
    "plt.xlabel('epoch')\n",
    "plt.legend(['train', 'val'], loc='upper left')\n",
    "plt.show()  "
   ]
  },
  {
   "cell_type": "code",
   "execution_count": 21,
   "metadata": {
    "colab": {
     "base_uri": "https://localhost:8080/"
    },
    "id": "PGlviU-5HXq3",
    "outputId": "1c997737-1a9e-4063-d9b9-38685285d014"
   },
   "outputs": [
    {
     "data": {
      "text/plain": [
       "0.6756041049957275"
      ]
     },
     "execution_count": 21,
     "metadata": {
      "tags": []
     },
     "output_type": "execute_result"
    }
   ],
   "source": [
    "max(history_2.history['val_accuracy'])"
   ]
  },
  {
   "cell_type": "code",
   "execution_count": 22,
   "metadata": {
    "colab": {
     "base_uri": "https://localhost:8080/"
    },
    "id": "bEBXLs0wHhON",
    "outputId": "f532ed82-c421-4f1e-b6f7-92141746e3f1"
   },
   "outputs": [
    {
     "data": {
      "text/plain": [
       "0.785182774066925"
      ]
     },
     "execution_count": 22,
     "metadata": {
      "tags": []
     },
     "output_type": "execute_result"
    }
   ],
   "source": [
    "max(history_2.history['accuracy'])"
   ]
  },
  {
   "cell_type": "code",
   "execution_count": null,
   "metadata": {
    "id": "4Ga3CH2gHllA"
   },
   "outputs": [],
   "source": []
  }
 ],
 "metadata": {
  "accelerator": "GPU",
  "colab": {
   "collapsed_sections": [],
   "machine_shape": "hm",
   "name": "CarsVGG16_49_classes_cropped.ipynb",
   "provenance": []
  },
  "kernelspec": {
   "display_name": "Python 3",
   "language": "python",
   "name": "python3"
  },
  "language_info": {
   "codemirror_mode": {
    "name": "ipython",
    "version": 3
   },
   "file_extension": ".py",
   "mimetype": "text/x-python",
   "name": "python",
   "nbconvert_exporter": "python",
   "pygments_lexer": "ipython3",
   "version": "3.7.4"
  }
 },
 "nbformat": 4,
 "nbformat_minor": 1
}
