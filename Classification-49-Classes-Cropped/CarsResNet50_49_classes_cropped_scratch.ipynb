{
 "cells": [
  {
   "cell_type": "markdown",
   "metadata": {
    "id": "PdEMgotncMF0"
   },
   "source": [
    "# ResNet50 Model Trained from Scratch\n",
    "This file is used to train a ResNet50 model from scratch on the adapted cars dataset (49 classes, images cropped around the bounding boxes, and 50% more training data)."
   ]
  },
  {
   "cell_type": "code",
   "execution_count": 1,
   "metadata": {
    "id": "z7-Ng7EJkwsd"
   },
   "outputs": [],
   "source": [
    "# importing libaries\n",
    "import matplotlib.pylab as plt\n",
    "import numpy as np\n",
    "import tensorflow as tf\n",
    "from tensorflow.keras.layers import Input, Conv2D, BatchNormalization\n",
    "from tensorflow.keras.layers import MaxPool2D, GlobalAveragePooling2D\n",
    "from tensorflow.keras.layers import Add, ReLU, Dense\n",
    "from tensorflow.keras import Model"
   ]
  },
  {
   "cell_type": "code",
   "execution_count": 2,
   "metadata": {
    "colab": {
     "base_uri": "https://localhost:8080/"
    },
    "id": "_A_9rjoHk35t",
    "outputId": "d0bf8cbb-379b-48f0-9670-fc6ce4367dfa"
   },
   "outputs": [
    {
     "name": "stdout",
     "output_type": "stream",
     "text": [
      "Mounted at /content/gdrive\n"
     ]
    }
   ],
   "source": [
    "from google.colab import drive\n",
    "drive.mount('/content/gdrive', force_remount=True)"
   ]
  },
  {
   "cell_type": "code",
   "execution_count": 3,
   "metadata": {
    "colab": {
     "base_uri": "https://localhost:8080/",
     "height": 35
    },
    "id": "jPxsvUexk6nH",
    "outputId": "ea01a616-e60d-4c91-9306-844f7ca858b2"
   },
   "outputs": [
    {
     "data": {
      "application/vnd.google.colaboratory.intrinsic+json": {
       "type": "string"
      },
      "text/plain": [
       "'/device:GPU:0'"
      ]
     },
     "execution_count": 3,
     "metadata": {
      "tags": []
     },
     "output_type": "execute_result"
    }
   ],
   "source": [
    "tf.test.gpu_device_name()"
   ]
  },
  {
   "cell_type": "code",
   "execution_count": 5,
   "metadata": {
    "colab": {
     "base_uri": "https://localhost:8080/"
    },
    "id": "MYhyFg-9lBGc",
    "outputId": "ba24a40e-121e-4def-eab9-d256b100745e"
   },
   "outputs": [
    {
     "name": "stdout",
     "output_type": "stream",
     "text": [
      "Found 9743 images belonging to 49 classes.\n",
      "Found 2416 images belonging to 49 classes.\n",
      "Found 4026 images belonging to 49 classes.\n"
     ]
    }
   ],
   "source": [
    "gen_params = {\"rescale\":1.0/255,\n",
    "              \"featurewise_center\":False,\n",
    "              \"samplewise_center\":False,\n",
    "              \"featurewise_std_normalization\":False,\n",
    "              \"samplewise_std_normalization\":False,\n",
    "              \"zca_whitening\":False,\n",
    "              \"rotation_range\":20,\n",
    "              \"width_shift_range\":0.1,\n",
    "              \"height_shift_range\":0.1,\n",
    "              \"shear_range\":0.2,\n",
    "              \"zoom_range\":0.1,\n",
    "              \"horizontal_flip\":True,\n",
    "              \"fill_mode\":'constant',\n",
    "              \"cval\": 0,\n",
    "              \"validation_split\":0.2}\n",
    "\n",
    "train_datagen = tf.keras.preprocessing.image.ImageDataGenerator(**gen_params)\n",
    "test_datagen = tf.keras.preprocessing.image.ImageDataGenerator(rescale = 1/255.0)\n",
    "\n",
    "\n",
    "## Data generator for training images\n",
    "train_generator = train_datagen.flow_from_directory('/content/gdrive/MyDrive/car_data/train',\n",
    "                                                    class_mode='categorical', batch_size = 32,\n",
    "                                                    target_size=(224,224),color_mode='rgb',shuffle = True,subset='training')\n",
    "\n",
    "val_generator = train_datagen.flow_from_directory('/content/gdrive/MyDrive/car_data/train',\n",
    "                                                    class_mode='categorical', batch_size = 32, \n",
    "                                                    target_size=(224,224),color_mode='rgb',shuffle = True,subset='validation')\n",
    "\n",
    "test_generator = test_datagen.flow_from_directory('/content/gdrive/MyDrive/car_data/test',\n",
    "                                                    class_mode='categorical', batch_size = 32,\n",
    "                                                    target_size=(224,224),color_mode='rgb',shuffle = True)"
   ]
  },
  {
   "cell_type": "code",
   "execution_count": 9,
   "metadata": {
    "colab": {
     "base_uri": "https://localhost:8080/"
    },
    "id": "M6VRnJ8CfAP5",
    "outputId": "2b351d46-5947-4d38-b994-483797ec1cf6"
   },
   "outputs": [
    {
     "name": "stdout",
     "output_type": "stream",
     "text": [
      "Model: \"model_1\"\n",
      "_________________________________________________________________\n",
      "Layer (type)                 Output Shape              Param #   \n",
      "=================================================================\n",
      "input_4 (InputLayer)         [(None, 224, 224, 3)]     0         \n",
      "_________________________________________________________________\n",
      "resnet50 (Functional)        (None, 7, 7, 2048)        23587712  \n",
      "_________________________________________________________________\n",
      "flatten (Flatten)            (None, 100352)            0         \n",
      "_________________________________________________________________\n",
      "dense_1 (Dense)              (None, 49)                4917297   \n",
      "=================================================================\n",
      "Total params: 28,505,009\n",
      "Trainable params: 28,451,889\n",
      "Non-trainable params: 53,120\n",
      "_________________________________________________________________\n"
     ]
    }
   ],
   "source": [
    "from keras.applications.resnet50 import ResNet50\n",
    "\n",
    "base = ResNet50(include_top=False,weights=None,input_shape=(224,224,3))\n",
    "\n",
    "input = tf.keras.layers.Input(shape=(224,224,3))\n",
    "x1= base(input)\n",
    "x2 = tf.keras.layers.Flatten()(x1)\n",
    "out = tf.keras.layers.Dense(49, activation='softmax')(x2)\n",
    "model = tf.keras.models.Model(input, out)\n",
    "\n",
    "model.compile(optimizer=tf.keras.optimizers.Adam(lr = 1e-4),loss='categorical_crossentropy',metrics=['accuracy'])\n",
    "model.summary()"
   ]
  },
  {
   "cell_type": "code",
   "execution_count": 10,
   "metadata": {
    "id": "db4B0QFQDEDM"
   },
   "outputs": [],
   "source": [
    "model_name = \"resnet50_cars_49_scratch.h5\"\n",
    "early_stop = tf.keras.callbacks.EarlyStopping(monitor='val_loss', patience = 20)\n",
    "\n",
    "monitor = tf.keras.callbacks.ModelCheckpoint(model_name, monitor='val_loss',\\\n",
    "                                             verbose=0,save_best_only=True,\\\n",
    "                                             save_weights_only=True,\\\n",
    "                                             mode='min')\n",
    "# Learning rate schedule\n",
    "def scheduler(epoch, lr):\n",
    "    if epoch%4 == 0 and epoch!= 0:\n",
    "        lr = lr/2\n",
    "    return lr\n",
    "\n",
    "lr_schedule = tf.keras.callbacks.LearningRateScheduler(scheduler,verbose = 0)"
   ]
  },
  {
   "cell_type": "code",
   "execution_count": 11,
   "metadata": {
    "colab": {
     "base_uri": "https://localhost:8080/"
    },
    "id": "n7xyDBZ0DEpM",
    "outputId": "94850a8c-c9c0-4779-893e-1059a038a53d"
   },
   "outputs": [
    {
     "name": "stdout",
     "output_type": "stream",
     "text": [
      "Epoch 1/100\n",
      "305/305 [==============================] - 226s 701ms/step - loss: 8.1814 - accuracy: 0.0559 - val_loss: 3.9513 - val_accuracy: 0.0476\n",
      "Epoch 2/100\n",
      "305/305 [==============================] - 210s 689ms/step - loss: 4.9829 - accuracy: 0.0796 - val_loss: 5.1870 - val_accuracy: 0.1138\n",
      "Epoch 3/100\n",
      "305/305 [==============================] - 208s 681ms/step - loss: 4.5543 - accuracy: 0.0971 - val_loss: 17.8688 - val_accuracy: 0.1043\n",
      "Epoch 4/100\n",
      "305/305 [==============================] - 211s 690ms/step - loss: 4.5961 - accuracy: 0.0998 - val_loss: 10.4035 - val_accuracy: 0.1080\n",
      "Epoch 5/100\n",
      "305/305 [==============================] - 208s 682ms/step - loss: 3.9822 - accuracy: 0.1233 - val_loss: 5.7423 - val_accuracy: 0.1304\n",
      "Epoch 6/100\n",
      "305/305 [==============================] - 209s 684ms/step - loss: 3.7899 - accuracy: 0.1217 - val_loss: 3.7837 - val_accuracy: 0.1333\n",
      "Epoch 7/100\n",
      "305/305 [==============================] - 208s 681ms/step - loss: 3.6888 - accuracy: 0.1239 - val_loss: 3.3106 - val_accuracy: 0.1362\n",
      "Epoch 8/100\n",
      "305/305 [==============================] - 206s 675ms/step - loss: 3.7457 - accuracy: 0.1229 - val_loss: 8.2699 - val_accuracy: 0.1254\n",
      "Epoch 9/100\n",
      "305/305 [==============================] - 207s 679ms/step - loss: 3.4313 - accuracy: 0.1471 - val_loss: 4.8780 - val_accuracy: 0.1399\n",
      "Epoch 10/100\n",
      "305/305 [==============================] - 207s 679ms/step - loss: 3.3492 - accuracy: 0.1422 - val_loss: 4.9551 - val_accuracy: 0.1300\n",
      "Epoch 11/100\n",
      "305/305 [==============================] - 208s 681ms/step - loss: 3.3102 - accuracy: 0.1497 - val_loss: 4.1655 - val_accuracy: 0.1523\n",
      "Epoch 12/100\n",
      "305/305 [==============================] - 208s 680ms/step - loss: 3.2666 - accuracy: 0.1462 - val_loss: 3.6322 - val_accuracy: 0.1556\n",
      "Epoch 13/100\n",
      "305/305 [==============================] - 208s 681ms/step - loss: 3.1679 - accuracy: 0.1733 - val_loss: 3.8473 - val_accuracy: 0.1594\n",
      "Epoch 14/100\n",
      "305/305 [==============================] - 206s 676ms/step - loss: 3.0897 - accuracy: 0.1784 - val_loss: 3.3912 - val_accuracy: 0.1606\n",
      "Epoch 15/100\n",
      "305/305 [==============================] - 207s 678ms/step - loss: 3.0572 - accuracy: 0.1789 - val_loss: 3.4599 - val_accuracy: 0.1672\n",
      "Epoch 16/100\n",
      "305/305 [==============================] - 209s 685ms/step - loss: 3.0204 - accuracy: 0.1835 - val_loss: 3.9650 - val_accuracy: 0.1627\n",
      "Epoch 17/100\n",
      "305/305 [==============================] - 207s 677ms/step - loss: 2.9778 - accuracy: 0.1872 - val_loss: 3.2403 - val_accuracy: 0.1726\n",
      "Epoch 18/100\n",
      "305/305 [==============================] - 215s 706ms/step - loss: 2.9062 - accuracy: 0.2051 - val_loss: 3.5950 - val_accuracy: 0.1780\n",
      "Epoch 19/100\n",
      "305/305 [==============================] - 221s 723ms/step - loss: 2.9049 - accuracy: 0.2048 - val_loss: 3.3404 - val_accuracy: 0.1660\n",
      "Epoch 20/100\n",
      "305/305 [==============================] - 205s 673ms/step - loss: 2.8779 - accuracy: 0.2054 - val_loss: 3.3017 - val_accuracy: 0.1747\n",
      "Epoch 21/100\n",
      "305/305 [==============================] - 203s 666ms/step - loss: 2.7964 - accuracy: 0.2250 - val_loss: 3.2582 - val_accuracy: 0.1854\n",
      "Epoch 22/100\n",
      "305/305 [==============================] - 206s 676ms/step - loss: 2.7983 - accuracy: 0.2168 - val_loss: 3.2164 - val_accuracy: 0.1983\n",
      "Epoch 23/100\n",
      "305/305 [==============================] - 203s 666ms/step - loss: 2.7847 - accuracy: 0.2237 - val_loss: 3.3872 - val_accuracy: 0.1916\n",
      "Epoch 24/100\n",
      "305/305 [==============================] - 203s 665ms/step - loss: 2.7668 - accuracy: 0.2272 - val_loss: 3.2406 - val_accuracy: 0.1921\n",
      "Epoch 25/100\n",
      "305/305 [==============================] - 202s 663ms/step - loss: 2.7597 - accuracy: 0.2273 - val_loss: 3.3197 - val_accuracy: 0.1974\n",
      "Epoch 26/100\n",
      "305/305 [==============================] - 202s 662ms/step - loss: 2.7123 - accuracy: 0.2456 - val_loss: 3.3240 - val_accuracy: 0.1842\n",
      "Epoch 27/100\n",
      "305/305 [==============================] - 202s 662ms/step - loss: 2.7274 - accuracy: 0.2423 - val_loss: 3.2518 - val_accuracy: 0.1945\n",
      "Epoch 28/100\n",
      "305/305 [==============================] - 204s 667ms/step - loss: 2.6939 - accuracy: 0.2378 - val_loss: 3.2348 - val_accuracy: 0.1896\n",
      "Epoch 29/100\n",
      "305/305 [==============================] - 203s 665ms/step - loss: 2.7360 - accuracy: 0.2339 - val_loss: 3.1567 - val_accuracy: 0.1999\n",
      "Epoch 30/100\n",
      "305/305 [==============================] - 203s 665ms/step - loss: 2.6925 - accuracy: 0.2450 - val_loss: 3.1537 - val_accuracy: 0.1958\n",
      "Epoch 31/100\n",
      "305/305 [==============================] - 203s 665ms/step - loss: 2.7117 - accuracy: 0.2434 - val_loss: 3.0869 - val_accuracy: 0.1966\n",
      "Epoch 32/100\n",
      "305/305 [==============================] - 203s 665ms/step - loss: 2.6802 - accuracy: 0.2492 - val_loss: 3.2001 - val_accuracy: 0.2086\n",
      "Epoch 33/100\n",
      "305/305 [==============================] - 203s 665ms/step - loss: 2.6852 - accuracy: 0.2537 - val_loss: 3.1086 - val_accuracy: 0.1933\n",
      "Epoch 34/100\n",
      "305/305 [==============================] - 202s 663ms/step - loss: 2.6742 - accuracy: 0.2484 - val_loss: 3.1408 - val_accuracy: 0.1991\n",
      "Epoch 35/100\n",
      "305/305 [==============================] - 203s 664ms/step - loss: 2.6840 - accuracy: 0.2516 - val_loss: 3.2170 - val_accuracy: 0.1879\n",
      "Epoch 36/100\n",
      "305/305 [==============================] - 203s 665ms/step - loss: 2.6850 - accuracy: 0.2451 - val_loss: 3.1074 - val_accuracy: 0.1995\n",
      "Epoch 37/100\n",
      "305/305 [==============================] - 205s 672ms/step - loss: 2.6810 - accuracy: 0.2541 - val_loss: 3.1403 - val_accuracy: 0.2140\n",
      "Epoch 38/100\n",
      "305/305 [==============================] - 203s 665ms/step - loss: 2.6830 - accuracy: 0.2468 - val_loss: 3.1063 - val_accuracy: 0.1983\n",
      "Epoch 39/100\n",
      "305/305 [==============================] - 202s 663ms/step - loss: 2.6850 - accuracy: 0.2531 - val_loss: 3.1262 - val_accuracy: 0.2049\n",
      "Epoch 40/100\n",
      "305/305 [==============================] - 203s 665ms/step - loss: 2.6774 - accuracy: 0.2491 - val_loss: 3.1205 - val_accuracy: 0.1904\n",
      "Epoch 41/100\n",
      "305/305 [==============================] - 202s 663ms/step - loss: 2.6781 - accuracy: 0.2513 - val_loss: 3.0903 - val_accuracy: 0.2061\n",
      "Epoch 42/100\n",
      "305/305 [==============================] - 203s 664ms/step - loss: 2.6749 - accuracy: 0.2446 - val_loss: 3.0834 - val_accuracy: 0.2024\n",
      "Epoch 43/100\n",
      "305/305 [==============================] - 204s 668ms/step - loss: 2.6738 - accuracy: 0.2458 - val_loss: 3.0956 - val_accuracy: 0.2012\n",
      "Epoch 44/100\n",
      "305/305 [==============================] - 204s 668ms/step - loss: 2.6688 - accuracy: 0.2559 - val_loss: 3.1550 - val_accuracy: 0.1966\n",
      "Epoch 45/100\n",
      "305/305 [==============================] - 204s 668ms/step - loss: 2.6789 - accuracy: 0.2486 - val_loss: 3.1265 - val_accuracy: 0.1970\n",
      "Epoch 46/100\n",
      "305/305 [==============================] - 204s 667ms/step - loss: 2.6854 - accuracy: 0.2500 - val_loss: 3.0967 - val_accuracy: 0.2007\n",
      "Epoch 47/100\n",
      "305/305 [==============================] - 204s 668ms/step - loss: 2.6746 - accuracy: 0.2511 - val_loss: 3.1166 - val_accuracy: 0.2032\n",
      "Epoch 48/100\n",
      "305/305 [==============================] - 203s 667ms/step - loss: 2.6284 - accuracy: 0.2588 - val_loss: 3.1388 - val_accuracy: 0.2003\n",
      "Epoch 49/100\n",
      "305/305 [==============================] - 203s 664ms/step - loss: 2.6896 - accuracy: 0.2492 - val_loss: 3.0934 - val_accuracy: 0.2065\n",
      "Epoch 50/100\n",
      "305/305 [==============================] - 203s 664ms/step - loss: 2.6734 - accuracy: 0.2491 - val_loss: 3.1184 - val_accuracy: 0.1978\n",
      "Epoch 51/100\n",
      "305/305 [==============================] - 202s 660ms/step - loss: 2.6494 - accuracy: 0.2647 - val_loss: 3.1138 - val_accuracy: 0.1974\n",
      "Epoch 52/100\n",
      "305/305 [==============================] - 202s 661ms/step - loss: 2.6490 - accuracy: 0.2585 - val_loss: 3.0947 - val_accuracy: 0.2028\n",
      "Epoch 53/100\n",
      "305/305 [==============================] - 202s 661ms/step - loss: 2.6744 - accuracy: 0.2480 - val_loss: 3.1219 - val_accuracy: 0.2070\n",
      "Epoch 54/100\n",
      "305/305 [==============================] - 202s 662ms/step - loss: 2.6667 - accuracy: 0.2497 - val_loss: 3.1169 - val_accuracy: 0.1974\n",
      "Epoch 55/100\n",
      "305/305 [==============================] - 202s 661ms/step - loss: 2.6757 - accuracy: 0.2504 - val_loss: 3.1268 - val_accuracy: 0.2024\n",
      "Epoch 56/100\n",
      "305/305 [==============================] - 202s 662ms/step - loss: 2.6741 - accuracy: 0.2486 - val_loss: 3.1191 - val_accuracy: 0.2024\n",
      "Epoch 57/100\n",
      "305/305 [==============================] - 202s 663ms/step - loss: 2.6508 - accuracy: 0.2688 - val_loss: 3.1330 - val_accuracy: 0.2049\n",
      "Epoch 58/100\n",
      "305/305 [==============================] - 202s 661ms/step - loss: 2.6538 - accuracy: 0.2453 - val_loss: 3.1058 - val_accuracy: 0.2094\n",
      "Epoch 59/100\n",
      "305/305 [==============================] - 202s 663ms/step - loss: 2.6936 - accuracy: 0.2529 - val_loss: 3.1142 - val_accuracy: 0.2003\n",
      "Epoch 60/100\n",
      "305/305 [==============================] - 201s 660ms/step - loss: 2.6526 - accuracy: 0.2562 - val_loss: 3.0765 - val_accuracy: 0.2016\n",
      "Epoch 61/100\n",
      "305/305 [==============================] - 202s 662ms/step - loss: 2.6741 - accuracy: 0.2499 - val_loss: 3.1782 - val_accuracy: 0.2090\n",
      "Epoch 62/100\n",
      "305/305 [==============================] - 202s 660ms/step - loss: 2.6397 - accuracy: 0.2638 - val_loss: 3.0958 - val_accuracy: 0.2065\n",
      "Epoch 63/100\n",
      "305/305 [==============================] - 202s 662ms/step - loss: 2.6981 - accuracy: 0.2494 - val_loss: 3.1511 - val_accuracy: 0.2016\n",
      "Epoch 64/100\n",
      "305/305 [==============================] - 202s 661ms/step - loss: 2.6705 - accuracy: 0.2560 - val_loss: 3.1916 - val_accuracy: 0.1974\n",
      "Epoch 65/100\n",
      "305/305 [==============================] - 202s 661ms/step - loss: 2.6633 - accuracy: 0.2624 - val_loss: 3.1449 - val_accuracy: 0.2016\n",
      "Epoch 66/100\n",
      "305/305 [==============================] - 202s 661ms/step - loss: 2.6589 - accuracy: 0.2591 - val_loss: 3.1048 - val_accuracy: 0.2049\n",
      "Epoch 67/100\n",
      "305/305 [==============================] - 203s 664ms/step - loss: 2.7038 - accuracy: 0.2534 - val_loss: 3.1483 - val_accuracy: 0.1950\n",
      "Epoch 68/100\n",
      "305/305 [==============================] - 203s 665ms/step - loss: 2.6631 - accuracy: 0.2536 - val_loss: 3.1325 - val_accuracy: 0.1950\n",
      "Epoch 69/100\n",
      "305/305 [==============================] - 203s 665ms/step - loss: 2.6690 - accuracy: 0.2553 - val_loss: 3.1287 - val_accuracy: 0.2090\n",
      "Epoch 70/100\n",
      "305/305 [==============================] - 203s 665ms/step - loss: 2.6378 - accuracy: 0.2632 - val_loss: 3.1126 - val_accuracy: 0.2016\n",
      "Epoch 71/100\n",
      "305/305 [==============================] - 203s 665ms/step - loss: 2.6323 - accuracy: 0.2523 - val_loss: 3.1252 - val_accuracy: 0.2024\n",
      "Epoch 72/100\n",
      "305/305 [==============================] - 203s 665ms/step - loss: 2.6553 - accuracy: 0.2595 - val_loss: 3.1487 - val_accuracy: 0.2003\n",
      "Epoch 73/100\n",
      "305/305 [==============================] - 203s 665ms/step - loss: 2.6602 - accuracy: 0.2520 - val_loss: 3.1081 - val_accuracy: 0.1929\n",
      "Epoch 74/100\n",
      "305/305 [==============================] - 204s 669ms/step - loss: 2.6857 - accuracy: 0.2547 - val_loss: 3.1069 - val_accuracy: 0.1987\n",
      "Epoch 75/100\n",
      "305/305 [==============================] - 204s 667ms/step - loss: 2.6508 - accuracy: 0.2569 - val_loss: 3.1269 - val_accuracy: 0.2012\n",
      "Epoch 76/100\n",
      "305/305 [==============================] - 203s 664ms/step - loss: 2.6624 - accuracy: 0.2560 - val_loss: 3.1588 - val_accuracy: 0.1892\n",
      "Epoch 77/100\n",
      "305/305 [==============================] - 203s 666ms/step - loss: 2.6659 - accuracy: 0.2568 - val_loss: 3.1327 - val_accuracy: 0.1966\n",
      "Epoch 78/100\n",
      "305/305 [==============================] - 203s 666ms/step - loss: 2.6688 - accuracy: 0.2546 - val_loss: 3.1437 - val_accuracy: 0.2007\n",
      "Epoch 79/100\n",
      "305/305 [==============================] - 203s 665ms/step - loss: 2.6654 - accuracy: 0.2559 - val_loss: 3.1463 - val_accuracy: 0.1912\n",
      "Epoch 80/100\n",
      "305/305 [==============================] - 204s 669ms/step - loss: 2.6581 - accuracy: 0.2534 - val_loss: 3.1467 - val_accuracy: 0.2012\n"
     ]
    }
   ],
   "source": [
    "batch = 128\n",
    "num_epochs = 100\n",
    "\n",
    "history = model.fit(train_generator,\n",
    "                    validation_data = val_generator,\n",
    "                    epochs=num_epochs,\n",
    "                    verbose=1,\n",
    "                    batch_size=batch,\n",
    "                    callbacks=[early_stop,monitor,lr_schedule])"
   ]
  },
  {
   "cell_type": "code",
   "execution_count": 12,
   "metadata": {
    "colab": {
     "base_uri": "https://localhost:8080/",
     "height": 295
    },
    "id": "YNizjKD6DHJU",
    "outputId": "7da869f3-79d0-4309-aacb-1d988f32d972"
   },
   "outputs": [
    {
     "data": {
      "image/png": "[encoded data removed]",
      "text/plain": [
       "<Figure size 432x288 with 1 Axes>"
      ]
     },
     "metadata": {
      "needs_background": "light",
      "tags": []
     },
     "output_type": "display_data"
    }
   ],
   "source": [
    "plt.plot(history.history['accuracy'])\n",
    "plt.plot(history.history['val_accuracy'])\n",
    "plt.title('model accuracy (training 1)')\n",
    "plt.ylabel('accuracy')\n",
    "plt.xlabel('epoch')\n",
    "plt.legend(['train', 'val'], loc='upper left')\n",
    "plt.show()"
   ]
  },
  {
   "cell_type": "code",
   "execution_count": 14,
   "metadata": {
    "colab": {
     "base_uri": "https://localhost:8080/"
    },
    "id": "O6AYuVSgDJqS",
    "outputId": "5cda2197-6ab8-4bb5-c94c-bc7ea93af5cc"
   },
   "outputs": [
    {
     "name": "stdout",
     "output_type": "stream",
     "text": [
      "126/126 [==============================] - 28s 224ms/step - loss: 2.9804 - accuracy: 0.2072\n"
     ]
    }
   ],
   "source": [
    "metrics = model.evaluate(test_generator)"
   ]
  },
  {
   "cell_type": "code",
   "execution_count": 15,
   "metadata": {
    "colab": {
     "base_uri": "https://localhost:8080/"
    },
    "id": "XUKomoYUDLWk",
    "outputId": "0636c739-6600-49cc-e5d6-89036804b013"
   },
   "outputs": [
    {
     "data": {
      "text/plain": [
       "0.21399006247520447"
      ]
     },
     "execution_count": 15,
     "metadata": {
      "tags": []
     },
     "output_type": "execute_result"
    }
   ],
   "source": [
    "max(history.history['val_accuracy'])"
   ]
  },
  {
   "cell_type": "code",
   "execution_count": 16,
   "metadata": {
    "colab": {
     "base_uri": "https://localhost:8080/"
    },
    "id": "CdtvE0FfDKDp",
    "outputId": "36de0a2b-4fb0-4417-c267-582c4b8109ee"
   },
   "outputs": [
    {
     "data": {
      "text/plain": [
       "0.2584419548511505"
      ]
     },
     "execution_count": 16,
     "metadata": {
      "tags": []
     },
     "output_type": "execute_result"
    }
   ],
   "source": [
    "max(history.history['accuracy'])"
   ]
  },
  {
   "cell_type": "code",
   "execution_count": null,
   "metadata": {
    "id": "FTl5-hSnhuE9"
   },
   "outputs": [],
   "source": []
  }
 ],
 "metadata": {
  "accelerator": "GPU",
  "colab": {
   "collapsed_sections": [],
   "machine_shape": "hm",
   "name": "ResNet50_49_classes_cropped_scratch.ipynb",
   "provenance": []
  },
  "kernelspec": {
   "display_name": "Python 3",
   "language": "python",
   "name": "python3"
  },
  "language_info": {
   "codemirror_mode": {
    "name": "ipython",
    "version": 3
   },
   "file_extension": ".py",
   "mimetype": "text/x-python",
   "name": "python",
   "nbconvert_exporter": "python",
   "pygments_lexer": "ipython3",
   "version": "3.7.4"
  }
 },
 "nbformat": 4,
 "nbformat_minor": 1
}
