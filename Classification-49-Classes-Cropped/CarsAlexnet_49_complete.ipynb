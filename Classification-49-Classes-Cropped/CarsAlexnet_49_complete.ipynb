{
  "nbformat": 4,
  "nbformat_minor": 0,
  "metadata": {
    "accelerator": "GPU",
    "colab": {
      "name": "CarsAlexnet_49_complete.ipynb",
      "provenance": [],
      "collapsed_sections": [],
      "machine_shape": "hm"
    },
    "kernelspec": {
      "display_name": "Python 3",
      "language": "python",
      "name": "python3"
    },
    "language_info": {
      "codemirror_mode": {
        "name": "ipython",
        "version": 3
      },
      "file_extension": ".py",
      "mimetype": "text/x-python",
      "name": "python",
      "nbconvert_exporter": "python",
      "pygments_lexer": "ipython3",
      "version": "3.8.8"
    }
  },
  "cells": [
    {
      "cell_type": "markdown",
      "metadata": {
        "id": "FMfNunisHYrL"
      },
      "source": [
        "## Alexnet w/ Stanford Cars Dataset (196 Classes)"
      ]
    },
    {
      "cell_type": "code",
      "metadata": {
        "colab": {
          "base_uri": "https://localhost:8080/"
        },
        "id": "qJDQomJvH-4r",
        "outputId": "30a36652-620d-462c-8edb-fdcd3ed7fd18"
      },
      "source": [
        "from google.colab import drive\n",
        "drive.mount('/content/gdrive')"
      ],
      "execution_count": 1,
      "outputs": [
        {
          "output_type": "stream",
          "text": [
            "Mounted at /content/gdrive\n"
          ],
          "name": "stdout"
        }
      ]
    },
    {
      "cell_type": "code",
      "metadata": {
        "id": "AJFXBEeoHYrN"
      },
      "source": [
        "# importing libraries\n",
        "import pandas as pd\n",
        "import numpy as np\n",
        "import matplotlib.pyplot as plt\n",
        "import cv2\n",
        "import tensorflow as tf\n",
        "\n",
        "import keras\n",
        "from keras.models import Sequential\n",
        "from keras.layers import Dense, Activation, Dropout, Flatten,Conv2D, MaxPool2D\n",
        "from keras.layers.normalization import BatchNormalization\n",
        "\n",
        "from tensorflow.keras.optimizers import SGD"
      ],
      "execution_count": 2,
      "outputs": []
    },
    {
      "cell_type": "code",
      "metadata": {
        "id": "VRfkbVjjcO4D"
      },
      "source": [
        "train_path = '/content/gdrive/MyDrive/Kaggle_StanfordCars/car_data_49/train'\n",
        "test_path = '/content/gdrive/MyDrive/Kaggle_StanfordCars/car_data_49/test'"
      ],
      "execution_count": 3,
      "outputs": []
    },
    {
      "cell_type": "code",
      "metadata": {
        "colab": {
          "base_uri": "https://localhost:8080/"
        },
        "id": "tiKe11WtpNPC",
        "outputId": "f9517a30-c0d0-4549-9d79-c6d37dd9fcc5"
      },
      "source": [
        "gen_params = {\"rescale\":1.0/255,\n",
        "              \"featurewise_center\":False,\n",
        "              \"samplewise_center\":False,\n",
        "              \"featurewise_std_normalization\":False,\n",
        "              \"samplewise_std_normalization\":False,\n",
        "              \"zca_whitening\":False,\n",
        "              \"rotation_range\":20,\n",
        "              \"width_shift_range\":0.1,\n",
        "              \"height_shift_range\":0.1,\n",
        "              \"shear_range\":0.2,\n",
        "              \"zoom_range\":0.1,\n",
        "              \"horizontal_flip\":True,\n",
        "              \"fill_mode\":'constant',\n",
        "              \"cval\": 0,\n",
        "              \"validation_split\":0.25}\n",
        "\n",
        "train_datagen = tf.keras.preprocessing.image.ImageDataGenerator(**gen_params)\n",
        "test_datagen = tf.keras.preprocessing.image.ImageDataGenerator(rescale = 1/255.0)\n",
        "\n",
        "\n",
        "## Data generator for training images\n",
        "train_generator = train_datagen.flow_from_directory(train_path,\n",
        "                                                    class_mode='categorical', batch_size = 32,\n",
        "                                                    target_size=(224,224),color_mode='rgb',shuffle = True,subset='training')\n",
        "\n",
        "val_generator = train_datagen.flow_from_directory(train_path,\n",
        "                                                    class_mode='categorical', batch_size = 32, \n",
        "                                                    target_size=(224,224),color_mode='rgb',shuffle = True,subset='validation')\n",
        "\n",
        "test_generator = test_datagen.flow_from_directory(test_path,\n",
        "                                                    class_mode='categorical', batch_size = 32,\n",
        "                                                    target_size=(224,224),color_mode='rgb',shuffle = True)"
      ],
      "execution_count": 4,
      "outputs": [
        {
          "output_type": "stream",
          "text": [
            "Found 9138 images belonging to 49 classes.\n",
            "Found 3021 images belonging to 49 classes.\n",
            "Found 4026 images belonging to 49 classes.\n"
          ],
          "name": "stdout"
        }
      ]
    },
    {
      "cell_type": "markdown",
      "metadata": {
        "id": "IIHJcEUlHYrV"
      },
      "source": [
        "<a id='implementation'></a>\n",
        "# Implementation"
      ]
    },
    {
      "cell_type": "code",
      "metadata": {
        "colab": {
          "base_uri": "https://localhost:8080/"
        },
        "id": "LbhuuwgjZ0RL",
        "outputId": "7fa08441-4744-4574-c6db-aeb23dea3931"
      },
      "source": [
        "model = Sequential(name=\"Alexnet_StanfordCars\")\n",
        "model.add(Conv2D(filters= 96, kernel_size= (11,11), strides=(4,4), padding='valid', input_shape = (224,224,3)))\n",
        "model.add(Activation('relu'))  \n",
        "model.add(MaxPool2D(pool_size=(3,3), strides= (2,2), padding='valid'))\n",
        "model.add(BatchNormalization())\n",
        "    \n",
        "model.add(Conv2D(filters=256, kernel_size=(5,5), strides=(1,1), padding='same'))\n",
        "model.add(Activation('relu'))\n",
        "model.add(MaxPool2D(pool_size=(3,3), strides=(2,2), padding='valid'))\n",
        "model.add(BatchNormalization())\n",
        "            \n",
        "model.add(Conv2D(filters=384, kernel_size=(3,3), strides=(1,1), padding='same'))\n",
        "model.add(Activation('relu'))\n",
        "model.add(BatchNormalization())\n",
        "        \n",
        "model.add(Conv2D(filters=384, kernel_size=(3,3), strides=(1,1), padding='same'))\n",
        "model.add(Activation('relu'))\n",
        "model.add(BatchNormalization())\n",
        "            \n",
        "model.add(Conv2D(filters=256, kernel_size=(3,3), strides=(1,1), padding='same'))\n",
        "model.add(Activation('relu'))\n",
        "model.add(BatchNormalization())\n",
        "model.add(MaxPool2D(pool_size=(3,3), strides=(2,2), padding='valid'))\n",
        "\n",
        "model.add(Flatten())\n",
        "\n",
        "model.add(Dense(units = 4096, activation = 'relu'))\n",
        "model.add(Dropout(0.5))\n",
        "\n",
        "model.add(Dense(units = 4096, activation = 'relu'))\n",
        "model.add(Dropout(0.5))\n",
        "                           \n",
        "model.add(Dense(units = 49, activation = 'softmax'))\n",
        "\n",
        "model.summary()"
      ],
      "execution_count": 5,
      "outputs": [
        {
          "output_type": "stream",
          "text": [
            "Model: \"Alexnet_StanfordCars\"\n",
            "_________________________________________________________________\n",
            "Layer (type)                 Output Shape              Param #   \n",
            "=================================================================\n",
            "conv2d (Conv2D)              (None, 54, 54, 96)        34944     \n",
            "_________________________________________________________________\n",
            "activation (Activation)      (None, 54, 54, 96)        0         \n",
            "_________________________________________________________________\n",
            "max_pooling2d (MaxPooling2D) (None, 26, 26, 96)        0         \n",
            "_________________________________________________________________\n",
            "batch_normalization (BatchNo (None, 26, 26, 96)        384       \n",
            "_________________________________________________________________\n",
            "conv2d_1 (Conv2D)            (None, 26, 26, 256)       614656    \n",
            "_________________________________________________________________\n",
            "activation_1 (Activation)    (None, 26, 26, 256)       0         \n",
            "_________________________________________________________________\n",
            "max_pooling2d_1 (MaxPooling2 (None, 12, 12, 256)       0         \n",
            "_________________________________________________________________\n",
            "batch_normalization_1 (Batch (None, 12, 12, 256)       1024      \n",
            "_________________________________________________________________\n",
            "conv2d_2 (Conv2D)            (None, 12, 12, 384)       885120    \n",
            "_________________________________________________________________\n",
            "activation_2 (Activation)    (None, 12, 12, 384)       0         \n",
            "_________________________________________________________________\n",
            "batch_normalization_2 (Batch (None, 12, 12, 384)       1536      \n",
            "_________________________________________________________________\n",
            "conv2d_3 (Conv2D)            (None, 12, 12, 384)       1327488   \n",
            "_________________________________________________________________\n",
            "activation_3 (Activation)    (None, 12, 12, 384)       0         \n",
            "_________________________________________________________________\n",
            "batch_normalization_3 (Batch (None, 12, 12, 384)       1536      \n",
            "_________________________________________________________________\n",
            "conv2d_4 (Conv2D)            (None, 12, 12, 256)       884992    \n",
            "_________________________________________________________________\n",
            "activation_4 (Activation)    (None, 12, 12, 256)       0         \n",
            "_________________________________________________________________\n",
            "batch_normalization_4 (Batch (None, 12, 12, 256)       1024      \n",
            "_________________________________________________________________\n",
            "max_pooling2d_2 (MaxPooling2 (None, 5, 5, 256)         0         \n",
            "_________________________________________________________________\n",
            "flatten (Flatten)            (None, 6400)              0         \n",
            "_________________________________________________________________\n",
            "dense (Dense)                (None, 4096)              26218496  \n",
            "_________________________________________________________________\n",
            "dropout (Dropout)            (None, 4096)              0         \n",
            "_________________________________________________________________\n",
            "dense_1 (Dense)              (None, 4096)              16781312  \n",
            "_________________________________________________________________\n",
            "dropout_1 (Dropout)          (None, 4096)              0         \n",
            "_________________________________________________________________\n",
            "dense_2 (Dense)              (None, 49)                200753    \n",
            "=================================================================\n",
            "Total params: 46,953,265\n",
            "Trainable params: 46,950,513\n",
            "Non-trainable params: 2,752\n",
            "_________________________________________________________________\n"
          ],
          "name": "stdout"
        }
      ]
    },
    {
      "cell_type": "code",
      "metadata": {
        "id": "RgG_bC5zHYrW"
      },
      "source": [
        "# set the SGD optimizer with lr of 0.01 and momentum of 0.9\n",
        "optimizer = SGD(lr = 0.01, momentum = 0.9)\n",
        "\n",
        "# compile the model\n",
        "model.compile(loss='categorical_crossentropy', optimizer=optimizer, metrics=['accuracy'])"
      ],
      "execution_count": 6,
      "outputs": []
    },
    {
      "cell_type": "code",
      "metadata": {
        "id": "uGLhynbNyLNk"
      },
      "source": [
        "model_name = \"alexnet_cars_49.h5\"\n",
        "early_stop = tf.keras.callbacks.EarlyStopping(monitor='val_loss', patience = 20)\n",
        "\n",
        "monitor = tf.keras.callbacks.ModelCheckpoint(model_name, monitor='val_loss',\\\n",
        "                                             verbose=0,save_best_only=True,\\\n",
        "                                             save_weights_only=True,\\\n",
        "                                             mode='min')\n",
        "# Learning rate schedule\n",
        "def scheduler(epoch, lr):\n",
        "    if epoch%4 == 0 and epoch!= 0:\n",
        "        lr = lr/2\n",
        "    return lr\n",
        "\n",
        "lr_schedule = tf.keras.callbacks.LearningRateScheduler(scheduler,verbose = 0)"
      ],
      "execution_count": 7,
      "outputs": []
    },
    {
      "cell_type": "code",
      "metadata": {
        "colab": {
          "base_uri": "https://localhost:8080/"
        },
        "id": "Yz8KBac6HYrW",
        "outputId": "5fe830f6-240e-4da7-b6cb-8e4a7e402730"
      },
      "source": [
        "# train the model\n",
        "batch = 128\n",
        "num_epochs = 100\n",
        "\n",
        "history = model.fit(train_generator,\n",
        "                    validation_data = val_generator,\n",
        "                    epochs=num_epochs,\n",
        "                    verbose=1,\n",
        "                    batch_size=batch,\n",
        "                    callbacks=[early_stop,monitor,lr_schedule])"
      ],
      "execution_count": 8,
      "outputs": [
        {
          "output_type": "stream",
          "text": [
            "Epoch 1/100\n",
            "286/286 [==============================] - 10206s 36s/step - loss: 6.1295 - accuracy: 0.0636 - val_loss: 3.5706 - val_accuracy: 0.0771\n",
            "Epoch 2/100\n",
            "286/286 [==============================] - 157s 550ms/step - loss: 3.6295 - accuracy: 0.0850 - val_loss: 3.5279 - val_accuracy: 0.1082\n",
            "Epoch 3/100\n",
            "286/286 [==============================] - 159s 555ms/step - loss: 3.5552 - accuracy: 0.0922 - val_loss: 3.4732 - val_accuracy: 0.1056\n",
            "Epoch 4/100\n",
            "286/286 [==============================] - 160s 558ms/step - loss: 3.5031 - accuracy: 0.0988 - val_loss: 3.4481 - val_accuracy: 0.1096\n",
            "Epoch 5/100\n",
            "286/286 [==============================] - 159s 555ms/step - loss: 3.4509 - accuracy: 0.0986 - val_loss: 3.4024 - val_accuracy: 0.1139\n",
            "Epoch 6/100\n",
            "286/286 [==============================] - 159s 557ms/step - loss: 3.3712 - accuracy: 0.1050 - val_loss: 3.3710 - val_accuracy: 0.1135\n",
            "Epoch 7/100\n",
            "286/286 [==============================] - 159s 558ms/step - loss: 3.3723 - accuracy: 0.1053 - val_loss: 3.3343 - val_accuracy: 0.1172\n",
            "Epoch 8/100\n",
            "286/286 [==============================] - 159s 556ms/step - loss: 3.3377 - accuracy: 0.1024 - val_loss: 3.3269 - val_accuracy: 0.1172\n",
            "Epoch 9/100\n",
            "286/286 [==============================] - 159s 555ms/step - loss: 3.3106 - accuracy: 0.1141 - val_loss: 3.2965 - val_accuracy: 0.1241\n",
            "Epoch 10/100\n",
            "286/286 [==============================] - 159s 556ms/step - loss: 3.2611 - accuracy: 0.1131 - val_loss: 3.2870 - val_accuracy: 0.1281\n",
            "Epoch 11/100\n",
            "286/286 [==============================] - 159s 556ms/step - loss: 3.2439 - accuracy: 0.1264 - val_loss: 3.2692 - val_accuracy: 0.1212\n",
            "Epoch 12/100\n",
            "286/286 [==============================] - 159s 555ms/step - loss: 3.2316 - accuracy: 0.1256 - val_loss: 3.2529 - val_accuracy: 0.1321\n",
            "Epoch 13/100\n",
            "286/286 [==============================] - 158s 554ms/step - loss: 3.2057 - accuracy: 0.1247 - val_loss: 3.2298 - val_accuracy: 0.1344\n",
            "Epoch 14/100\n",
            "286/286 [==============================] - 158s 552ms/step - loss: 3.1829 - accuracy: 0.1307 - val_loss: 3.2230 - val_accuracy: 0.1255\n",
            "Epoch 15/100\n",
            "286/286 [==============================] - 156s 546ms/step - loss: 3.1786 - accuracy: 0.1316 - val_loss: 3.2060 - val_accuracy: 0.1380\n",
            "Epoch 16/100\n",
            "286/286 [==============================] - 156s 547ms/step - loss: 3.1710 - accuracy: 0.1363 - val_loss: 3.1950 - val_accuracy: 0.1360\n",
            "Epoch 17/100\n",
            "286/286 [==============================] - 156s 547ms/step - loss: 3.1308 - accuracy: 0.1381 - val_loss: 3.1797 - val_accuracy: 0.1423\n",
            "Epoch 18/100\n",
            "286/286 [==============================] - 157s 551ms/step - loss: 3.1252 - accuracy: 0.1419 - val_loss: 3.1737 - val_accuracy: 0.1390\n",
            "Epoch 19/100\n",
            "286/286 [==============================] - 158s 553ms/step - loss: 3.1172 - accuracy: 0.1456 - val_loss: 3.1716 - val_accuracy: 0.1463\n",
            "Epoch 20/100\n",
            "286/286 [==============================] - 160s 560ms/step - loss: 3.0981 - accuracy: 0.1513 - val_loss: 3.1694 - val_accuracy: 0.1437\n",
            "Epoch 21/100\n",
            "286/286 [==============================] - 158s 553ms/step - loss: 3.1101 - accuracy: 0.1460 - val_loss: 3.1605 - val_accuracy: 0.1437\n",
            "Epoch 22/100\n",
            "286/286 [==============================] - 159s 555ms/step - loss: 3.0720 - accuracy: 0.1509 - val_loss: 3.1523 - val_accuracy: 0.1523\n",
            "Epoch 23/100\n",
            "286/286 [==============================] - 158s 554ms/step - loss: 3.0678 - accuracy: 0.1648 - val_loss: 3.1628 - val_accuracy: 0.1473\n",
            "Epoch 24/100\n",
            "286/286 [==============================] - 158s 554ms/step - loss: 3.1031 - accuracy: 0.1494 - val_loss: 3.1505 - val_accuracy: 0.1456\n",
            "Epoch 25/100\n",
            "286/286 [==============================] - 158s 553ms/step - loss: 3.0853 - accuracy: 0.1531 - val_loss: 3.1497 - val_accuracy: 0.1440\n",
            "Epoch 26/100\n",
            "286/286 [==============================] - 158s 554ms/step - loss: 3.0824 - accuracy: 0.1523 - val_loss: 3.1453 - val_accuracy: 0.1480\n",
            "Epoch 27/100\n",
            "286/286 [==============================] - 158s 554ms/step - loss: 3.0562 - accuracy: 0.1504 - val_loss: 3.1381 - val_accuracy: 0.1496\n",
            "Epoch 28/100\n",
            "286/286 [==============================] - 159s 555ms/step - loss: 3.0769 - accuracy: 0.1444 - val_loss: 3.1431 - val_accuracy: 0.1473\n",
            "Epoch 29/100\n",
            "286/286 [==============================] - 158s 554ms/step - loss: 3.0524 - accuracy: 0.1642 - val_loss: 3.1434 - val_accuracy: 0.1519\n",
            "Epoch 30/100\n",
            "286/286 [==============================] - 157s 549ms/step - loss: 3.0581 - accuracy: 0.1522 - val_loss: 3.1369 - val_accuracy: 0.1519\n",
            "Epoch 31/100\n",
            "286/286 [==============================] - 156s 546ms/step - loss: 3.0622 - accuracy: 0.1530 - val_loss: 3.1406 - val_accuracy: 0.1460\n",
            "Epoch 32/100\n",
            "286/286 [==============================] - 156s 545ms/step - loss: 3.0573 - accuracy: 0.1573 - val_loss: 3.1408 - val_accuracy: 0.1506\n",
            "Epoch 33/100\n",
            "286/286 [==============================] - 156s 546ms/step - loss: 3.0559 - accuracy: 0.1612 - val_loss: 3.1327 - val_accuracy: 0.1546\n",
            "Epoch 34/100\n",
            "286/286 [==============================] - 156s 547ms/step - loss: 3.0663 - accuracy: 0.1529 - val_loss: 3.1375 - val_accuracy: 0.1480\n",
            "Epoch 35/100\n",
            "286/286 [==============================] - 157s 548ms/step - loss: 3.0625 - accuracy: 0.1504 - val_loss: 3.1377 - val_accuracy: 0.1513\n",
            "Epoch 36/100\n",
            "286/286 [==============================] - 156s 547ms/step - loss: 3.0658 - accuracy: 0.1563 - val_loss: 3.1291 - val_accuracy: 0.1503\n",
            "Epoch 37/100\n",
            "286/286 [==============================] - 156s 547ms/step - loss: 3.0594 - accuracy: 0.1524 - val_loss: 3.1363 - val_accuracy: 0.1589\n",
            "Epoch 38/100\n",
            "286/286 [==============================] - 156s 546ms/step - loss: 3.0486 - accuracy: 0.1591 - val_loss: 3.1377 - val_accuracy: 0.1599\n",
            "Epoch 39/100\n",
            "286/286 [==============================] - 156s 547ms/step - loss: 3.0495 - accuracy: 0.1634 - val_loss: 3.1274 - val_accuracy: 0.1552\n",
            "Epoch 40/100\n",
            "286/286 [==============================] - 156s 545ms/step - loss: 3.0767 - accuracy: 0.1517 - val_loss: 3.1413 - val_accuracy: 0.1503\n",
            "Epoch 41/100\n",
            "286/286 [==============================] - 156s 546ms/step - loss: 3.0473 - accuracy: 0.1600 - val_loss: 3.1294 - val_accuracy: 0.1572\n",
            "Epoch 42/100\n",
            "286/286 [==============================] - 156s 545ms/step - loss: 3.0489 - accuracy: 0.1606 - val_loss: 3.1384 - val_accuracy: 0.1483\n",
            "Epoch 43/100\n",
            "286/286 [==============================] - 156s 546ms/step - loss: 3.0612 - accuracy: 0.1566 - val_loss: 3.1329 - val_accuracy: 0.1523\n",
            "Epoch 44/100\n",
            "286/286 [==============================] - 156s 547ms/step - loss: 3.0631 - accuracy: 0.1589 - val_loss: 3.1274 - val_accuracy: 0.1516\n",
            "Epoch 45/100\n",
            "286/286 [==============================] - 156s 545ms/step - loss: 3.0611 - accuracy: 0.1564 - val_loss: 3.1272 - val_accuracy: 0.1592\n",
            "Epoch 46/100\n",
            "286/286 [==============================] - 156s 547ms/step - loss: 3.0543 - accuracy: 0.1669 - val_loss: 3.1370 - val_accuracy: 0.1536\n",
            "Epoch 47/100\n",
            "286/286 [==============================] - 156s 546ms/step - loss: 3.0608 - accuracy: 0.1521 - val_loss: 3.1362 - val_accuracy: 0.1506\n",
            "Epoch 48/100\n",
            "286/286 [==============================] - 156s 546ms/step - loss: 3.0547 - accuracy: 0.1563 - val_loss: 3.1291 - val_accuracy: 0.1513\n",
            "Epoch 49/100\n",
            "286/286 [==============================] - 156s 545ms/step - loss: 3.0727 - accuracy: 0.1571 - val_loss: 3.1383 - val_accuracy: 0.1569\n",
            "Epoch 50/100\n",
            "286/286 [==============================] - 155s 543ms/step - loss: 3.0464 - accuracy: 0.1575 - val_loss: 3.1273 - val_accuracy: 0.1559\n",
            "Epoch 51/100\n",
            "286/286 [==============================] - 155s 543ms/step - loss: 3.0612 - accuracy: 0.1621 - val_loss: 3.1285 - val_accuracy: 0.1509\n",
            "Epoch 52/100\n",
            "286/286 [==============================] - 155s 542ms/step - loss: 3.0661 - accuracy: 0.1550 - val_loss: 3.1295 - val_accuracy: 0.1592\n",
            "Epoch 53/100\n",
            "286/286 [==============================] - 155s 542ms/step - loss: 3.0243 - accuracy: 0.1575 - val_loss: 3.1331 - val_accuracy: 0.1443\n",
            "Epoch 54/100\n",
            "286/286 [==============================] - 155s 543ms/step - loss: 3.0374 - accuracy: 0.1554 - val_loss: 3.1260 - val_accuracy: 0.1635\n",
            "Epoch 55/100\n",
            "286/286 [==============================] - 155s 541ms/step - loss: 3.0736 - accuracy: 0.1575 - val_loss: 3.1300 - val_accuracy: 0.1543\n",
            "Epoch 56/100\n",
            "286/286 [==============================] - 155s 542ms/step - loss: 3.0597 - accuracy: 0.1522 - val_loss: 3.1360 - val_accuracy: 0.1516\n",
            "Epoch 57/100\n",
            "286/286 [==============================] - 154s 540ms/step - loss: 3.0609 - accuracy: 0.1543 - val_loss: 3.1422 - val_accuracy: 0.1503\n",
            "Epoch 58/100\n",
            "286/286 [==============================] - 154s 540ms/step - loss: 3.0388 - accuracy: 0.1563 - val_loss: 3.1260 - val_accuracy: 0.1572\n",
            "Epoch 59/100\n",
            "286/286 [==============================] - 155s 542ms/step - loss: 3.0633 - accuracy: 0.1582 - val_loss: 3.1357 - val_accuracy: 0.1476\n",
            "Epoch 60/100\n",
            "286/286 [==============================] - 156s 547ms/step - loss: 3.0339 - accuracy: 0.1636 - val_loss: 3.1345 - val_accuracy: 0.1582\n",
            "Epoch 61/100\n",
            "286/286 [==============================] - 155s 542ms/step - loss: 3.0586 - accuracy: 0.1593 - val_loss: 3.1429 - val_accuracy: 0.1556\n",
            "Epoch 62/100\n",
            "286/286 [==============================] - 156s 544ms/step - loss: 3.0629 - accuracy: 0.1570 - val_loss: 3.1366 - val_accuracy: 0.1493\n",
            "Epoch 63/100\n",
            "286/286 [==============================] - 156s 544ms/step - loss: 3.0528 - accuracy: 0.1493 - val_loss: 3.1335 - val_accuracy: 0.1513\n",
            "Epoch 64/100\n",
            "286/286 [==============================] - 155s 541ms/step - loss: 3.0617 - accuracy: 0.1578 - val_loss: 3.1359 - val_accuracy: 0.1536\n",
            "Epoch 65/100\n",
            "286/286 [==============================] - 155s 542ms/step - loss: 3.0691 - accuracy: 0.1464 - val_loss: 3.1337 - val_accuracy: 0.1556\n",
            "Epoch 66/100\n",
            "286/286 [==============================] - 154s 540ms/step - loss: 3.0554 - accuracy: 0.1500 - val_loss: 3.1298 - val_accuracy: 0.1552\n",
            "Epoch 67/100\n",
            "286/286 [==============================] - 155s 542ms/step - loss: 3.0547 - accuracy: 0.1603 - val_loss: 3.1252 - val_accuracy: 0.1536\n",
            "Epoch 68/100\n",
            "286/286 [==============================] - 155s 542ms/step - loss: 3.0657 - accuracy: 0.1583 - val_loss: 3.1375 - val_accuracy: 0.1506\n",
            "Epoch 69/100\n",
            "286/286 [==============================] - 155s 542ms/step - loss: 3.0597 - accuracy: 0.1561 - val_loss: 3.1366 - val_accuracy: 0.1496\n",
            "Epoch 70/100\n",
            "286/286 [==============================] - 156s 545ms/step - loss: 3.0477 - accuracy: 0.1577 - val_loss: 3.1295 - val_accuracy: 0.1552\n",
            "Epoch 71/100\n",
            "286/286 [==============================] - 156s 547ms/step - loss: 3.0503 - accuracy: 0.1554 - val_loss: 3.1358 - val_accuracy: 0.1536\n",
            "Epoch 72/100\n",
            "286/286 [==============================] - 156s 547ms/step - loss: 3.0521 - accuracy: 0.1594 - val_loss: 3.1351 - val_accuracy: 0.1519\n",
            "Epoch 73/100\n",
            "286/286 [==============================] - 156s 546ms/step - loss: 3.0740 - accuracy: 0.1545 - val_loss: 3.1278 - val_accuracy: 0.1576\n",
            "Epoch 74/100\n",
            "286/286 [==============================] - 155s 541ms/step - loss: 3.0661 - accuracy: 0.1547 - val_loss: 3.1296 - val_accuracy: 0.1476\n",
            "Epoch 75/100\n",
            "286/286 [==============================] - 154s 540ms/step - loss: 3.0449 - accuracy: 0.1548 - val_loss: 3.1357 - val_accuracy: 0.1579\n",
            "Epoch 76/100\n",
            "286/286 [==============================] - 154s 540ms/step - loss: 3.0869 - accuracy: 0.1517 - val_loss: 3.1362 - val_accuracy: 0.1526\n",
            "Epoch 77/100\n",
            "286/286 [==============================] - 155s 542ms/step - loss: 3.0411 - accuracy: 0.1705 - val_loss: 3.1343 - val_accuracy: 0.1549\n",
            "Epoch 78/100\n",
            "286/286 [==============================] - 154s 540ms/step - loss: 3.0360 - accuracy: 0.1597 - val_loss: 3.1337 - val_accuracy: 0.1496\n",
            "Epoch 79/100\n",
            "286/286 [==============================] - 155s 541ms/step - loss: 3.0685 - accuracy: 0.1513 - val_loss: 3.1327 - val_accuracy: 0.1549\n",
            "Epoch 80/100\n",
            "286/286 [==============================] - 155s 541ms/step - loss: 3.0476 - accuracy: 0.1645 - val_loss: 3.1327 - val_accuracy: 0.1516\n",
            "Epoch 81/100\n",
            "286/286 [==============================] - 154s 540ms/step - loss: 3.0557 - accuracy: 0.1577 - val_loss: 3.1314 - val_accuracy: 0.1533\n",
            "Epoch 82/100\n",
            "286/286 [==============================] - 155s 541ms/step - loss: 3.0410 - accuracy: 0.1609 - val_loss: 3.1280 - val_accuracy: 0.1569\n",
            "Epoch 83/100\n",
            "286/286 [==============================] - 155s 544ms/step - loss: 3.0493 - accuracy: 0.1615 - val_loss: 3.1373 - val_accuracy: 0.1503\n",
            "Epoch 84/100\n",
            "286/286 [==============================] - 156s 547ms/step - loss: 3.0534 - accuracy: 0.1513 - val_loss: 3.1417 - val_accuracy: 0.1516\n",
            "Epoch 85/100\n",
            "286/286 [==============================] - 158s 553ms/step - loss: 3.0694 - accuracy: 0.1569 - val_loss: 3.1368 - val_accuracy: 0.1506\n",
            "Epoch 86/100\n",
            "286/286 [==============================] - 158s 554ms/step - loss: 3.0566 - accuracy: 0.1640 - val_loss: 3.1326 - val_accuracy: 0.1529\n",
            "Epoch 87/100\n",
            "286/286 [==============================] - 158s 554ms/step - loss: 3.0530 - accuracy: 0.1503 - val_loss: 3.1325 - val_accuracy: 0.1552\n"
          ],
          "name": "stdout"
        }
      ]
    },
    {
      "cell_type": "markdown",
      "metadata": {
        "id": "LVBu43GmHYrW"
      },
      "source": [
        "<a id='analyze'></a>\n",
        "# Analyze training history"
      ]
    },
    {
      "cell_type": "code",
      "metadata": {
        "id": "axwnJNtoU8gV",
        "colab": {
          "base_uri": "https://localhost:8080/"
        },
        "outputId": "8630af54-589d-4446-c28d-7e9bd7f74520"
      },
      "source": [
        "max(history.history['accuracy'])"
      ],
      "execution_count": 9,
      "outputs": [
        {
          "output_type": "execute_result",
          "data": {
            "text/plain": [
              "0.16447800397872925"
            ]
          },
          "metadata": {
            "tags": []
          },
          "execution_count": 9
        }
      ]
    },
    {
      "cell_type": "code",
      "metadata": {
        "id": "6lv2ILejWv5K",
        "colab": {
          "base_uri": "https://localhost:8080/"
        },
        "outputId": "f957a058-2b5f-4b6f-c4f4-7dcc88b87d29"
      },
      "source": [
        "max(history.history['val_accuracy'])"
      ],
      "execution_count": 10,
      "outputs": [
        {
          "output_type": "execute_result",
          "data": {
            "text/plain": [
              "0.16352201998233795"
            ]
          },
          "metadata": {
            "tags": []
          },
          "execution_count": 10
        }
      ]
    },
    {
      "cell_type": "code",
      "metadata": {
        "id": "x_TkvpYYHYrW",
        "colab": {
          "base_uri": "https://localhost:8080/",
          "height": 295
        },
        "outputId": "029ff8bf-3651-4a9e-e9aa-0c67206864dc"
      },
      "source": [
        "plt.plot(history.history['accuracy'])\n",
        "plt.plot(history.history['val_accuracy'])\n",
        "plt.title('Model Accuracy')\n",
        "plt.ylabel('Accuracy')\n",
        "plt.xlabel('Epochs')\n",
        "plt.legend(['train', 'val'], loc='upper left')\n",
        "plt.show()"
      ],
      "execution_count": 11,
      "outputs": [
        {
          "output_type": "display_data",
          "data": {
            "image/png": "[encoded data removed]",
            "text/plain": [
              "<Figure size 432x288 with 1 Axes>"
            ]
          },
          "metadata": {
            "tags": [],
            "needs_background": "light"
          }
        }
      ]
    },
    {
      "cell_type": "markdown",
      "metadata": {
        "id": "tRJRV8u_HYrW"
      },
      "source": [
        "<a id='prediction'></a>\n",
        "# Prediction"
      ]
    },
    {
      "cell_type": "code",
      "metadata": {
        "id": "GMjuq_pxy4K2",
        "colab": {
          "base_uri": "https://localhost:8080/"
        },
        "outputId": "3dccef2a-32cf-423f-9f5a-9fded26d2d2d"
      },
      "source": [
        "print(model_name)"
      ],
      "execution_count": 12,
      "outputs": [
        {
          "output_type": "stream",
          "text": [
            "alexnet_cars_49.h5\n"
          ],
          "name": "stdout"
        }
      ]
    },
    {
      "cell_type": "code",
      "metadata": {
        "id": "KMMXJ4b4ugkC",
        "colab": {
          "base_uri": "https://localhost:8080/"
        },
        "outputId": "c2e8b154-150b-4500-f195-8cee2f59e6c1"
      },
      "source": [
        "model.load_weights(model_name)\n",
        "metrics = model.evaluate(test_generator)"
      ],
      "execution_count": 13,
      "outputs": [
        {
          "output_type": "stream",
          "text": [
            "126/126 [==============================] - 2785s 22s/step - loss: 3.0954 - accuracy: 0.1547\n"
          ],
          "name": "stdout"
        }
      ]
    }
  ]
}