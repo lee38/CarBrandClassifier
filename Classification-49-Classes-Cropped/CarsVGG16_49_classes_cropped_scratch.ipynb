{
 "cells": [
  {
   "cell_type": "markdown",
   "metadata": {},
   "source": [
    "# VGG-16 Model Trained from Scratch\n",
    "\n",
    "This file is used to train a VGG-16 model from scratch on the adapted cars dataset (49 classes, images cropped around the bounding boxes, and 50% more training data)."
   ]
  },
  {
   "cell_type": "code",
   "execution_count": 1,
   "metadata": {
    "id": "z7-Ng7EJkwsd"
   },
   "outputs": [],
   "source": [
    "# importing libaries\n",
    "import matplotlib.pylab as plt\n",
    "import numpy as np\n",
    "import tensorflow as tf\n",
    "import pandas as pd\n",
    "import cv2\n",
    "from keras.models import Sequential\n",
    "from keras.layers import Dense, Conv2D, MaxPool2D, Flatten, Input\n",
    "from keras.applications.vgg16 import VGG16"
   ]
  },
  {
   "cell_type": "code",
   "execution_count": 4,
   "metadata": {
    "colab": {
     "base_uri": "https://localhost:8080/"
    },
    "id": "_A_9rjoHk35t",
    "outputId": "447b11db-9fa3-46db-8822-5268e1482862"
   },
   "outputs": [
    {
     "name": "stdout",
     "output_type": "stream",
     "text": [
      "Mounted at /content/gdrive\n"
     ]
    }
   ],
   "source": [
    "from google.colab import drive\n",
    "drive.mount('/content/gdrive', force_remount=True)"
   ]
  },
  {
   "cell_type": "code",
   "execution_count": 3,
   "metadata": {
    "colab": {
     "base_uri": "https://localhost:8080/",
     "height": 35
    },
    "id": "jPxsvUexk6nH",
    "outputId": "88cf0ab0-a16a-4c6f-87de-313b8eae24b6"
   },
   "outputs": [
    {
     "data": {
      "application/vnd.google.colaboratory.intrinsic+json": {
       "type": "string"
      },
      "text/plain": [
       "'/device:GPU:0'"
      ]
     },
     "execution_count": 3,
     "metadata": {
      "tags": []
     },
     "output_type": "execute_result"
    }
   ],
   "source": [
    "tf.test.gpu_device_name()"
   ]
  },
  {
   "cell_type": "code",
   "execution_count": null,
   "metadata": {
    "id": "7RlUBi_YqciH"
   },
   "outputs": [],
   "source": [
    "%cd /content/gdrive/MyDrive/Kaggle/data\n",
    "!unzip \\*.zip && rm *.zip"
   ]
  },
  {
   "cell_type": "code",
   "execution_count": 15,
   "metadata": {
    "colab": {
     "base_uri": "https://localhost:8080/"
    },
    "id": "MYhyFg-9lBGc",
    "outputId": "53b63a24-a186-494d-8291-2f2f40e3e5db"
   },
   "outputs": [
    {
     "name": "stdout",
     "output_type": "stream",
     "text": [
      "Found 9743 images belonging to 49 classes.\n",
      "Found 2416 images belonging to 49 classes.\n",
      "Found 4026 images belonging to 49 classes.\n"
     ]
    }
   ],
   "source": [
    "gen_params = {\"rescale\":1.0/255,\n",
    "              \"featurewise_center\":False,\n",
    "              \"samplewise_center\":False,\n",
    "              \"featurewise_std_normalization\":False,\n",
    "              \"samplewise_std_normalization\":False,\n",
    "              \"zca_whitening\":False,\n",
    "              \"rotation_range\":20,\n",
    "              \"width_shift_range\":0.1,\n",
    "              \"height_shift_range\":0.1,\n",
    "              \"shear_range\":0.2,\n",
    "              \"zoom_range\":0.1,\n",
    "              \"horizontal_flip\":True,\n",
    "              \"fill_mode\":'constant',\n",
    "              \"cval\": 0,\n",
    "              \"validation_split\":0.2}\n",
    "\n",
    "train_datagen = tf.keras.preprocessing.image.ImageDataGenerator(**gen_params)\n",
    "test_datagen = tf.keras.preprocessing.image.ImageDataGenerator(rescale = 1/255.0)\n",
    "\n",
    "\n",
    "## Data generator for training images\n",
    "train_generator = train_datagen.flow_from_directory('/content/gdrive/MyDrive/Kaggle/data/car_data/train',\n",
    "                                                    class_mode='categorical', batch_size = 32,\n",
    "                                                    target_size=(224,224),color_mode='rgb',shuffle = True,subset='training')\n",
    "\n",
    "val_generator = train_datagen.flow_from_directory('/content/gdrive/MyDrive/Kaggle/data/car_data/train',\n",
    "                                                    class_mode='categorical', batch_size = 32, \n",
    "                                                    target_size=(224,224),color_mode='rgb',shuffle = True,subset='validation')\n",
    "\n",
    "test_generator = test_datagen.flow_from_directory('/content/gdrive/MyDrive/Kaggle/data/car_data/test',\n",
    "                                                    class_mode='categorical', batch_size = 32,\n",
    "                                                    target_size=(224,224),color_mode='rgb',shuffle = True)"
   ]
  },
  {
   "cell_type": "code",
   "execution_count": 22,
   "metadata": {
    "id": "brjZwPSClCj8"
   },
   "outputs": [],
   "source": [
    "def build_vgg16_model(img_height=224,img_width=224,num_classes=49):\n",
    "\n",
    "    input = Input(shape =(224,224,3))\n",
    "    \n",
    "    # 1st Conv Block\n",
    "    x = Conv2D (filters =64, kernel_size =3, padding ='same', activation='relu')(input)\n",
    "    x = Conv2D (filters =64, kernel_size =3, padding ='same', activation='relu')(x)\n",
    "    x = MaxPool2D(pool_size =2, strides =2, padding ='same')(x)\n",
    "\n",
    "    # 2nd Conv Block\n",
    "    x = Conv2D (filters =128, kernel_size =3, padding ='same', activation='relu')(x)\n",
    "    x = Conv2D (filters =128, kernel_size =3, padding ='same', activation='relu')(x)\n",
    "    x = MaxPool2D(pool_size =2, strides =2, padding ='same')(x)\n",
    "\n",
    "    # 3rd Conv block  \n",
    "    x = Conv2D (filters =256, kernel_size =3, padding ='same', activation='relu')(x) \n",
    "    x = Conv2D (filters =256, kernel_size =3, padding ='same', activation='relu')(x) \n",
    "    x = Conv2D (filters =256, kernel_size =3, padding ='same', activation='relu')(x) \n",
    "    x = MaxPool2D(pool_size =2, strides =2, padding ='same')(x)\n",
    "\n",
    "    # 4th Conv block\n",
    "    x = Conv2D (filters =512, kernel_size =3, padding ='same', activation='relu')(x)\n",
    "    x = Conv2D (filters =512, kernel_size =3, padding ='same', activation='relu')(x)\n",
    "    x = Conv2D (filters =512, kernel_size =3, padding ='same', activation='relu')(x)\n",
    "    x = MaxPool2D(pool_size =2, strides =2, padding ='same')(x)\n",
    "\n",
    "    # 5th Conv block\n",
    "    x = Conv2D (filters =512, kernel_size =3, padding ='same', activation='relu')(x)\n",
    "    x = Conv2D (filters =512, kernel_size =3, padding ='same', activation='relu')(x)\n",
    "    x = Conv2D (filters =512, kernel_size =3, padding ='same', activation='relu')(x)\n",
    "    x = MaxPool2D(pool_size =2, strides =2, padding ='same')(x)\n",
    "\n",
    "    # Fully connected layers  \n",
    "    x = Flatten()(x) \n",
    "    x = Dense(units = 4096, activation ='relu')(x) \n",
    "    x = Dense(units = 4096, activation ='relu')(x) \n",
    "    out = Dense(units = 49, activation ='softmax')(x)\n",
    "\n",
    "    #compile and return\n",
    "    model = tf.keras.Model(inputs = input, outputs =out)  \n",
    "    model.compile(optimizer=tf.keras.optimizers.Adam(lr = 1e-4),loss='categorical_crossentropy',metrics=['accuracy'])\n",
    "    \n",
    "    return model"
   ]
  },
  {
   "cell_type": "code",
   "execution_count": 23,
   "metadata": {
    "colab": {
     "base_uri": "https://localhost:8080/"
    },
    "id": "3WvDMH8LlD7J",
    "outputId": "e01d8d16-74a8-468e-914e-e8d025cd26e2"
   },
   "outputs": [
    {
     "name": "stdout",
     "output_type": "stream",
     "text": [
      "Model: \"model_2\"\n",
      "_________________________________________________________________\n",
      "Layer (type)                 Output Shape              Param #   \n",
      "=================================================================\n",
      "input_5 (InputLayer)         [(None, 224, 224, 3)]     0         \n",
      "_________________________________________________________________\n",
      "conv2d_26 (Conv2D)           (None, 224, 224, 64)      1792      \n",
      "_________________________________________________________________\n",
      "conv2d_27 (Conv2D)           (None, 224, 224, 64)      36928     \n",
      "_________________________________________________________________\n",
      "max_pooling2d_10 (MaxPooling (None, 112, 112, 64)      0         \n",
      "_________________________________________________________________\n",
      "conv2d_28 (Conv2D)           (None, 112, 112, 128)     73856     \n",
      "_________________________________________________________________\n",
      "conv2d_29 (Conv2D)           (None, 112, 112, 128)     147584    \n",
      "_________________________________________________________________\n",
      "max_pooling2d_11 (MaxPooling (None, 56, 56, 128)       0         \n",
      "_________________________________________________________________\n",
      "conv2d_30 (Conv2D)           (None, 56, 56, 256)       295168    \n",
      "_________________________________________________________________\n",
      "conv2d_31 (Conv2D)           (None, 56, 56, 256)       590080    \n",
      "_________________________________________________________________\n",
      "conv2d_32 (Conv2D)           (None, 56, 56, 256)       590080    \n",
      "_________________________________________________________________\n",
      "max_pooling2d_12 (MaxPooling (None, 28, 28, 256)       0         \n",
      "_________________________________________________________________\n",
      "conv2d_33 (Conv2D)           (None, 28, 28, 512)       1180160   \n",
      "_________________________________________________________________\n",
      "conv2d_34 (Conv2D)           (None, 28, 28, 512)       2359808   \n",
      "_________________________________________________________________\n",
      "conv2d_35 (Conv2D)           (None, 28, 28, 512)       2359808   \n",
      "_________________________________________________________________\n",
      "max_pooling2d_13 (MaxPooling (None, 14, 14, 512)       0         \n",
      "_________________________________________________________________\n",
      "conv2d_36 (Conv2D)           (None, 14, 14, 512)       2359808   \n",
      "_________________________________________________________________\n",
      "conv2d_37 (Conv2D)           (None, 14, 14, 512)       2359808   \n",
      "_________________________________________________________________\n",
      "conv2d_38 (Conv2D)           (None, 14, 14, 512)       2359808   \n",
      "_________________________________________________________________\n",
      "max_pooling2d_14 (MaxPooling (None, 7, 7, 512)         0         \n",
      "_________________________________________________________________\n",
      "flatten_2 (Flatten)          (None, 25088)             0         \n",
      "_________________________________________________________________\n",
      "dense_6 (Dense)              (None, 4096)              102764544 \n",
      "_________________________________________________________________\n",
      "dense_7 (Dense)              (None, 4096)              16781312  \n",
      "_________________________________________________________________\n",
      "dense_8 (Dense)              (None, 49)                200753    \n",
      "=================================================================\n",
      "Total params: 134,461,297\n",
      "Trainable params: 134,461,297\n",
      "Non-trainable params: 0\n",
      "_________________________________________________________________\n"
     ]
    }
   ],
   "source": [
    "model = build_vgg16_model()\n",
    "model.summary()"
   ]
  },
  {
   "cell_type": "code",
   "execution_count": 24,
   "metadata": {
    "id": "SSBAS05dlFoI"
   },
   "outputs": [],
   "source": [
    "model_name = \"vgg16_cars_49_classes_from_scratch.h5\"\n",
    "early_stop = tf.keras.callbacks.EarlyStopping(monitor='val_loss', patience = 20)\n",
    "\n",
    "monitor = tf.keras.callbacks.ModelCheckpoint(model_name, monitor='val_loss',\\\n",
    "                                             verbose=0,save_best_only=True,\\\n",
    "                                             save_weights_only=True,\\\n",
    "                                             mode='min')\n",
    "# Learning rate schedule\n",
    "def scheduler(epoch, lr):\n",
    "    if epoch%4 == 0 and epoch!= 0:\n",
    "        lr = lr/2\n",
    "    return lr\n",
    "\n",
    "lr_schedule = tf.keras.callbacks.LearningRateScheduler(scheduler,verbose = 0)"
   ]
  },
  {
   "cell_type": "code",
   "execution_count": 25,
   "metadata": {
    "colab": {
     "base_uri": "https://localhost:8080/"
    },
    "id": "DJQzA4ZMmS7t",
    "outputId": "cc7fe131-10f5-41f6-d7c6-46ef71374859"
   },
   "outputs": [
    {
     "name": "stdout",
     "output_type": "stream",
     "text": [
      "Epoch 1/100\n",
      "305/305 [==============================] - 306s 1000ms/step - loss: 3.5314 - accuracy: 0.1002 - val_loss: 3.4478 - val_accuracy: 0.1118\n",
      "Epoch 2/100\n",
      "305/305 [==============================] - 300s 981ms/step - loss: 3.4468 - accuracy: 0.1100 - val_loss: 3.4364 - val_accuracy: 0.1118\n",
      "Epoch 3/100\n",
      "305/305 [==============================] - 296s 970ms/step - loss: 3.4322 - accuracy: 0.1094 - val_loss: 3.4344 - val_accuracy: 0.1118\n",
      "Epoch 4/100\n",
      "305/305 [==============================] - 293s 959ms/step - loss: 3.4572 - accuracy: 0.1084 - val_loss: 3.4357 - val_accuracy: 0.1118\n",
      "Epoch 5/100\n",
      "305/305 [==============================] - 288s 945ms/step - loss: 3.4347 - accuracy: 0.1117 - val_loss: 3.4327 - val_accuracy: 0.1118\n",
      "Epoch 6/100\n",
      "305/305 [==============================] - 290s 951ms/step - loss: 3.4389 - accuracy: 0.1120 - val_loss: 3.3836 - val_accuracy: 0.1163\n",
      "Epoch 7/100\n",
      "305/305 [==============================] - 288s 942ms/step - loss: 3.4023 - accuracy: 0.1116 - val_loss: 3.3730 - val_accuracy: 0.1175\n",
      "Epoch 8/100\n",
      "305/305 [==============================] - 288s 942ms/step - loss: 3.3754 - accuracy: 0.1188 - val_loss: 3.3582 - val_accuracy: 0.1262\n",
      "Epoch 9/100\n",
      "305/305 [==============================] - 286s 935ms/step - loss: 3.3342 - accuracy: 0.1251 - val_loss: 3.3156 - val_accuracy: 0.1246\n",
      "Epoch 10/100\n",
      "305/305 [==============================] - 286s 937ms/step - loss: 3.3175 - accuracy: 0.1255 - val_loss: 3.2757 - val_accuracy: 0.1333\n",
      "Epoch 11/100\n",
      "305/305 [==============================] - 287s 938ms/step - loss: 3.2842 - accuracy: 0.1309 - val_loss: 3.2434 - val_accuracy: 0.1432\n",
      "Epoch 12/100\n",
      "305/305 [==============================] - 288s 942ms/step - loss: 3.2289 - accuracy: 0.1489 - val_loss: 3.2103 - val_accuracy: 0.1387\n",
      "Epoch 13/100\n",
      "305/305 [==============================] - 288s 944ms/step - loss: 3.1802 - accuracy: 0.1568 - val_loss: 3.1741 - val_accuracy: 0.1511\n",
      "Epoch 14/100\n",
      "305/305 [==============================] - 292s 956ms/step - loss: 3.1219 - accuracy: 0.1635 - val_loss: 3.1416 - val_accuracy: 0.1552\n",
      "Epoch 15/100\n",
      "305/305 [==============================] - 290s 948ms/step - loss: 3.0820 - accuracy: 0.1684 - val_loss: 3.1208 - val_accuracy: 0.1527\n",
      "Epoch 16/100\n",
      "305/305 [==============================] - 288s 944ms/step - loss: 3.0807 - accuracy: 0.1730 - val_loss: 3.1033 - val_accuracy: 0.1747\n",
      "Epoch 17/100\n",
      "305/305 [==============================] - 288s 941ms/step - loss: 2.9836 - accuracy: 0.1864 - val_loss: 3.0724 - val_accuracy: 0.1705\n",
      "Epoch 18/100\n",
      "305/305 [==============================] - 287s 941ms/step - loss: 2.9800 - accuracy: 0.1837 - val_loss: 3.0449 - val_accuracy: 0.1685\n",
      "Epoch 19/100\n",
      "305/305 [==============================] - 289s 944ms/step - loss: 2.9224 - accuracy: 0.1958 - val_loss: 3.0386 - val_accuracy: 0.1709\n",
      "Epoch 20/100\n",
      "305/305 [==============================] - 288s 942ms/step - loss: 2.9034 - accuracy: 0.2098 - val_loss: 3.0110 - val_accuracy: 0.1780\n",
      "Epoch 21/100\n",
      "305/305 [==============================] - 288s 942ms/step - loss: 2.8627 - accuracy: 0.2121 - val_loss: 3.0080 - val_accuracy: 0.1784\n",
      "Epoch 22/100\n",
      "305/305 [==============================] - 288s 941ms/step - loss: 2.8590 - accuracy: 0.2106 - val_loss: 2.9848 - val_accuracy: 0.1854\n",
      "Epoch 23/100\n",
      "305/305 [==============================] - 288s 942ms/step - loss: 2.8391 - accuracy: 0.2098 - val_loss: 2.9763 - val_accuracy: 0.1829\n",
      "Epoch 24/100\n",
      "305/305 [==============================] - 288s 943ms/step - loss: 2.8257 - accuracy: 0.2163 - val_loss: 2.9715 - val_accuracy: 0.1858\n",
      "Epoch 25/100\n",
      "305/305 [==============================] - 287s 941ms/step - loss: 2.7921 - accuracy: 0.2242 - val_loss: 2.9596 - val_accuracy: 0.1950\n",
      "Epoch 26/100\n",
      "305/305 [==============================] - 288s 942ms/step - loss: 2.7648 - accuracy: 0.2369 - val_loss: 2.9549 - val_accuracy: 0.1916\n",
      "Epoch 27/100\n",
      "305/305 [==============================] - 287s 940ms/step - loss: 2.7787 - accuracy: 0.2371 - val_loss: 2.9510 - val_accuracy: 0.1916\n",
      "Epoch 28/100\n",
      "305/305 [==============================] - 288s 942ms/step - loss: 2.7627 - accuracy: 0.2263 - val_loss: 2.9467 - val_accuracy: 0.1929\n",
      "Epoch 29/100\n",
      "305/305 [==============================] - 288s 943ms/step - loss: 2.7556 - accuracy: 0.2325 - val_loss: 2.9609 - val_accuracy: 0.1925\n",
      "Epoch 30/100\n",
      "305/305 [==============================] - 287s 939ms/step - loss: 2.7559 - accuracy: 0.2266 - val_loss: 2.9505 - val_accuracy: 0.1887\n",
      "Epoch 31/100\n",
      "305/305 [==============================] - 289s 948ms/step - loss: 2.7432 - accuracy: 0.2327 - val_loss: 2.9441 - val_accuracy: 0.1954\n",
      "Epoch 32/100\n",
      "305/305 [==============================] - 291s 953ms/step - loss: 2.7234 - accuracy: 0.2426 - val_loss: 2.9648 - val_accuracy: 0.1796\n",
      "Epoch 33/100\n",
      "305/305 [==============================] - 288s 944ms/step - loss: 2.7459 - accuracy: 0.2367 - val_loss: 2.9395 - val_accuracy: 0.1850\n",
      "Epoch 34/100\n",
      "305/305 [==============================] - 288s 941ms/step - loss: 2.7487 - accuracy: 0.2339 - val_loss: 2.9323 - val_accuracy: 0.1941\n",
      "Epoch 35/100\n",
      "305/305 [==============================] - 290s 948ms/step - loss: 2.7456 - accuracy: 0.2365 - val_loss: 2.9327 - val_accuracy: 0.1933\n",
      "Epoch 36/100\n",
      "305/305 [==============================] - 290s 949ms/step - loss: 2.7184 - accuracy: 0.2429 - val_loss: 2.9352 - val_accuracy: 0.1896\n",
      "Epoch 37/100\n",
      "305/305 [==============================] - 290s 950ms/step - loss: 2.6900 - accuracy: 0.2510 - val_loss: 2.9233 - val_accuracy: 0.1929\n",
      "Epoch 38/100\n",
      "305/305 [==============================] - 290s 950ms/step - loss: 2.7100 - accuracy: 0.2446 - val_loss: 2.9577 - val_accuracy: 0.1937\n",
      "Epoch 39/100\n",
      "305/305 [==============================] - 289s 947ms/step - loss: 2.7432 - accuracy: 0.2412 - val_loss: 2.9435 - val_accuracy: 0.1838\n",
      "Epoch 40/100\n",
      "305/305 [==============================] - 287s 940ms/step - loss: 2.7334 - accuracy: 0.2397 - val_loss: 2.9393 - val_accuracy: 0.1970\n",
      "Epoch 41/100\n",
      "305/305 [==============================] - 287s 940ms/step - loss: 2.7404 - accuracy: 0.2436 - val_loss: 2.9332 - val_accuracy: 0.1879\n",
      "Epoch 42/100\n",
      "305/305 [==============================] - 288s 943ms/step - loss: 2.7226 - accuracy: 0.2358 - val_loss: 2.9419 - val_accuracy: 0.1892\n",
      "Epoch 43/100\n",
      "305/305 [==============================] - 287s 941ms/step - loss: 2.7374 - accuracy: 0.2375 - val_loss: 2.9262 - val_accuracy: 0.1925\n",
      "Epoch 44/100\n",
      "305/305 [==============================] - 287s 940ms/step - loss: 2.7229 - accuracy: 0.2457 - val_loss: 2.9286 - val_accuracy: 0.1970\n",
      "Epoch 45/100\n",
      "305/305 [==============================] - 288s 943ms/step - loss: 2.7284 - accuracy: 0.2383 - val_loss: 2.9432 - val_accuracy: 0.1950\n",
      "Epoch 46/100\n",
      "305/305 [==============================] - 287s 942ms/step - loss: 2.7018 - accuracy: 0.2429 - val_loss: 2.9566 - val_accuracy: 0.1925\n",
      "Epoch 47/100\n",
      "305/305 [==============================] - 289s 947ms/step - loss: 2.7395 - accuracy: 0.2373 - val_loss: 2.9298 - val_accuracy: 0.1883\n",
      "Epoch 48/100\n",
      "305/305 [==============================] - 287s 940ms/step - loss: 2.7514 - accuracy: 0.2398 - val_loss: 2.9240 - val_accuracy: 0.2016\n",
      "Epoch 49/100\n",
      "305/305 [==============================] - 287s 940ms/step - loss: 2.7384 - accuracy: 0.2375 - val_loss: 2.9361 - val_accuracy: 0.1945\n",
      "Epoch 50/100\n",
      "305/305 [==============================] - 286s 938ms/step - loss: 2.6939 - accuracy: 0.2511 - val_loss: 2.9367 - val_accuracy: 0.1950\n",
      "Epoch 51/100\n",
      "305/305 [==============================] - 287s 940ms/step - loss: 2.7070 - accuracy: 0.2441 - val_loss: 2.9152 - val_accuracy: 0.1921\n",
      "Epoch 52/100\n",
      "305/305 [==============================] - 288s 943ms/step - loss: 2.7137 - accuracy: 0.2363 - val_loss: 2.9062 - val_accuracy: 0.2032\n",
      "Epoch 53/100\n",
      "305/305 [==============================] - 287s 941ms/step - loss: 2.7135 - accuracy: 0.2446 - val_loss: 2.9339 - val_accuracy: 0.1945\n",
      "Epoch 54/100\n",
      "305/305 [==============================] - 287s 940ms/step - loss: 2.7334 - accuracy: 0.2397 - val_loss: 2.9395 - val_accuracy: 0.2003\n",
      "Epoch 55/100\n",
      "305/305 [==============================] - 287s 940ms/step - loss: 2.7326 - accuracy: 0.2364 - val_loss: 2.9356 - val_accuracy: 0.1908\n",
      "Epoch 56/100\n",
      "305/305 [==============================] - 288s 943ms/step - loss: 2.7073 - accuracy: 0.2455 - val_loss: 2.9310 - val_accuracy: 0.2003\n",
      "Epoch 57/100\n",
      "305/305 [==============================] - 288s 944ms/step - loss: 2.7226 - accuracy: 0.2412 - val_loss: 2.9343 - val_accuracy: 0.1929\n",
      "Epoch 58/100\n",
      "305/305 [==============================] - 286s 938ms/step - loss: 2.7177 - accuracy: 0.2444 - val_loss: 2.9252 - val_accuracy: 0.1941\n",
      "Epoch 59/100\n",
      "305/305 [==============================] - 288s 943ms/step - loss: 2.7221 - accuracy: 0.2397 - val_loss: 2.9257 - val_accuracy: 0.1900\n",
      "Epoch 60/100\n",
      "305/305 [==============================] - 287s 940ms/step - loss: 2.7040 - accuracy: 0.2532 - val_loss: 2.9456 - val_accuracy: 0.1937\n",
      "Epoch 61/100\n",
      "305/305 [==============================] - 289s 946ms/step - loss: 2.6876 - accuracy: 0.2488 - val_loss: 2.9343 - val_accuracy: 0.1916\n",
      "Epoch 62/100\n",
      "305/305 [==============================] - 290s 950ms/step - loss: 2.7135 - accuracy: 0.2493 - val_loss: 2.9282 - val_accuracy: 0.1954\n",
      "Epoch 63/100\n",
      "305/305 [==============================] - 287s 940ms/step - loss: 2.7072 - accuracy: 0.2442 - val_loss: 2.9317 - val_accuracy: 0.2024\n",
      "Epoch 64/100\n",
      "305/305 [==============================] - 287s 939ms/step - loss: 2.7209 - accuracy: 0.2477 - val_loss: 2.9392 - val_accuracy: 0.1879\n",
      "Epoch 65/100\n",
      "305/305 [==============================] - 287s 939ms/step - loss: 2.7037 - accuracy: 0.2470 - val_loss: 2.9292 - val_accuracy: 0.1978\n",
      "Epoch 66/100\n",
      "305/305 [==============================] - 286s 938ms/step - loss: 2.7295 - accuracy: 0.2446 - val_loss: 2.9226 - val_accuracy: 0.1966\n",
      "Epoch 67/100\n",
      "305/305 [==============================] - 287s 939ms/step - loss: 2.7048 - accuracy: 0.2469 - val_loss: 2.9240 - val_accuracy: 0.1966\n",
      "Epoch 68/100\n",
      "305/305 [==============================] - 287s 938ms/step - loss: 2.6847 - accuracy: 0.2587 - val_loss: 2.9454 - val_accuracy: 0.1863\n",
      "Epoch 69/100\n",
      "305/305 [==============================] - 287s 939ms/step - loss: 2.7021 - accuracy: 0.2468 - val_loss: 2.9232 - val_accuracy: 0.1978\n",
      "Epoch 70/100\n",
      "305/305 [==============================] - 286s 938ms/step - loss: 2.7267 - accuracy: 0.2430 - val_loss: 2.9548 - val_accuracy: 0.2024\n",
      "Epoch 71/100\n",
      "305/305 [==============================] - 286s 937ms/step - loss: 2.7262 - accuracy: 0.2442 - val_loss: 2.9381 - val_accuracy: 0.1925\n",
      "Epoch 72/100\n",
      "305/305 [==============================] - 286s 937ms/step - loss: 2.7227 - accuracy: 0.2430 - val_loss: 2.9433 - val_accuracy: 0.1950\n"
     ]
    }
   ],
   "source": [
    "batch = 128\n",
    "num_epochs = 100\n",
    "\n",
    "history = model.fit(train_generator,\n",
    "                    validation_data = val_generator,\n",
    "                    epochs=num_epochs,\n",
    "                    verbose=1,\n",
    "                    batch_size=batch,\n",
    "                    callbacks=[early_stop,monitor,lr_schedule])"
   ]
  },
  {
   "cell_type": "code",
   "execution_count": 26,
   "metadata": {
    "colab": {
     "base_uri": "https://localhost:8080/",
     "height": 295
    },
    "id": "v1ze2lLImfoS",
    "outputId": "49e5463a-0578-4f70-8f62-447d28ad043e"
   },
   "outputs": [
    {
     "data": {
      "image/png": "[encoded data removed]",
      "text/plain": [
       "<Figure size 432x288 with 1 Axes>"
      ]
     },
     "metadata": {
      "needs_background": "light",
      "tags": []
     },
     "output_type": "display_data"
    }
   ],
   "source": [
    "plt.plot(history.history['accuracy'])\n",
    "plt.plot(history.history['val_accuracy'])\n",
    "plt.title('model accuracy (training 1)')\n",
    "plt.ylabel('accuracy')\n",
    "plt.xlabel('epoch')\n",
    "plt.legend(['train', 'val'], loc='upper left')\n",
    "plt.show()"
   ]
  },
  {
   "cell_type": "code",
   "execution_count": 27,
   "metadata": {
    "colab": {
     "base_uri": "https://localhost:8080/"
    },
    "id": "Eg2u1XPamgQf",
    "outputId": "94e0ec78-5b5c-42cc-cfd8-2aa6b372275b"
   },
   "outputs": [
    {
     "name": "stdout",
     "output_type": "stream",
     "text": [
      "126/126 [==============================] - 48s 379ms/step - loss: 2.8902 - accuracy: 0.2064\n"
     ]
    }
   ],
   "source": [
    "model.load_weights(model_name)\n",
    "metrics = model.evaluate(test_generator)"
   ]
  },
  {
   "cell_type": "code",
   "execution_count": 28,
   "metadata": {
    "colab": {
     "base_uri": "https://localhost:8080/"
    },
    "id": "PGlviU-5HXq3",
    "outputId": "164f322d-56ad-4f69-f24d-057c3b90fde9"
   },
   "outputs": [
    {
     "data": {
      "text/plain": [
       "0.20322847366333008"
      ]
     },
     "execution_count": 28,
     "metadata": {
      "tags": []
     },
     "output_type": "execute_result"
    }
   ],
   "source": [
    "max(history.history['val_accuracy'])"
   ]
  },
  {
   "cell_type": "code",
   "execution_count": 29,
   "metadata": {
    "colab": {
     "base_uri": "https://localhost:8080/"
    },
    "id": "bEBXLs0wHhON",
    "outputId": "bc869120-edad-42dd-acfb-cfb1c7c524ed"
   },
   "outputs": [
    {
     "data": {
      "text/plain": [
       "0.24899928271770477"
      ]
     },
     "execution_count": 29,
     "metadata": {
      "tags": []
     },
     "output_type": "execute_result"
    }
   ],
   "source": [
    "max(history.history['accuracy'])"
   ]
  },
  {
   "cell_type": "code",
   "execution_count": null,
   "metadata": {
    "id": "FTl5-hSnhuE9"
   },
   "outputs": [],
   "source": []
  }
 ],
 "metadata": {
  "accelerator": "GPU",
  "colab": {
   "collapsed_sections": [],
   "machine_shape": "hm",
   "name": "CarsVGG16_49_classes_cropped(scratch).ipynb",
   "provenance": []
  },
  "kernelspec": {
   "display_name": "Python 3",
   "language": "python",
   "name": "python3"
  },
  "language_info": {
   "codemirror_mode": {
    "name": "ipython",
    "version": 3
   },
   "file_extension": ".py",
   "mimetype": "text/x-python",
   "name": "python",
   "nbconvert_exporter": "python",
   "pygments_lexer": "ipython3",
   "version": "3.7.4"
  }
 },
 "nbformat": 4,
 "nbformat_minor": 1
}
